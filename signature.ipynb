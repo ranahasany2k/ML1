{
 "cells": [
  {
   "cell_type": "code",
   "execution_count": 145,
   "metadata": {},
   "outputs": [],
   "source": [
    "import cv2\n",
    "import numpy as np\n",
    "\n",
    "image = cv2.imread('abc.png') \n",
    "\n",
    "hsv_image = cv2.cvtColor(image, cv2.COLOR_BGR2HSV)\n",
    "\n",
    "lower_red = np.array([0, 100, 100])\n",
    "upper_red = np.array([10, 255, 255])\n",
    "red_mask = cv2.inRange(hsv_image, lower_red, upper_red)\n",
    "\n",
    "image[red_mask == 255] = [0, 0, 0] \n",
    "cv2.imshow('Modified Image', image)\n",
    "cv2.waitKey(0)\n",
    "cv2.destroyAllWindows()\n"
   ]
  },
  {
   "cell_type": "code",
   "execution_count": 146,
   "metadata": {},
   "outputs": [],
   "source": [
    "for i in range(1,91):\n",
    "    lower_black = np.array([0, 0, 0])\n",
    "    upper_black = np.array([180, 255, 30])\n",
    "    image = cv2.imread(f'1 ({i}).png')\n",
    "    hsv_image = cv2.cvtColor(image, cv2.COLOR_BGR2HSV)\n",
    "    black_mask = cv2.inRange(hsv_image, lower_black, upper_black)\n",
    "    black_mask_resized = cv2.resize(black_mask, (120, 60), interpolation=cv2.INTER_NEAREST)\n",
    "\n",
    "    background = cv2.imread('idcard.jpg') \n",
    "    mask_inv = cv2.bitwise_not(black_mask_resized)\n",
    "    roi_mask_3d = cv2.merge([mask_inv, mask_inv, mask_inv])\n",
    "    background[230:290, 360:480, :] = cv2.bitwise_and(background[230:290, 360:480, :], roi_mask_3d)\n",
    "    output_filename = f'Sign_no_{i}.png'\n",
    "    cv2.imwrite(output_filename,background)\n",
    "\n"
   ]
  },
  {
   "cell_type": "code",
   "execution_count": null,
   "metadata": {},
   "outputs": [],
   "source": []
  }
 ],
 "metadata": {
  "kernelspec": {
   "display_name": "Python 3",
   "language": "python",
   "name": "python3"
  },
  "language_info": {
   "codemirror_mode": {
    "name": "ipython",
    "version": 3
   },
   "file_extension": ".py",
   "mimetype": "text/x-python",
   "name": "python",
   "nbconvert_exporter": "python",
   "pygments_lexer": "ipython3",
   "version": "3.11.4"
  }
 },
 "nbformat": 4,
 "nbformat_minor": 2
}
