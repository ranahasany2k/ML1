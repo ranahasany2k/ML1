{
  "cells": [
    {
      "cell_type": "markdown",
      "metadata": {
        "id": "6293cc50"
      },
      "source": [
        "# 100 numpy exercises\n",
        "\n",
        "This is a collection of exercises that have been collected in the numpy mailing list, on stack overflow\n",
        "and in the numpy documentation. The goal of this collection is to offer a quick reference for both old\n",
        "and new users but also to provide a set of exercises for those who teach.\n",
        "\n",
        "\n",
        "If you find an error or think you've a better way to solve some of them, feel\n",
        "free to open an issue at <https://github.com/rougier/numpy-100>."
      ],
      "id": "6293cc50"
    },
    {
      "cell_type": "markdown",
      "metadata": {
        "id": "a167c052"
      },
      "source": [
        "File automatically generated. See the documentation to update questions/answers/hints programmatically."
      ],
      "id": "a167c052"
    },
    {
      "cell_type": "markdown",
      "metadata": {
        "id": "57fc0ee5"
      },
      "source": [
        "Run the `initialize.py` module, then for each question you can query the\n",
        "answer or an hint with `hint(n)` or `answer(n)` for `n` question number."
      ],
      "id": "57fc0ee5"
    },
    {
      "cell_type": "code",
      "execution_count": null,
      "metadata": {
        "colab": {
          "base_uri": "https://localhost:8080/",
          "height": 511
        },
        "id": "3d46fba2",
        "outputId": "c5089bef-009f-40d6-8f33-b53264633f92"
      },
      "outputs": [
        {
          "ename": "Exception",
          "evalue": "ignored",
          "output_type": "error",
          "traceback": [
            "\u001b[0;31m---------------------------------------------------------------------------\u001b[0m",
            "\u001b[0;31mOSError\u001b[0m                                   Traceback (most recent call last)",
            "\u001b[0;32m/usr/local/lib/python3.10/dist-packages/IPython/core/magics/execution.py\u001b[0m in \u001b[0;36mrun\u001b[0;34m(self, parameter_s, runner, file_finder)\u001b[0m\n\u001b[1;32m    713\u001b[0m             \u001b[0mfpath\u001b[0m \u001b[0;34m=\u001b[0m \u001b[0marg_lst\u001b[0m\u001b[0;34m[\u001b[0m\u001b[0;36m0\u001b[0m\u001b[0;34m]\u001b[0m\u001b[0;34m\u001b[0m\u001b[0;34m\u001b[0m\u001b[0m\n\u001b[0;32m--> 714\u001b[0;31m             \u001b[0mfilename\u001b[0m \u001b[0;34m=\u001b[0m \u001b[0mfile_finder\u001b[0m\u001b[0;34m(\u001b[0m\u001b[0mfpath\u001b[0m\u001b[0;34m)\u001b[0m\u001b[0;34m\u001b[0m\u001b[0;34m\u001b[0m\u001b[0m\n\u001b[0m\u001b[1;32m    715\u001b[0m         \u001b[0;32mexcept\u001b[0m \u001b[0mIndexError\u001b[0m\u001b[0;34m:\u001b[0m\u001b[0;34m\u001b[0m\u001b[0;34m\u001b[0m\u001b[0m\n",
            "\u001b[0;32m/usr/local/lib/python3.10/dist-packages/IPython/utils/path.py\u001b[0m in \u001b[0;36mget_py_filename\u001b[0;34m(name, force_win32)\u001b[0m\n\u001b[1;32m    108\u001b[0m     \u001b[0;32melse\u001b[0m\u001b[0;34m:\u001b[0m\u001b[0;34m\u001b[0m\u001b[0;34m\u001b[0m\u001b[0m\n\u001b[0;32m--> 109\u001b[0;31m         \u001b[0;32mraise\u001b[0m \u001b[0mIOError\u001b[0m\u001b[0;34m(\u001b[0m\u001b[0;34m'File `%r` not found.'\u001b[0m \u001b[0;34m%\u001b[0m \u001b[0mname\u001b[0m\u001b[0;34m)\u001b[0m\u001b[0;34m\u001b[0m\u001b[0;34m\u001b[0m\u001b[0m\n\u001b[0m\u001b[1;32m    110\u001b[0m \u001b[0;34m\u001b[0m\u001b[0m\n",
            "\u001b[0;31mOSError\u001b[0m: File `'initialise.py'` not found.",
            "\nDuring handling of the above exception, another exception occurred:\n",
            "\u001b[0;31mException\u001b[0m                                 Traceback (most recent call last)",
            "\u001b[0;32m<ipython-input-1-79a9b8b96c92>\u001b[0m in \u001b[0;36m<cell line: 1>\u001b[0;34m()\u001b[0m\n\u001b[0;32m----> 1\u001b[0;31m \u001b[0mget_ipython\u001b[0m\u001b[0;34m(\u001b[0m\u001b[0;34m)\u001b[0m\u001b[0;34m.\u001b[0m\u001b[0mrun_line_magic\u001b[0m\u001b[0;34m(\u001b[0m\u001b[0;34m'run'\u001b[0m\u001b[0;34m,\u001b[0m \u001b[0;34m'initialise.py'\u001b[0m\u001b[0;34m)\u001b[0m\u001b[0;34m\u001b[0m\u001b[0;34m\u001b[0m\u001b[0m\n\u001b[0m",
            "\u001b[0;32m/usr/local/lib/python3.10/dist-packages/IPython/core/interactiveshell.py\u001b[0m in \u001b[0;36mrun_line_magic\u001b[0;34m(self, magic_name, line, _stack_depth)\u001b[0m\n\u001b[1;32m   2416\u001b[0m                 \u001b[0mkwargs\u001b[0m\u001b[0;34m[\u001b[0m\u001b[0;34m'local_ns'\u001b[0m\u001b[0;34m]\u001b[0m \u001b[0;34m=\u001b[0m \u001b[0mself\u001b[0m\u001b[0;34m.\u001b[0m\u001b[0mget_local_scope\u001b[0m\u001b[0;34m(\u001b[0m\u001b[0mstack_depth\u001b[0m\u001b[0;34m)\u001b[0m\u001b[0;34m\u001b[0m\u001b[0;34m\u001b[0m\u001b[0m\n\u001b[1;32m   2417\u001b[0m             \u001b[0;32mwith\u001b[0m \u001b[0mself\u001b[0m\u001b[0;34m.\u001b[0m\u001b[0mbuiltin_trap\u001b[0m\u001b[0;34m:\u001b[0m\u001b[0;34m\u001b[0m\u001b[0;34m\u001b[0m\u001b[0m\n\u001b[0;32m-> 2418\u001b[0;31m                 \u001b[0mresult\u001b[0m \u001b[0;34m=\u001b[0m \u001b[0mfn\u001b[0m\u001b[0;34m(\u001b[0m\u001b[0;34m*\u001b[0m\u001b[0margs\u001b[0m\u001b[0;34m,\u001b[0m \u001b[0;34m**\u001b[0m\u001b[0mkwargs\u001b[0m\u001b[0;34m)\u001b[0m\u001b[0;34m\u001b[0m\u001b[0;34m\u001b[0m\u001b[0m\n\u001b[0m\u001b[1;32m   2419\u001b[0m             \u001b[0;32mreturn\u001b[0m \u001b[0mresult\u001b[0m\u001b[0;34m\u001b[0m\u001b[0;34m\u001b[0m\u001b[0m\n\u001b[1;32m   2420\u001b[0m \u001b[0;34m\u001b[0m\u001b[0m\n",
            "\u001b[0;32m<decorator-gen-52>\u001b[0m in \u001b[0;36mrun\u001b[0;34m(self, parameter_s, runner, file_finder)\u001b[0m\n",
            "\u001b[0;32m/usr/local/lib/python3.10/dist-packages/IPython/core/magic.py\u001b[0m in \u001b[0;36m<lambda>\u001b[0;34m(f, *a, **k)\u001b[0m\n\u001b[1;32m    185\u001b[0m     \u001b[0;31m# but it's overkill for just that one bit of state.\u001b[0m\u001b[0;34m\u001b[0m\u001b[0;34m\u001b[0m\u001b[0m\n\u001b[1;32m    186\u001b[0m     \u001b[0;32mdef\u001b[0m \u001b[0mmagic_deco\u001b[0m\u001b[0;34m(\u001b[0m\u001b[0marg\u001b[0m\u001b[0;34m)\u001b[0m\u001b[0;34m:\u001b[0m\u001b[0;34m\u001b[0m\u001b[0;34m\u001b[0m\u001b[0m\n\u001b[0;32m--> 187\u001b[0;31m         \u001b[0mcall\u001b[0m \u001b[0;34m=\u001b[0m \u001b[0;32mlambda\u001b[0m \u001b[0mf\u001b[0m\u001b[0;34m,\u001b[0m \u001b[0;34m*\u001b[0m\u001b[0ma\u001b[0m\u001b[0;34m,\u001b[0m \u001b[0;34m**\u001b[0m\u001b[0mk\u001b[0m\u001b[0;34m:\u001b[0m \u001b[0mf\u001b[0m\u001b[0;34m(\u001b[0m\u001b[0;34m*\u001b[0m\u001b[0ma\u001b[0m\u001b[0;34m,\u001b[0m \u001b[0;34m**\u001b[0m\u001b[0mk\u001b[0m\u001b[0;34m)\u001b[0m\u001b[0;34m\u001b[0m\u001b[0;34m\u001b[0m\u001b[0m\n\u001b[0m\u001b[1;32m    188\u001b[0m \u001b[0;34m\u001b[0m\u001b[0m\n\u001b[1;32m    189\u001b[0m         \u001b[0;32mif\u001b[0m \u001b[0mcallable\u001b[0m\u001b[0;34m(\u001b[0m\u001b[0marg\u001b[0m\u001b[0;34m)\u001b[0m\u001b[0;34m:\u001b[0m\u001b[0;34m\u001b[0m\u001b[0;34m\u001b[0m\u001b[0m\n",
            "\u001b[0;32m/usr/local/lib/python3.10/dist-packages/IPython/core/magics/execution.py\u001b[0m in \u001b[0;36mrun\u001b[0;34m(self, parameter_s, runner, file_finder)\u001b[0m\n\u001b[1;32m    723\u001b[0m             \u001b[0;32mif\u001b[0m \u001b[0mos\u001b[0m\u001b[0;34m.\u001b[0m\u001b[0mname\u001b[0m \u001b[0;34m==\u001b[0m \u001b[0;34m'nt'\u001b[0m \u001b[0;32mand\u001b[0m \u001b[0mre\u001b[0m\u001b[0;34m.\u001b[0m\u001b[0mmatch\u001b[0m\u001b[0;34m(\u001b[0m\u001b[0;34mr\"^'.*'$\"\u001b[0m\u001b[0;34m,\u001b[0m\u001b[0mfpath\u001b[0m\u001b[0;34m)\u001b[0m\u001b[0;34m:\u001b[0m\u001b[0;34m\u001b[0m\u001b[0;34m\u001b[0m\u001b[0m\n\u001b[1;32m    724\u001b[0m                 \u001b[0mwarn\u001b[0m\u001b[0;34m(\u001b[0m\u001b[0;34m'For Windows, use double quotes to wrap a filename: %run \"mypath\\\\myfile.py\"'\u001b[0m\u001b[0;34m)\u001b[0m\u001b[0;34m\u001b[0m\u001b[0;34m\u001b[0m\u001b[0m\n\u001b[0;32m--> 725\u001b[0;31m             \u001b[0;32mraise\u001b[0m \u001b[0mException\u001b[0m\u001b[0;34m(\u001b[0m\u001b[0mmsg\u001b[0m\u001b[0;34m)\u001b[0m\u001b[0;34m\u001b[0m\u001b[0;34m\u001b[0m\u001b[0m\n\u001b[0m\u001b[1;32m    726\u001b[0m         \u001b[0;32mexcept\u001b[0m \u001b[0mTypeError\u001b[0m\u001b[0;34m:\u001b[0m\u001b[0;34m\u001b[0m\u001b[0;34m\u001b[0m\u001b[0m\n\u001b[1;32m    727\u001b[0m             \u001b[0;32mif\u001b[0m \u001b[0mfpath\u001b[0m \u001b[0;32min\u001b[0m \u001b[0msys\u001b[0m\u001b[0;34m.\u001b[0m\u001b[0mmeta_path\u001b[0m\u001b[0;34m:\u001b[0m\u001b[0;34m\u001b[0m\u001b[0;34m\u001b[0m\u001b[0m\n",
            "\u001b[0;31mException\u001b[0m: File `'initialise.py'` not found."
          ]
        }
      ],
      "source": [
        "%run initialise.py"
      ],
      "id": "3d46fba2"
    },
    {
      "cell_type": "markdown",
      "metadata": {
        "id": "3c1222ff"
      },
      "source": [
        "#### 1. Import the numpy package under the name `np` (★☆☆)"
      ],
      "id": "3c1222ff"
    },
    {
      "cell_type": "code",
      "execution_count": null,
      "metadata": {
        "id": "f52e6a0b"
      },
      "outputs": [],
      "source": [
        "import numpy as np"
      ],
      "id": "f52e6a0b"
    },
    {
      "cell_type": "markdown",
      "metadata": {
        "id": "9d9f4753"
      },
      "source": [
        "#### 2. Print the numpy version and the configuration (★☆☆)"
      ],
      "id": "9d9f4753"
    },
    {
      "cell_type": "code",
      "execution_count": null,
      "metadata": {
        "colab": {
          "base_uri": "https://localhost:8080/"
        },
        "id": "b7fa5fa1",
        "outputId": "ef229680-1924-4c20-bdda-2c8012b2f439"
      },
      "outputs": [
        {
          "name": "stdout",
          "output_type": "stream",
          "text": [
            "1.23.5\n"
          ]
        }
      ],
      "source": [
        "print(np.__version__)"
      ],
      "id": "b7fa5fa1"
    },
    {
      "cell_type": "markdown",
      "metadata": {
        "id": "3e4c23c6"
      },
      "source": [
        "#### 3. Create a null vector of size 10 (★☆☆)"
      ],
      "id": "3e4c23c6"
    },
    {
      "cell_type": "code",
      "execution_count": null,
      "metadata": {
        "colab": {
          "base_uri": "https://localhost:8080/"
        },
        "id": "083c5c46",
        "outputId": "206a905f-f6c3-4678-a5df-5dc0cb66a8e0"
      },
      "outputs": [
        {
          "name": "stdout",
          "output_type": "stream",
          "text": [
            "[0. 0. 0. 0. 0. 0. 0. 0. 0. 0.]\n"
          ]
        }
      ],
      "source": [
        "null=np.zeros(10)\n",
        "print(null)"
      ],
      "id": "083c5c46"
    },
    {
      "cell_type": "markdown",
      "metadata": {
        "id": "c38bbe82"
      },
      "source": [
        "#### 4. How to find the memory size of any array (★☆☆)"
      ],
      "id": "c38bbe82"
    },
    {
      "cell_type": "code",
      "execution_count": null,
      "metadata": {
        "colab": {
          "base_uri": "https://localhost:8080/"
        },
        "id": "02b04021",
        "outputId": "3cd268f8-04b7-469c-afcf-daa14179c617"
      },
      "outputs": [
        {
          "output_type": "stream",
          "name": "stdout",
          "text": [
            "32\n"
          ]
        }
      ],
      "source": [
        "arr=np.array([1,3,5,7])\n",
        "print(arr.size*arr.itemsize)"
      ],
      "id": "02b04021"
    },
    {
      "cell_type": "markdown",
      "metadata": {
        "id": "67f893d4"
      },
      "source": [
        "#### 5. How to get the documentation of the numpy add function from the command line? (★☆☆)"
      ],
      "id": "67f893d4"
    },
    {
      "cell_type": "code",
      "execution_count": null,
      "metadata": {
        "colab": {
          "base_uri": "https://localhost:8080/"
        },
        "id": "40e6b70d",
        "outputId": "c19a9ddd-48dd-4a38-f674-7dfb5717dd69"
      },
      "outputs": [
        {
          "name": "stdout",
          "output_type": "stream",
          "text": [
            "\n",
            "NumPy\n",
            "=====\n",
            "\n",
            "Provides\n",
            "  1. An array object of arbitrary homogeneous items\n",
            "  2. Fast mathematical operations over arrays\n",
            "  3. Linear Algebra, Fourier Transforms, Random Number Generation\n",
            "\n",
            "How to use the documentation\n",
            "----------------------------\n",
            "Documentation is available in two forms: docstrings provided\n",
            "with the code, and a loose standing reference guide, available from\n",
            "`the NumPy homepage <https://numpy.org>`_.\n",
            "\n",
            "We recommend exploring the docstrings using\n",
            "`IPython <https://ipython.org>`_, an advanced Python shell with\n",
            "TAB-completion and introspection capabilities.  See below for further\n",
            "instructions.\n",
            "\n",
            "The docstring examples assume that `numpy` has been imported as `np`::\n",
            "\n",
            "  >>> import numpy as np\n",
            "\n",
            "Code snippets are indicated by three greater-than signs::\n",
            "\n",
            "  >>> x = 42\n",
            "  >>> x = x + 1\n",
            "\n",
            "Use the built-in ``help`` function to view a function's docstring::\n",
            "\n",
            "  >>> help(np.sort)\n",
            "  ... # doctest: +SKIP\n",
            "\n",
            "For some objects, ``np.info(obj)`` may provide additional help.  This is\n",
            "particularly true if you see the line \"Help on ufunc object:\" at the top\n",
            "of the help() page.  Ufuncs are implemented in C, not Python, for speed.\n",
            "The native Python help() does not know how to view their help, but our\n",
            "np.info() function does.\n",
            "\n",
            "To search for documents containing a keyword, do::\n",
            "\n",
            "  >>> np.lookfor('keyword')\n",
            "  ... # doctest: +SKIP\n",
            "\n",
            "General-purpose documents like a glossary and help on the basic concepts\n",
            "of numpy are available under the ``doc`` sub-module::\n",
            "\n",
            "  >>> from numpy import doc\n",
            "  >>> help(doc)\n",
            "  ... # doctest: +SKIP\n",
            "\n",
            "Available subpackages\n",
            "---------------------\n",
            "lib\n",
            "    Basic functions used by several sub-packages.\n",
            "random\n",
            "    Core Random Tools\n",
            "linalg\n",
            "    Core Linear Algebra Tools\n",
            "fft\n",
            "    Core FFT routines\n",
            "polynomial\n",
            "    Polynomial tools\n",
            "testing\n",
            "    NumPy testing tools\n",
            "distutils\n",
            "    Enhancements to distutils with support for\n",
            "    Fortran compilers support and more.\n",
            "\n",
            "Utilities\n",
            "---------\n",
            "test\n",
            "    Run numpy unittests\n",
            "show_config\n",
            "    Show numpy build configuration\n",
            "dual\n",
            "    Overwrite certain functions with high-performance SciPy tools.\n",
            "    Note: `numpy.dual` is deprecated.  Use the functions from NumPy or Scipy\n",
            "    directly instead of importing them from `numpy.dual`.\n",
            "matlib\n",
            "    Make everything matrices.\n",
            "__version__\n",
            "    NumPy version string\n",
            "\n",
            "Viewing documentation using IPython\n",
            "-----------------------------------\n",
            "Start IPython with the NumPy profile (``ipython -p numpy``), which will\n",
            "import `numpy` under the alias `np`.  Then, use the ``cpaste`` command to\n",
            "paste examples into the shell.  To see which functions are available in\n",
            "`numpy`, type ``np.<TAB>`` (where ``<TAB>`` refers to the TAB key), or use\n",
            "``np.*cos*?<ENTER>`` (where ``<ENTER>`` refers to the ENTER key) to narrow\n",
            "down the list.  To view the docstring for a function, use\n",
            "``np.cos?<ENTER>`` (to view the docstring) and ``np.cos??<ENTER>`` (to view\n",
            "the source code).\n",
            "\n",
            "Copies vs. in-place operation\n",
            "-----------------------------\n",
            "Most of the functions in `numpy` return a copy of the array argument\n",
            "(e.g., `np.sort`).  In-place versions of these functions are often\n",
            "available as array methods, i.e. ``x = np.array([1,2,3]); x.sort()``.\n",
            "Exceptions to this rule are documented.\n",
            "\n",
            "\n"
          ]
        }
      ],
      "source": [
        "print(np.__doc__)"
      ],
      "id": "40e6b70d"
    },
    {
      "cell_type": "markdown",
      "metadata": {
        "id": "e0c739c6"
      },
      "source": [
        "#### 6. Create a null vector of size 10 but the fifth value which is 1 (★☆☆)"
      ],
      "id": "e0c739c6"
    },
    {
      "cell_type": "code",
      "execution_count": null,
      "metadata": {
        "colab": {
          "base_uri": "https://localhost:8080/"
        },
        "id": "bcceacf7",
        "outputId": "de8f80da-4b0b-4f57-ab23-82f189a53cef"
      },
      "outputs": [
        {
          "name": "stdout",
          "output_type": "stream",
          "text": [
            "[0. 0. 0. 0. 1. 0. 0. 0. 0. 0.]\n"
          ]
        }
      ],
      "source": [
        "null=np.zeros(10)\n",
        "null[4]=1\n",
        "print(null)"
      ],
      "id": "bcceacf7"
    },
    {
      "cell_type": "markdown",
      "metadata": {
        "id": "fbebedab"
      },
      "source": [
        "#### 7. Create a vector with values ranging from 10 to 49 (★☆☆)"
      ],
      "id": "fbebedab"
    },
    {
      "cell_type": "code",
      "execution_count": null,
      "metadata": {
        "colab": {
          "base_uri": "https://localhost:8080/"
        },
        "id": "3d117d54",
        "outputId": "8bea41ee-698e-453f-e121-c8db0ff92a04"
      },
      "outputs": [
        {
          "name": "stdout",
          "output_type": "stream",
          "text": [
            "[10 11 12 13 14 15 16 17 18 19 20 21 22 23 24 25 26 27 28 29 30 31 32 33\n",
            " 34 35 36 37 38 39 40 41 42 43 44 45 46 47 48 49]\n"
          ]
        }
      ],
      "source": [
        "arr=np.arange(10,50)\n",
        "print(arr)"
      ],
      "id": "3d117d54"
    },
    {
      "cell_type": "markdown",
      "metadata": {
        "id": "ad0bff02"
      },
      "source": [
        "#### 8. Reverse a vector (first element becomes last) (★☆☆)"
      ],
      "id": "ad0bff02"
    },
    {
      "cell_type": "code",
      "execution_count": null,
      "metadata": {
        "colab": {
          "base_uri": "https://localhost:8080/"
        },
        "id": "22d23470",
        "outputId": "2357f0d5-cdb7-425a-d6d8-5f7117f5896e"
      },
      "outputs": [
        {
          "name": "stdout",
          "output_type": "stream",
          "text": [
            "[49 48 47 46 45 44 43 42 41 40 39 38 37 36 35 34 33 32 31 30 29 28 27 26\n",
            " 25 24 23 22 21 20 19 18 17 16 15 14 13 12 11 10]\n"
          ]
        }
      ],
      "source": [
        "arr=np.flip(arr)\n",
        "print(arr)"
      ],
      "id": "22d23470"
    },
    {
      "cell_type": "markdown",
      "metadata": {
        "id": "9f59d7e1"
      },
      "source": [
        "#### 9. Create a 3x3 matrix with values ranging from 0 to 8 (★☆☆)"
      ],
      "id": "9f59d7e1"
    },
    {
      "cell_type": "code",
      "execution_count": null,
      "metadata": {
        "colab": {
          "base_uri": "https://localhost:8080/"
        },
        "id": "7449e82d",
        "outputId": "09bb0349-2616-4f0a-c67e-f7e138675b7d"
      },
      "outputs": [
        {
          "name": "stdout",
          "output_type": "stream",
          "text": [
            "[[0 1 2]\n",
            " [3 4 5]\n",
            " [6 7 8]]\n"
          ]
        }
      ],
      "source": [
        "arr1=np.arange(0,9)\n",
        "arr1=arr1.reshape(3,3)\n",
        "print(arr1)"
      ],
      "id": "7449e82d"
    },
    {
      "cell_type": "markdown",
      "metadata": {
        "id": "f374c4cf"
      },
      "source": [
        "#### 10. Find indices of non-zero elements from [1,2,0,0,4,0] (★☆☆)"
      ],
      "id": "f374c4cf"
    },
    {
      "cell_type": "code",
      "execution_count": null,
      "metadata": {
        "colab": {
          "base_uri": "https://localhost:8080/"
        },
        "id": "1a84bed8",
        "outputId": "2321a039-4467-4ee1-888c-fe5ce3b62311"
      },
      "outputs": [
        {
          "name": "stdout",
          "output_type": "stream",
          "text": [
            "(array([0, 1, 4]),)\n",
            "0\n",
            "1\n",
            "4\n"
          ]
        }
      ],
      "source": [
        "arr2=np.array([1,2,0,0,4,0])\n",
        "print(np.nonzero(arr2))\n",
        "for i in range(0,len(arr2)):\n",
        "  if arr2[i]==0:\n",
        "    continue\n",
        "  else:\n",
        "    print(i)\n"
      ],
      "id": "1a84bed8"
    },
    {
      "cell_type": "markdown",
      "metadata": {
        "id": "9c4707f5"
      },
      "source": [
        "#### 11. Create a 3x3 identity matrix (★☆☆)"
      ],
      "id": "9c4707f5"
    },
    {
      "cell_type": "code",
      "execution_count": null,
      "metadata": {
        "colab": {
          "base_uri": "https://localhost:8080/"
        },
        "id": "29dc1fd3",
        "outputId": "a5fefcd3-295b-49fa-a4e8-79beb301a26b"
      },
      "outputs": [
        {
          "name": "stdout",
          "output_type": "stream",
          "text": [
            "[[1. 0. 0.]\n",
            " [0. 1. 0.]\n",
            " [0. 0. 1.]]\n"
          ]
        }
      ],
      "source": [
        "arr=np.identity(3)\n",
        "print(arr)"
      ],
      "id": "29dc1fd3"
    },
    {
      "cell_type": "markdown",
      "metadata": {
        "id": "3bac294a"
      },
      "source": [
        "#### 12. Create a 3x3x3 array with random values (★☆☆)"
      ],
      "id": "3bac294a"
    },
    {
      "cell_type": "code",
      "execution_count": null,
      "metadata": {
        "colab": {
          "base_uri": "https://localhost:8080/"
        },
        "id": "eadfae67",
        "outputId": "fd0e6abc-6066-4496-be0e-5e20c1d3a153"
      },
      "outputs": [
        {
          "name": "stdout",
          "output_type": "stream",
          "text": [
            "[[[ 2  2  2]\n",
            "  [ 3  1  1]\n",
            "  [12  6 10]]\n",
            "\n",
            " [[13  8  9]\n",
            "  [ 3 13 14]\n",
            "  [ 5  7  5]]\n",
            "\n",
            " [[ 0  4  3]\n",
            "  [10  6 14]\n",
            "  [ 8 11  4]]]\n"
          ]
        }
      ],
      "source": [
        "from numpy import random\n",
        "arr2=random.randint(15,size=(3,3,3))\n",
        "print(arr2)"
      ],
      "id": "eadfae67"
    },
    {
      "cell_type": "markdown",
      "metadata": {
        "id": "466c2989"
      },
      "source": [
        "#### 13. Create a 10x10 array with random values and find the minimum and maximum values (★☆☆)"
      ],
      "id": "466c2989"
    },
    {
      "cell_type": "code",
      "execution_count": null,
      "metadata": {
        "colab": {
          "base_uri": "https://localhost:8080/"
        },
        "id": "9a74dbfc",
        "outputId": "68227ec6-a28d-4853-823a-834f22f7b377"
      },
      "outputs": [
        {
          "name": "stdout",
          "output_type": "stream",
          "text": [
            "min= 0  max=  14\n"
          ]
        }
      ],
      "source": [
        "arr3=random.randint(15,size=(10,10))\n",
        "print('min=',np.min(arr3),' max= ',np.max(arr3))"
      ],
      "id": "9a74dbfc"
    },
    {
      "cell_type": "markdown",
      "metadata": {
        "id": "53a8edb2"
      },
      "source": [
        "#### 14. Create a random vector of size 30 and find the mean value (★☆☆)"
      ],
      "id": "53a8edb2"
    },
    {
      "cell_type": "code",
      "execution_count": null,
      "metadata": {
        "colab": {
          "base_uri": "https://localhost:8080/"
        },
        "id": "6691530b",
        "outputId": "d3747343-d3e0-45a1-d368-4c919427d77d"
      },
      "outputs": [
        {
          "name": "stdout",
          "output_type": "stream",
          "text": [
            "55.96666666666667\n"
          ]
        }
      ],
      "source": [
        "arr4=random.randint(100,size=30)\n",
        "print(np.mean(arr4))"
      ],
      "id": "6691530b"
    },
    {
      "cell_type": "markdown",
      "metadata": {
        "id": "cbaad31c"
      },
      "source": [
        "#### 15. Create a 2d array with 1 on the border and 0 inside (★☆☆)"
      ],
      "id": "cbaad31c"
    },
    {
      "cell_type": "code",
      "execution_count": null,
      "metadata": {
        "colab": {
          "base_uri": "https://localhost:8080/"
        },
        "id": "ad8308e3",
        "outputId": "223e62e7-4b2d-416a-dea1-c49d009f7256"
      },
      "outputs": [
        {
          "name": "stdout",
          "output_type": "stream",
          "text": [
            "[[1. 1. 1. 1.]\n",
            " [1. 0. 0. 1.]\n",
            " [1. 0. 0. 1.]\n",
            " [1. 1. 1. 1.]]\n"
          ]
        }
      ],
      "source": [
        "arr=np.ones((4,4))\n",
        "arr[1:-1,1:-1]=0\n",
        "print(arr)"
      ],
      "id": "ad8308e3"
    },
    {
      "cell_type": "markdown",
      "metadata": {
        "id": "c5ecc267"
      },
      "source": [
        "#### 16. How to add a border (filled with 0's) around an existing array? (★☆☆)"
      ],
      "id": "c5ecc267"
    },
    {
      "cell_type": "code",
      "execution_count": null,
      "metadata": {
        "colab": {
          "base_uri": "https://localhost:8080/"
        },
        "id": "9d5c78c4",
        "outputId": "6f74bd0b-896f-4cfa-9371-b594aea7df01"
      },
      "outputs": [
        {
          "name": "stdout",
          "output_type": "stream",
          "text": [
            "[[0. 0. 0. 0. 0. 0.]\n",
            " [0. 1. 1. 1. 1. 0.]\n",
            " [0. 1. 1. 1. 1. 0.]\n",
            " [0. 1. 1. 1. 1. 0.]\n",
            " [0. 1. 1. 1. 1. 0.]\n",
            " [0. 0. 0. 0. 0. 0.]]\n"
          ]
        }
      ],
      "source": [
        "arr=np.ones((4,4))\n",
        "arr2=np.pad(arr,pad_width=1,constant_values=0)\n",
        "print(arr2)"
      ],
      "id": "9d5c78c4"
    },
    {
      "cell_type": "markdown",
      "metadata": {
        "id": "ef909b72"
      },
      "source": [
        "#### 17. What is the result of the following expression? (★☆☆)\n",
        "```python\n",
        "0 * np.nan\n",
        "np.nan == np.nan\n",
        "np.inf > np.nan\n",
        "np.nan - np.nan\n",
        "np.nan in set([np.nan])\n",
        "0.3 == 3 * 0.1\n",
        "```"
      ],
      "id": "ef909b72"
    },
    {
      "cell_type": "code",
      "execution_count": null,
      "metadata": {
        "colab": {
          "base_uri": "https://localhost:8080/"
        },
        "id": "3b4985f2",
        "outputId": "9d50a960-33f6-477e-d72e-eb210f0df984"
      },
      "outputs": [
        {
          "name": "stdout",
          "output_type": "stream",
          "text": [
            "nan\n",
            "False\n",
            "False\n",
            "nan\n",
            "True\n",
            "False\n"
          ]
        }
      ],
      "source": [
        "print(0*np.nan)\n",
        "print(np.nan==np.nan)\n",
        "print(np.inf>np.nan)\n",
        "print(np.nan-np.nan)\n",
        "print(np.nan in set([np.nan]))\n",
        "print(0.3==3*0.1)"
      ],
      "id": "3b4985f2"
    },
    {
      "cell_type": "markdown",
      "metadata": {
        "id": "502738ac"
      },
      "source": [
        "#### 18. Create a 5x5 matrix with values 1,2,3,4 just below the diagonal (★☆☆)"
      ],
      "id": "502738ac"
    },
    {
      "cell_type": "code",
      "execution_count": null,
      "metadata": {
        "colab": {
          "base_uri": "https://localhost:8080/"
        },
        "id": "faed6e2b",
        "outputId": "f8631fe0-b180-447f-fe5c-83527f661ad2"
      },
      "outputs": [
        {
          "name": "stdout",
          "output_type": "stream",
          "text": [
            "[[0 0 0 0 0]\n",
            " [1 0 0 0 0]\n",
            " [0 2 0 0 0]\n",
            " [0 0 3 0 0]\n",
            " [0 0 0 4 0]]\n"
          ]
        }
      ],
      "source": [
        "arr=np.diag([1,2,3,4],k=-1)\n",
        "print(arr)"
      ],
      "id": "faed6e2b"
    },
    {
      "cell_type": "markdown",
      "metadata": {
        "id": "a65da660"
      },
      "source": [
        "#### 19. Create a 8x8 matrix and fill it with a checkerboard pattern (★☆☆)"
      ],
      "id": "a65da660"
    },
    {
      "cell_type": "code",
      "execution_count": null,
      "metadata": {
        "colab": {
          "base_uri": "https://localhost:8080/"
        },
        "id": "ed150400",
        "outputId": "483d3987-cffc-4f01-85f2-a45eb7ed54fe"
      },
      "outputs": [
        {
          "name": "stdout",
          "output_type": "stream",
          "text": [
            "[[0 1 0 1 0 1 0 1]\n",
            " [1 0 1 0 1 0 1 0]\n",
            " [0 1 0 1 0 1 0 1]\n",
            " [1 0 1 0 1 0 1 0]\n",
            " [0 1 0 1 0 1 0 1]\n",
            " [1 0 1 0 1 0 1 0]\n",
            " [0 1 0 1 0 1 0 1]\n",
            " [1 0 1 0 1 0 1 0]]\n"
          ]
        }
      ],
      "source": [
        "x = np.zeros((8, 8), dtype=int)\n",
        "x[1::2, ::2] = 1  # Setting alternate rows starting from the second row with alternate columns to 1\n",
        "x[::2, 1::2] = 1  # Setting alternate rows starting from the first row with alternate columns to 1\n",
        "print(x)"
      ],
      "id": "ed150400"
    },
    {
      "cell_type": "markdown",
      "metadata": {
        "id": "9f7f9c49"
      },
      "source": [
        "#### 20. Consider a (6,7,8) shape array, what is the index (x,y,z) of the 100th element? (★☆☆)"
      ],
      "id": "9f7f9c49"
    },
    {
      "cell_type": "code",
      "execution_count": null,
      "metadata": {
        "colab": {
          "base_uri": "https://localhost:8080/"
        },
        "id": "3782b5a9",
        "outputId": "b1731fcc-d1c0-4de9-dbd6-477b869a15d6"
      },
      "outputs": [
        {
          "name": "stdout",
          "output_type": "stream",
          "text": [
            "(1, 5, 3)\n"
          ]
        }
      ],
      "source": [
        "print(np.unravel_index(99,(6,7,8)))"
      ],
      "id": "3782b5a9"
    },
    {
      "cell_type": "markdown",
      "metadata": {
        "id": "66bfda35"
      },
      "source": [
        "#### 21. Create a checkerboard 8x8 matrix using the tile function (★☆☆)"
      ],
      "id": "66bfda35"
    },
    {
      "cell_type": "code",
      "execution_count": null,
      "metadata": {
        "colab": {
          "base_uri": "https://localhost:8080/"
        },
        "id": "4c07477c",
        "outputId": "ad6ce9be-f6fd-493f-e14b-4b6c8c873243"
      },
      "outputs": [
        {
          "name": "stdout",
          "output_type": "stream",
          "text": [
            "[[0 1 0 1 0 1 0 1]\n",
            " [1 0 1 0 1 0 1 0]\n",
            " [0 1 0 1 0 1 0 1]\n",
            " [1 0 1 0 1 0 1 0]\n",
            " [0 1 0 1 0 1 0 1]\n",
            " [1 0 1 0 1 0 1 0]\n",
            " [0 1 0 1 0 1 0 1]\n",
            " [1 0 1 0 1 0 1 0]]\n"
          ]
        },
        {
          "data": {
            "text/plain": [
              "(8, 8)"
            ]
          },
          "execution_count": 11,
          "metadata": {},
          "output_type": "execute_result"
        }
      ],
      "source": [
        "arr=np.tile([[0,1],[1,0]],(4,4))\n",
        "print(arr)\n",
        "np.shape(arr)"
      ],
      "id": "4c07477c"
    },
    {
      "cell_type": "markdown",
      "metadata": {
        "id": "d5bcfc08"
      },
      "source": [
        "#### 22. Normalize a 5x5 random matrix (★☆☆)"
      ],
      "id": "d5bcfc08"
    },
    {
      "cell_type": "code",
      "execution_count": null,
      "metadata": {
        "colab": {
          "base_uri": "https://localhost:8080/",
          "height": 435
        },
        "id": "cea6c993",
        "outputId": "a08389bb-62d4-4b69-c3a1-ec1565c05541"
      },
      "outputs": [
        {
          "output_type": "stream",
          "name": "stdout",
          "text": [
            "[[ 9  5 10  2 11]\n",
            " [10 12 13  6  0]\n",
            " [ 0  3  5  4 13]\n",
            " [ 3  9  2 12 10]\n",
            " [13 12  8 12  4]]\n",
            "[[0.69230769 0.38461538 0.76923077 0.15384615 0.84615385]\n",
            " [0.76923077 0.92307692 1.         0.46153846 0.        ]\n",
            " [0.         0.23076923 0.38461538 0.30769231 1.        ]\n",
            " [0.23076923 0.69230769 0.15384615 0.92307692 0.76923077]\n",
            " [1.         0.92307692 0.61538462 0.92307692 0.30769231]]\n",
            "|S32\n"
          ]
        },
        {
          "output_type": "error",
          "ename": "ValueError",
          "evalue": "ignored",
          "traceback": [
            "\u001b[0;31m---------------------------------------------------------------------------\u001b[0m",
            "\u001b[0;31mValueError\u001b[0m                                Traceback (most recent call last)",
            "\u001b[0;32m<ipython-input-27-dda1ef0087ac>\u001b[0m in \u001b[0;36m<cell line: 8>\u001b[0;34m()\u001b[0m\n\u001b[1;32m      6\u001b[0m \u001b[0marr\u001b[0m\u001b[0;34m=\u001b[0m\u001b[0marr\u001b[0m\u001b[0;34m.\u001b[0m\u001b[0mastype\u001b[0m\u001b[0;34m(\u001b[0m\u001b[0;34m'S'\u001b[0m\u001b[0;34m)\u001b[0m\u001b[0;34m\u001b[0m\u001b[0;34m\u001b[0m\u001b[0m\n\u001b[1;32m      7\u001b[0m \u001b[0mprint\u001b[0m\u001b[0;34m(\u001b[0m\u001b[0marr\u001b[0m\u001b[0;34m.\u001b[0m\u001b[0mdtype\u001b[0m\u001b[0;34m)\u001b[0m\u001b[0;34m\u001b[0m\u001b[0;34m\u001b[0m\u001b[0m\n\u001b[0;32m----> 8\u001b[0;31m \u001b[0mnewarr\u001b[0m \u001b[0;34m=\u001b[0m \u001b[0marr\u001b[0m\u001b[0;34m.\u001b[0m\u001b[0mastype\u001b[0m\u001b[0;34m(\u001b[0m\u001b[0;34m'i'\u001b[0m\u001b[0;34m)\u001b[0m\u001b[0;34m\u001b[0m\u001b[0;34m\u001b[0m\u001b[0m\n\u001b[0m\u001b[1;32m      9\u001b[0m \u001b[0;34m\u001b[0m\u001b[0m\n\u001b[1;32m     10\u001b[0m \u001b[0mprint\u001b[0m\u001b[0;34m(\u001b[0m\u001b[0mnewarr\u001b[0m\u001b[0;34m)\u001b[0m\u001b[0;34m\u001b[0m\u001b[0;34m\u001b[0m\u001b[0m\n",
            "\u001b[0;31mValueError\u001b[0m: invalid literal for int() with base 10: b'0.6923076923076923'"
          ]
        }
      ],
      "source": [
        "from numpy import random\n",
        "arr=random.randint(15,size=(5,5))\n",
        "print(arr)\n",
        "arr=arr/np.max(arr)\n",
        "print(arr)\n",
        "arr=arr.astype('S')\n",
        "print(arr.dtype)\n",
        "newarr = arr.astype('i')\n",
        "\n",
        "print(newarr)\n",
        "print(newarr.dtype)\n"
      ],
      "id": "cea6c993"
    },
    {
      "cell_type": "markdown",
      "metadata": {
        "id": "f9a0911e"
      },
      "source": [
        "#### 23. Create a custom dtype that describes a color as four unsigned bytes (RGBA) (★☆☆)"
      ],
      "id": "f9a0911e"
    },
    {
      "cell_type": "code",
      "execution_count": null,
      "metadata": {
        "colab": {
          "base_uri": "https://localhost:8080/"
        },
        "id": "d165044b",
        "outputId": "ad8dea40-c2ae-4526-afce-cfd3113ddead"
      },
      "outputs": [
        {
          "name": "stdout",
          "output_type": "stream",
          "text": [
            "[255   0   0]\n",
            "[  0 255   0]\n",
            "[  0   0 255]\n",
            "[255 255 255]\n"
          ]
        },
        {
          "name": "stderr",
          "output_type": "stream",
          "text": [
            "<ipython-input-16-7f95434f22ac>:1: FutureWarning: Passing (type, 1) or '1type' as a synonym of type is deprecated; in a future version of numpy, it will be understood as (type, (1,)) / '(1,)type'.\n",
            "  color = np.dtype([\n"
          ]
        }
      ],
      "source": [
        "color = np.dtype([\n",
        "    (\"r\", np.ubyte, 1),\n",
        "    (\"g\", np.ubyte, 1),\n",
        "    (\"b\", np.ubyte, 1),\n",
        "    (\"a\", np.ubyte, 1)\n",
        "    ])\n"
      ],
      "id": "d165044b"
    },
    {
      "cell_type": "markdown",
      "metadata": {
        "id": "654805b1"
      },
      "source": [
        "#### 24. Multiply a 5x3 matrix by a 3x2 matrix (real matrix product) (★☆☆)"
      ],
      "id": "654805b1"
    },
    {
      "cell_type": "code",
      "execution_count": null,
      "metadata": {
        "colab": {
          "base_uri": "https://localhost:8080/"
        },
        "id": "6a42619f",
        "outputId": "7d0b07f2-9869-4e4d-b0cb-e5df204df964"
      },
      "outputs": [
        {
          "name": "stdout",
          "output_type": "stream",
          "text": [
            "[[ 21  57]\n",
            " [ 57  72]\n",
            " [210 196]\n",
            " [ 13  16]\n",
            " [ 80  92]]\n"
          ]
        }
      ],
      "source": [
        "arr1=random.randint(15,size=(5,3))\n",
        "arr2=random.randint(15,size=(3,2))\n",
        "x=np.dot(arr1,arr2)\n",
        "print(x)"
      ],
      "id": "6a42619f"
    },
    {
      "cell_type": "markdown",
      "metadata": {
        "id": "994c25df"
      },
      "source": [
        "#### 25. Given a 1D array, negate all elements which are between 3 and 8, in place. (★☆☆)"
      ],
      "id": "994c25df"
    },
    {
      "cell_type": "code",
      "execution_count": null,
      "metadata": {
        "colab": {
          "base_uri": "https://localhost:8080/"
        },
        "id": "e4b39c03",
        "outputId": "940c0907-e2bb-4431-e811-b62722737093"
      },
      "outputs": [
        {
          "name": "stdout",
          "output_type": "stream",
          "text": [
            "[ 0  1  2  3 -4 -5 -6 -7  8  9 10 11 12 13 14]\n"
          ]
        }
      ],
      "source": [
        "a=np.arange(15)\n",
        "a[(a>3)&(a<8)]*=-1\n",
        "print(a)"
      ],
      "id": "e4b39c03"
    },
    {
      "cell_type": "markdown",
      "metadata": {
        "id": "b7d15d1a"
      },
      "source": [
        "#### 26. What is the output of the following script? (★☆☆)\n",
        "```python\n",
        "# Author: Jake VanderPlas\n",
        "\n",
        "print(sum(range(5),-1))\n",
        "from numpy import *\n",
        "print(sum(range(5),-1))\n",
        "```"
      ],
      "id": "b7d15d1a"
    },
    {
      "cell_type": "code",
      "execution_count": null,
      "metadata": {
        "colab": {
          "base_uri": "https://localhost:8080/"
        },
        "id": "4c95bc3f",
        "outputId": "5b695dd4-80e0-48d3-d20a-9c52c234e1af"
      },
      "outputs": [
        {
          "name": "stdout",
          "output_type": "stream",
          "text": [
            "9\n",
            "10\n"
          ]
        }
      ],
      "source": [
        "print(sum(range(5),-1))\n",
        "from numpy import *\n",
        "print(sum(range(5),-1))"
      ],
      "id": "4c95bc3f"
    },
    {
      "cell_type": "markdown",
      "metadata": {
        "id": "a34f0d08"
      },
      "source": [
        "#### 27. Consider an integer vector Z, which of these expressions are legal? (★☆☆)\n",
        "```python\n",
        "Z**Z\n",
        "2 << Z >> 2\n",
        "Z <- Z\n",
        "1j*Z\n",
        "Z/1/1\n",
        "Z<Z>Z\n",
        "```"
      ],
      "id": "a34f0d08"
    },
    {
      "cell_type": "code",
      "execution_count": null,
      "metadata": {
        "colab": {
          "base_uri": "https://localhost:8080/",
          "height": 297
        },
        "id": "564658fc",
        "outputId": "b36fcc51-c98e-4d75-c338-ade6e38ba064"
      },
      "outputs": [
        {
          "output_type": "stream",
          "name": "stdout",
          "text": [
            "[  1   1   4  27 256]\n",
            "[0 1 2 4 8]\n",
            "[False False False False False]\n",
            "[0.+0.j 0.+1.j 0.+2.j 0.+3.j 0.+4.j]\n",
            "[0. 1. 2. 3. 4.]\n"
          ]
        },
        {
          "output_type": "error",
          "ename": "ValueError",
          "evalue": "ignored",
          "traceback": [
            "\u001b[0;31m---------------------------------------------------------------------------\u001b[0m",
            "\u001b[0;31mValueError\u001b[0m                                Traceback (most recent call last)",
            "\u001b[0;32m<ipython-input-41-978290551917>\u001b[0m in \u001b[0;36m<cell line: 7>\u001b[0;34m()\u001b[0m\n\u001b[1;32m      5\u001b[0m \u001b[0mprint\u001b[0m\u001b[0;34m(\u001b[0m\u001b[0;36m1j\u001b[0m\u001b[0;34m*\u001b[0m\u001b[0mZ\u001b[0m\u001b[0;34m)\u001b[0m\u001b[0;34m\u001b[0m\u001b[0;34m\u001b[0m\u001b[0m\n\u001b[1;32m      6\u001b[0m \u001b[0mprint\u001b[0m\u001b[0;34m(\u001b[0m\u001b[0mZ\u001b[0m\u001b[0;34m/\u001b[0m\u001b[0;36m1\u001b[0m\u001b[0;34m/\u001b[0m\u001b[0;36m1\u001b[0m\u001b[0;34m)\u001b[0m\u001b[0;34m\u001b[0m\u001b[0;34m\u001b[0m\u001b[0m\n\u001b[0;32m----> 7\u001b[0;31m \u001b[0mprint\u001b[0m\u001b[0;34m(\u001b[0m\u001b[0mZ\u001b[0m\u001b[0;34m<\u001b[0m\u001b[0mZ\u001b[0m\u001b[0;34m>\u001b[0m\u001b[0mZ\u001b[0m\u001b[0;34m)\u001b[0m\u001b[0;34m\u001b[0m\u001b[0;34m\u001b[0m\u001b[0m\n\u001b[0m",
            "\u001b[0;31mValueError\u001b[0m: The truth value of an array with more than one element is ambiguous. Use a.any() or a.all()"
          ]
        }
      ],
      "source": [
        "Z=np.arange(5)\n",
        "print(Z**Z)\n",
        "print(2 << Z >> 2)\n",
        "print(Z <- Z)\n",
        "print(1j*Z)\n",
        "print(Z/1/1)\n",
        "print(Z<Z>Z)"
      ],
      "id": "564658fc"
    },
    {
      "cell_type": "markdown",
      "metadata": {
        "id": "c34e94bf"
      },
      "source": [
        "#### 28. What are the result of the following expressions? (★☆☆)\n",
        "```python\n",
        "np.array(0) / np.array(0)\n",
        "np.array(0) // np.array(0)\n",
        "np.array([np.nan]).astype(int).astype(float)\n",
        "```"
      ],
      "id": "c34e94bf"
    },
    {
      "cell_type": "code",
      "execution_count": null,
      "metadata": {
        "id": "56663562"
      },
      "outputs": [],
      "source": [],
      "id": "56663562"
    },
    {
      "cell_type": "markdown",
      "metadata": {
        "id": "546f5e7b"
      },
      "source": [
        "#### 29. How to round away from zero a float array ? (★☆☆)"
      ],
      "id": "546f5e7b"
    },
    {
      "cell_type": "code",
      "execution_count": null,
      "metadata": {
        "id": "f725a6d2",
        "colab": {
          "base_uri": "https://localhost:8080/"
        },
        "outputId": "c9558288-b914-4808-9482-3f23af7d5cbf"
      },
      "outputs": [
        {
          "output_type": "stream",
          "name": "stdout",
          "text": [
            "[ 6.  8. 10.]\n",
            "[ 1.  2.  3.  4.  5.  6.  8. 10.]\n"
          ]
        }
      ],
      "source": [
        "arr=np.array([1,2,3,4,5,6.5,8.4,9.6])\n",
        "arr=np.round(arr)\n",
        "print(arr[-3:])\n",
        "print(arr)"
      ],
      "id": "f725a6d2"
    },
    {
      "cell_type": "markdown",
      "metadata": {
        "id": "eadca856"
      },
      "source": [
        "#### 30. How to find common values between two arrays? (★☆☆)"
      ],
      "id": "eadca856"
    },
    {
      "cell_type": "code",
      "execution_count": null,
      "metadata": {
        "id": "e0270b5b",
        "colab": {
          "base_uri": "https://localhost:8080/"
        },
        "outputId": "d9098a3f-a3b8-4c7b-a54d-a657a8e4f6fa"
      },
      "outputs": [
        {
          "output_type": "stream",
          "name": "stdout",
          "text": [
            "[[ 4  1 11]\n",
            " [ 4  8 11]\n",
            " [ 7  9  3]]\n",
            "[[ 7  9  5]\n",
            " [ 4  8  3]\n",
            " [10 13  5]]\n"
          ]
        },
        {
          "output_type": "execute_result",
          "data": {
            "text/plain": [
              "array([3, 4, 7, 8, 9])"
            ]
          },
          "metadata": {},
          "execution_count": 6
        }
      ],
      "source": [
        "from numpy import random\n",
        "arr1=random.randint(15,size=(3,3))\n",
        "arr2=random.randint(15,size=(3,3))\n",
        "print(arr1)\n",
        "print(arr2)\n",
        "np.intersect1d(arr1,arr2)"
      ],
      "id": "e0270b5b"
    },
    {
      "cell_type": "markdown",
      "metadata": {
        "id": "ca16ca22"
      },
      "source": [
        "#### 31. How to ignore all numpy warnings (not recommended)? (★☆☆)"
      ],
      "id": "ca16ca22"
    },
    {
      "cell_type": "code",
      "execution_count": null,
      "metadata": {
        "id": "7d7208ef"
      },
      "outputs": [],
      "source": [],
      "id": "7d7208ef"
    },
    {
      "cell_type": "markdown",
      "metadata": {
        "id": "c7871d0d"
      },
      "source": [
        "#### 32. Is the following expressions true? (★☆☆)\n",
        "```python\n",
        "np.sqrt(-1) == np.emath.sqrt(-1)\n",
        "```"
      ],
      "id": "c7871d0d"
    },
    {
      "cell_type": "code",
      "execution_count": null,
      "metadata": {
        "id": "acc3701a"
      },
      "outputs": [],
      "source": [],
      "id": "acc3701a"
    },
    {
      "cell_type": "markdown",
      "metadata": {
        "id": "e0433e30"
      },
      "source": [
        "#### 33. How to get the dates of yesterday, today and tomorrow? (★☆☆)"
      ],
      "id": "e0433e30"
    },
    {
      "cell_type": "code",
      "execution_count": null,
      "metadata": {
        "id": "9c4d2152",
        "colab": {
          "base_uri": "https://localhost:8080/"
        },
        "outputId": "f5f8f9bd-0c2d-4c26-9e1b-2db77b888462"
      },
      "outputs": [
        {
          "output_type": "stream",
          "name": "stdout",
          "text": [
            "2023-12-20\n"
          ]
        }
      ],
      "source": [
        "print(np.datetime64('today','D'))"
      ],
      "id": "9c4d2152"
    },
    {
      "cell_type": "markdown",
      "metadata": {
        "id": "9f52a2ef"
      },
      "source": [
        "#### 34. How to get all the dates corresponding to the month of July 2016? (★★☆)"
      ],
      "id": "9f52a2ef"
    },
    {
      "cell_type": "code",
      "execution_count": null,
      "metadata": {
        "id": "d6c34dec",
        "colab": {
          "base_uri": "https://localhost:8080/"
        },
        "outputId": "d2c29401-f294-499e-d8df-25f8217f3d14"
      },
      "outputs": [
        {
          "output_type": "stream",
          "name": "stdout",
          "text": [
            "['2016-07-01' '2016-07-02' '2016-07-03' '2016-07-04' '2016-07-05'\n",
            " '2016-07-06' '2016-07-07' '2016-07-08' '2016-07-09' '2016-07-10'\n",
            " '2016-07-11' '2016-07-12' '2016-07-13' '2016-07-14' '2016-07-15'\n",
            " '2016-07-16' '2016-07-17' '2016-07-18' '2016-07-19' '2016-07-20'\n",
            " '2016-07-21' '2016-07-22' '2016-07-23' '2016-07-24' '2016-07-25'\n",
            " '2016-07-26' '2016-07-27' '2016-07-28' '2016-07-29' '2016-07-30'\n",
            " '2016-07-31']\n"
          ]
        }
      ],
      "source": [
        "print(np.arange('2016-07','2016-08',dtype='datetime64[D]'))"
      ],
      "id": "d6c34dec"
    },
    {
      "cell_type": "markdown",
      "metadata": {
        "id": "4a64e059"
      },
      "source": [
        "#### 35. How to compute ((A+B)*(-A/2)) in place (without copy)? (★★☆)"
      ],
      "id": "4a64e059"
    },
    {
      "cell_type": "code",
      "execution_count": null,
      "metadata": {
        "id": "49267f60",
        "colab": {
          "base_uri": "https://localhost:8080/"
        },
        "outputId": "ad80f09b-91a9-4964-ac09-d50a244edba2"
      },
      "outputs": [
        {
          "output_type": "stream",
          "name": "stdout",
          "text": [
            "[1 3 5]\n",
            "[8 3 4]\n",
            "[  0  -6 -18]\n"
          ]
        }
      ],
      "source": [
        "\n",
        "A=np.array([1,3,5],dtype=int)\n",
        "print(A)\n",
        "B=np.array([8,3,4],dtype=int)\n",
        "print(B)\n",
        "B+=A\n",
        "B*=(-A/2).astype(int)\n",
        "print(B)"
      ],
      "id": "49267f60"
    },
    {
      "cell_type": "markdown",
      "metadata": {
        "id": "8a98c2a8"
      },
      "source": [
        "#### 36. Extract the integer part of a random array of positive numbers using 4 different methods (★★☆)"
      ],
      "id": "8a98c2a8"
    },
    {
      "cell_type": "code",
      "execution_count": null,
      "metadata": {
        "id": "368130b3",
        "colab": {
          "base_uri": "https://localhost:8080/"
        },
        "outputId": "adf9fc9f-3085-4753-8980-18f49313deb9"
      },
      "outputs": [
        {
          "output_type": "stream",
          "name": "stdout",
          "text": [
            "[2.55041898 0.35307203 1.51532166]\n",
            "Method 1: [2 0 1]\n",
            "Method 2: [2 0 1]\n",
            "Method 3: [2 0 1]\n",
            "Method 4: [2 0 1]\n"
          ]
        }
      ],
      "source": [
        "arr = np.random.rand(3) * 6\n",
        "print(arr)\n",
        "method1 = np.floor(arr).astype(int)\n",
        "print(method1)\n",
        "\n",
        "method2 = np.trunc(arr).astype(int)\n",
        "print(method2)\n",
        "\n",
        "method3 = arr.astype(int)\n",
        "print(method3)\n",
        "\n",
        "method4 = np.int_(arr)\n",
        "print(method4)"
      ],
      "id": "368130b3"
    },
    {
      "cell_type": "markdown",
      "metadata": {
        "id": "5a2e3d85"
      },
      "source": [
        "#### 37. Create a 5x5 matrix with row values ranging from 0 to 4 (★★☆)"
      ],
      "id": "5a2e3d85"
    },
    {
      "cell_type": "code",
      "execution_count": null,
      "metadata": {
        "id": "1d974e8f",
        "colab": {
          "base_uri": "https://localhost:8080/"
        },
        "outputId": "ec3d5cde-615c-4683-a764-b0532a48a3e2"
      },
      "outputs": [
        {
          "output_type": "stream",
          "name": "stdout",
          "text": [
            "[[0. 0. 0. 0. 0.]\n",
            " [0. 0. 0. 0. 0.]\n",
            " [0. 0. 0. 0. 0.]\n",
            " [0. 0. 0. 0. 0.]\n",
            " [0. 0. 0. 0. 0.]]\n",
            "[[0. 1. 2. 3. 4.]\n",
            " [0. 1. 2. 3. 4.]\n",
            " [0. 1. 2. 3. 4.]\n",
            " [0. 1. 2. 3. 4.]\n",
            " [0. 1. 2. 3. 4.]]\n"
          ]
        }
      ],
      "source": [
        "arr=np.zeros((5,5))\n",
        "print(arr)\n",
        "arr+=np.arange(5)\n",
        "print(arr)"
      ],
      "id": "1d974e8f"
    },
    {
      "cell_type": "markdown",
      "metadata": {
        "id": "9720e2d5"
      },
      "source": [
        "#### 38. Consider a generator function that generates 10 integers and use it to build an array (★☆☆)"
      ],
      "id": "9720e2d5"
    },
    {
      "cell_type": "code",
      "execution_count": null,
      "metadata": {
        "id": "e5dd8fc9",
        "colab": {
          "base_uri": "https://localhost:8080/"
        },
        "outputId": "1e35489b-e34a-45e0-e755-87d4de2b5e4e"
      },
      "outputs": [
        {
          "output_type": "stream",
          "name": "stdout",
          "text": [
            "[1. 3. 4.]\n"
          ]
        }
      ],
      "source": [
        "def generator():\n",
        "  lst=[1,3,4]\n",
        "  for i in lst:\n",
        "    yield i\n",
        "arr = np.fromiter(generator(), dtype=float)\n",
        "print(arr)\n"
      ],
      "id": "e5dd8fc9"
    },
    {
      "cell_type": "markdown",
      "metadata": {
        "id": "c6f2c912"
      },
      "source": [
        "#### 39. Create a vector of size 10 with values ranging from 0 to 1, both excluded (★★☆)"
      ],
      "id": "c6f2c912"
    },
    {
      "cell_type": "code",
      "execution_count": null,
      "metadata": {
        "id": "6aaa27d3",
        "colab": {
          "base_uri": "https://localhost:8080/"
        },
        "outputId": "ffc41954-96f9-4800-92f9-dfc1d3dc06a7"
      },
      "outputs": [
        {
          "output_type": "stream",
          "name": "stdout",
          "text": [
            "[0.94241229 0.04850552 0.13986488 0.762309   0.82509088 0.19424721\n",
            " 0.07722461 0.20306361 0.84124931 0.2699133 ]\n"
          ]
        }
      ],
      "source": [
        "arr=random.rand(10)\n",
        "print(arr)"
      ],
      "id": "6aaa27d3"
    },
    {
      "cell_type": "markdown",
      "metadata": {
        "id": "a36d6ee4"
      },
      "source": [
        "#### 40. Create a random vector of size 10 and sort it (★★☆)"
      ],
      "id": "a36d6ee4"
    },
    {
      "cell_type": "code",
      "execution_count": null,
      "metadata": {
        "id": "e589d216",
        "colab": {
          "base_uri": "https://localhost:8080/"
        },
        "outputId": "8c4e2b7a-36c2-46d3-df12-7c8e812501da"
      },
      "outputs": [
        {
          "output_type": "stream",
          "name": "stdout",
          "text": [
            "[2 3 4 5 6 6 8 8 9 9]\n"
          ]
        }
      ],
      "source": [
        "arr=random.randint(10,size=10)\n",
        "arr=np.sort(arr)\n",
        "print(arr)"
      ],
      "id": "e589d216"
    },
    {
      "cell_type": "markdown",
      "metadata": {
        "id": "0fb4ad68"
      },
      "source": [
        "#### 41. How to sum a small array faster than np.sum? (★★☆)"
      ],
      "id": "0fb4ad68"
    },
    {
      "cell_type": "code",
      "execution_count": null,
      "metadata": {
        "id": "a1ba05a0"
      },
      "outputs": [],
      "source": [],
      "id": "a1ba05a0"
    },
    {
      "cell_type": "markdown",
      "metadata": {
        "id": "024ac365"
      },
      "source": [
        "#### 42. Consider two random array A and B, check if they are equal (★★☆)"
      ],
      "id": "024ac365"
    },
    {
      "cell_type": "code",
      "execution_count": 3,
      "metadata": {
        "id": "7db3846d",
        "colab": {
          "base_uri": "https://localhost:8080/"
        },
        "outputId": "d964298f-449f-461f-c288-1d450eb0dcee"
      },
      "outputs": [
        {
          "output_type": "execute_result",
          "data": {
            "text/plain": [
              "True"
            ]
          },
          "metadata": {},
          "execution_count": 3
        }
      ],
      "source": [
        "import numpy as np\n",
        "arr1=np.zeros((5,5))\n",
        "arr2=np.zeros((5,5))\n",
        "np.array_equal(arr1,arr2)"
      ],
      "id": "7db3846d"
    },
    {
      "cell_type": "markdown",
      "metadata": {
        "id": "c68d2401"
      },
      "source": [
        "#### 43. Make an array immutable (read-only) (★★☆)"
      ],
      "id": "c68d2401"
    },
    {
      "cell_type": "code",
      "execution_count": 6,
      "metadata": {
        "id": "7828539d",
        "colab": {
          "base_uri": "https://localhost:8080/",
          "height": 210
        },
        "outputId": "d46590cc-fedd-450f-c631-ed16f032be9b"
      },
      "outputs": [
        {
          "output_type": "error",
          "ename": "ValueError",
          "evalue": "ignored",
          "traceback": [
            "\u001b[0;31m---------------------------------------------------------------------------\u001b[0m",
            "\u001b[0;31mValueError\u001b[0m                                Traceback (most recent call last)",
            "\u001b[0;32m<ipython-input-6-9448dad6f86b>\u001b[0m in \u001b[0;36m<cell line: 3>\u001b[0;34m()\u001b[0m\n\u001b[1;32m      1\u001b[0m \u001b[0marr1\u001b[0m\u001b[0;34m=\u001b[0m\u001b[0mnp\u001b[0m\u001b[0;34m.\u001b[0m\u001b[0mzeros\u001b[0m\u001b[0;34m(\u001b[0m\u001b[0;34m(\u001b[0m\u001b[0;36m5\u001b[0m\u001b[0;34m,\u001b[0m\u001b[0;36m5\u001b[0m\u001b[0;34m)\u001b[0m\u001b[0;34m)\u001b[0m\u001b[0;34m\u001b[0m\u001b[0;34m\u001b[0m\u001b[0m\n\u001b[1;32m      2\u001b[0m \u001b[0marr1\u001b[0m\u001b[0;34m.\u001b[0m\u001b[0mflags\u001b[0m\u001b[0;34m.\u001b[0m\u001b[0mwriteable\u001b[0m\u001b[0;34m=\u001b[0m\u001b[0;32mFalse\u001b[0m\u001b[0;34m\u001b[0m\u001b[0;34m\u001b[0m\u001b[0m\n\u001b[0;32m----> 3\u001b[0;31m \u001b[0marr1\u001b[0m\u001b[0;34m[\u001b[0m\u001b[0;36m0\u001b[0m\u001b[0;34m,\u001b[0m\u001b[0;36m0\u001b[0m\u001b[0;34m]\u001b[0m\u001b[0;34m=\u001b[0m\u001b[0;36m1\u001b[0m\u001b[0;34m\u001b[0m\u001b[0;34m\u001b[0m\u001b[0m\n\u001b[0m",
            "\u001b[0;31mValueError\u001b[0m: assignment destination is read-only"
          ]
        }
      ],
      "source": [
        "arr1=np.zeros((5,5))\n",
        "arr1.flags.writeable=False\n",
        "arr1[0,0]=1"
      ],
      "id": "7828539d"
    },
    {
      "cell_type": "markdown",
      "metadata": {
        "id": "55df6280"
      },
      "source": [
        "#### 44. Consider a random 10x2 matrix representing cartesian coordinates, convert them to polar coordinates (★★☆)"
      ],
      "id": "55df6280"
    },
    {
      "cell_type": "code",
      "execution_count": 9,
      "metadata": {
        "id": "f1c86ea0",
        "colab": {
          "base_uri": "https://localhost:8080/"
        },
        "outputId": "c04ba859-c45a-4382-a821-25fbe9923e3c"
      },
      "outputs": [
        {
          "output_type": "stream",
          "name": "stdout",
          "text": [
            "[[11  6]\n",
            " [10  2]\n",
            " [ 1  9]\n",
            " [ 6  2]\n",
            " [10  1]\n",
            " [13  3]\n",
            " [ 9  8]\n",
            " [ 0 12]\n",
            " [ 1  7]\n",
            " [ 6 10]]\n",
            "[12.52996409 10.19803903  9.05538514  6.32455532 10.04987562 13.34166406\n",
            " 12.04159458 12.          7.07106781 11.66190379]\n",
            "[0.49934672 0.19739556 1.46013911 0.32175055 0.09966865 0.22679885\n",
            " 0.72664234 1.57079633 1.42889927 1.03037683]\n",
            "[[12.52996409  0.49934672]\n",
            " [10.19803903  0.19739556]\n",
            " [ 9.05538514  1.46013911]\n",
            " [ 6.32455532  0.32175055]\n",
            " [10.04987562  0.09966865]\n",
            " [13.34166406  0.22679885]\n",
            " [12.04159458  0.72664234]\n",
            " [12.          1.57079633]\n",
            " [ 7.07106781  1.42889927]\n",
            " [11.66190379  1.03037683]]\n"
          ]
        }
      ],
      "source": [
        "import numpy as np\n",
        "from numpy import random\n",
        "arr = np.random.randint(15,size=(10, 2))\n",
        "print(arr)\n",
        "x, y = arr[:, 0], arr[:, 1]\n",
        "r = np.sqrt(x**2 + y**2)\n",
        "print(r)\n",
        "theta = np.arctan2(y, x)\n",
        "print(theta)\n",
        "print(np.column_stack([r, theta]))\n"
      ],
      "id": "f1c86ea0"
    },
    {
      "cell_type": "markdown",
      "metadata": {
        "id": "2f60f1ec"
      },
      "source": [
        "#### 45. Create random vector of size 10 and replace the maximum value by 0 (★★☆)"
      ],
      "id": "2f60f1ec"
    },
    {
      "cell_type": "code",
      "execution_count": 6,
      "metadata": {
        "id": "d9f48f1c",
        "colab": {
          "base_uri": "https://localhost:8080/"
        },
        "outputId": "09dfa2dc-874d-42db-95d9-150003b74a8f"
      },
      "outputs": [
        {
          "output_type": "stream",
          "name": "stdout",
          "text": [
            "12\n",
            "[ 3 12  6  3  4  7  5  4 10  0]\n",
            "[ 3  0  6  3  4  7  5  4 10  0]\n"
          ]
        }
      ],
      "source": [
        "arr = np.random.randint(15,size=(10))\n",
        "max_value = np.max(arr)\n",
        "print(max_value)\n",
        "print(arr)\n",
        "arr[arr == max_value] = 0\n",
        "print(arr)"
      ],
      "id": "d9f48f1c"
    },
    {
      "cell_type": "markdown",
      "metadata": {
        "id": "084e8ad4"
      },
      "source": [
        "#### 46. Create a structured array with `x` and `y` coordinates covering the [0,1]x[0,1] area (★★☆)"
      ],
      "id": "084e8ad4"
    },
    {
      "cell_type": "code",
      "execution_count": 13,
      "metadata": {
        "id": "58b47c13",
        "colab": {
          "base_uri": "https://localhost:8080/"
        },
        "outputId": "affa2e72-0fc4-49ae-c0ae-aaa5c2df4d90"
      },
      "outputs": [
        {
          "output_type": "stream",
          "name": "stdout",
          "text": [
            "[[( 0. ,  0. ) ( 2.5,  0. ) ( 5. ,  0. ) ( 7.5,  0. ) (10. ,  0. )]\n",
            " [( 0. ,  2.5) ( 2.5,  2.5) ( 5. ,  2.5) ( 7.5,  2.5) (10. ,  2.5)]\n",
            " [( 0. ,  5. ) ( 2.5,  5. ) ( 5. ,  5. ) ( 7.5,  5. ) (10. ,  5. )]\n",
            " [( 0. ,  7.5) ( 2.5,  7.5) ( 5. ,  7.5) ( 7.5,  7.5) (10. ,  7.5)]\n",
            " [( 0. , 10. ) ( 2.5, 10. ) ( 5. , 10. ) ( 7.5, 10. ) (10. , 10. )]]\n"
          ]
        }
      ],
      "source": [
        "x=np.zeros((5,5),[('a',float),('b',float)])\n",
        "x['a'],x['b']=np.meshgrid(np.linspace(0,10,5),np.linspace(0,10,5))\n",
        "print(x)\n"
      ],
      "id": "58b47c13"
    },
    {
      "cell_type": "markdown",
      "metadata": {
        "id": "d7b9bc42"
      },
      "source": [
        "#### 47. Given two arrays, X and Y, construct the Cauchy matrix C (Cij =1/(xi - yj)) (★★☆)"
      ],
      "id": "d7b9bc42"
    },
    {
      "cell_type": "code",
      "execution_count": null,
      "metadata": {
        "id": "a24824fb"
      },
      "outputs": [],
      "source": [
        "X = np.arange(8)\n",
        "Y = X + 0.5\n",
        "C = 1.0 / np.subtract.outer(X, Y)\n",
        "print(np.linalg.det(C))"
      ],
      "id": "a24824fb"
    },
    {
      "cell_type": "markdown",
      "metadata": {
        "id": "65ebc11b"
      },
      "source": [
        "#### 48. Print the minimum and maximum representable value for each numpy scalar type (★★☆)"
      ],
      "id": "65ebc11b"
    },
    {
      "cell_type": "code",
      "execution_count": null,
      "metadata": {
        "id": "e45d38fb"
      },
      "outputs": [],
      "source": [],
      "id": "e45d38fb"
    },
    {
      "cell_type": "markdown",
      "metadata": {
        "id": "9b317a98"
      },
      "source": [
        "#### 49. How to print all the values of an array? (★★☆)"
      ],
      "id": "9b317a98"
    },
    {
      "cell_type": "code",
      "execution_count": null,
      "metadata": {
        "id": "309cdeb9"
      },
      "outputs": [],
      "source": [
        "np.set_printoptions(threshold=np.nan)\n",
        "Z = np.zeros((16,16))\n",
        "print(Z)"
      ],
      "id": "309cdeb9"
    },
    {
      "cell_type": "markdown",
      "metadata": {
        "id": "b580f9d0"
      },
      "source": [
        "#### 50. How to find the closest value (to a given scalar) in a vector? (★★☆)"
      ],
      "id": "b580f9d0"
    },
    {
      "cell_type": "code",
      "execution_count": null,
      "metadata": {
        "id": "ebfb6714"
      },
      "outputs": [],
      "source": [
        "Z = np.arange(100)\n",
        "v = np.random.uniform(0,100)\n",
        "index = (np.abs(Z-v)).argmin()\n",
        "print(Z[index])"
      ],
      "id": "ebfb6714"
    },
    {
      "cell_type": "markdown",
      "metadata": {
        "id": "602e6252"
      },
      "source": [
        "#### 51. Create a structured array representing a position (x,y) and a color (r,g,b) (★★☆)"
      ],
      "id": "602e6252"
    },
    {
      "cell_type": "code",
      "execution_count": null,
      "metadata": {
        "id": "cf002b3a"
      },
      "outputs": [],
      "source": [],
      "id": "cf002b3a"
    },
    {
      "cell_type": "markdown",
      "metadata": {
        "id": "78bcd92f"
      },
      "source": [
        "#### 52. Consider a random vector with shape (100,2) representing coordinates, find point by point distances (★★☆)"
      ],
      "id": "78bcd92f"
    },
    {
      "cell_type": "code",
      "execution_count": null,
      "metadata": {
        "id": "fea7f9a6"
      },
      "outputs": [],
      "source": [],
      "id": "fea7f9a6"
    },
    {
      "cell_type": "markdown",
      "metadata": {
        "id": "343c5a85"
      },
      "source": [
        "#### 53. How to convert a float (32 bits) array into an integer (32 bits) in place?"
      ],
      "id": "343c5a85"
    },
    {
      "cell_type": "code",
      "execution_count": null,
      "metadata": {
        "id": "fc1b687b"
      },
      "outputs": [],
      "source": [],
      "id": "fc1b687b"
    },
    {
      "cell_type": "markdown",
      "metadata": {
        "id": "a69e1ace"
      },
      "source": [
        "#### 54. How to read the following file? (★★☆)\n",
        "```\n",
        "1, 2, 3, 4, 5\n",
        "6,  ,  , 7, 8\n",
        " ,  , 9,10,11\n",
        "```"
      ],
      "id": "a69e1ace"
    },
    {
      "cell_type": "code",
      "execution_count": null,
      "metadata": {
        "id": "1c7957d4"
      },
      "outputs": [],
      "source": [],
      "id": "1c7957d4"
    },
    {
      "cell_type": "markdown",
      "metadata": {
        "id": "c23bd80d"
      },
      "source": [
        "#### 55. What is the equivalent of enumerate for numpy arrays? (★★☆)"
      ],
      "id": "c23bd80d"
    },
    {
      "cell_type": "code",
      "execution_count": null,
      "metadata": {
        "id": "d95d9578"
      },
      "outputs": [],
      "source": [],
      "id": "d95d9578"
    },
    {
      "cell_type": "markdown",
      "metadata": {
        "id": "2153a5ec"
      },
      "source": [
        "#### 56. Generate a generic 2D Gaussian-like array (★★☆)"
      ],
      "id": "2153a5ec"
    },
    {
      "cell_type": "code",
      "execution_count": null,
      "metadata": {
        "id": "61122d1e"
      },
      "outputs": [],
      "source": [],
      "id": "61122d1e"
    },
    {
      "cell_type": "markdown",
      "metadata": {
        "id": "2e76d589"
      },
      "source": [
        "#### 57. How to randomly place p elements in a 2D array? (★★☆)"
      ],
      "id": "2e76d589"
    },
    {
      "cell_type": "code",
      "execution_count": null,
      "metadata": {
        "id": "0c2e4fcc"
      },
      "outputs": [],
      "source": [],
      "id": "0c2e4fcc"
    },
    {
      "cell_type": "markdown",
      "metadata": {
        "id": "8b3933eb"
      },
      "source": [
        "#### 58. Subtract the mean of each row of a matrix (★★☆)"
      ],
      "id": "8b3933eb"
    },
    {
      "cell_type": "code",
      "execution_count": null,
      "metadata": {
        "id": "a306c9ef"
      },
      "outputs": [],
      "source": [],
      "id": "a306c9ef"
    },
    {
      "cell_type": "markdown",
      "metadata": {
        "id": "ea8807c0"
      },
      "source": [
        "#### 59. How to sort an array by the nth column? (★★☆)"
      ],
      "id": "ea8807c0"
    },
    {
      "cell_type": "code",
      "execution_count": null,
      "metadata": {
        "id": "cc89a699"
      },
      "outputs": [],
      "source": [],
      "id": "cc89a699"
    },
    {
      "cell_type": "markdown",
      "metadata": {
        "id": "00fa00a1"
      },
      "source": [
        "#### 60. How to tell if a given 2D array has null columns? (★★☆)"
      ],
      "id": "00fa00a1"
    },
    {
      "cell_type": "code",
      "execution_count": null,
      "metadata": {
        "id": "3436e165"
      },
      "outputs": [],
      "source": [],
      "id": "3436e165"
    },
    {
      "cell_type": "markdown",
      "metadata": {
        "id": "5a65c7a2"
      },
      "source": [
        "#### 61. Find the nearest value from a given value in an array (★★☆)"
      ],
      "id": "5a65c7a2"
    },
    {
      "cell_type": "code",
      "execution_count": null,
      "metadata": {
        "id": "73f149d6"
      },
      "outputs": [],
      "source": [],
      "id": "73f149d6"
    },
    {
      "cell_type": "markdown",
      "metadata": {
        "id": "dd83e8af"
      },
      "source": [
        "#### 62. Considering two arrays with shape (1,3) and (3,1), how to compute their sum using an iterator? (★★☆)"
      ],
      "id": "dd83e8af"
    },
    {
      "cell_type": "code",
      "execution_count": null,
      "metadata": {
        "id": "29a709a1"
      },
      "outputs": [],
      "source": [],
      "id": "29a709a1"
    },
    {
      "cell_type": "markdown",
      "metadata": {
        "id": "6c042efa"
      },
      "source": [
        "#### 63. Create an array class that has a name attribute (★★☆)"
      ],
      "id": "6c042efa"
    },
    {
      "cell_type": "code",
      "execution_count": null,
      "metadata": {
        "id": "45b3d2e0"
      },
      "outputs": [],
      "source": [],
      "id": "45b3d2e0"
    },
    {
      "cell_type": "markdown",
      "metadata": {
        "id": "0a075c3d"
      },
      "source": [
        "#### 64. Consider a given vector, how to add 1 to each element indexed by a second vector (be careful with repeated indices)? (★★★)"
      ],
      "id": "0a075c3d"
    },
    {
      "cell_type": "code",
      "execution_count": null,
      "metadata": {
        "id": "36c50470"
      },
      "outputs": [],
      "source": [],
      "id": "36c50470"
    },
    {
      "cell_type": "markdown",
      "metadata": {
        "id": "0fb2f0c5"
      },
      "source": [
        "#### 65. How to accumulate elements of a vector (X) to an array (F) based on an index list (I)? (★★★)"
      ],
      "id": "0fb2f0c5"
    },
    {
      "cell_type": "code",
      "execution_count": null,
      "metadata": {
        "id": "58aa5f82"
      },
      "outputs": [],
      "source": [],
      "id": "58aa5f82"
    },
    {
      "cell_type": "markdown",
      "metadata": {
        "id": "d89dc506"
      },
      "source": [
        "#### 66. Considering a (w,h,3) image of (dtype=ubyte), compute the number of unique colors (★★☆)"
      ],
      "id": "d89dc506"
    },
    {
      "cell_type": "code",
      "execution_count": null,
      "metadata": {
        "id": "8fb43a49"
      },
      "outputs": [],
      "source": [],
      "id": "8fb43a49"
    },
    {
      "cell_type": "markdown",
      "metadata": {
        "id": "535a5d81"
      },
      "source": [
        "#### 67. Considering a four dimensions array, how to get sum over the last two axis at once? (★★★)"
      ],
      "id": "535a5d81"
    },
    {
      "cell_type": "code",
      "execution_count": null,
      "metadata": {
        "id": "f954ab9d"
      },
      "outputs": [],
      "source": [],
      "id": "f954ab9d"
    },
    {
      "cell_type": "markdown",
      "metadata": {
        "id": "eee66d3c"
      },
      "source": [
        "#### 68. Considering a one-dimensional vector D, how to compute means of subsets of D using a vector S of same size describing subset  indices? (★★★)"
      ],
      "id": "eee66d3c"
    },
    {
      "cell_type": "code",
      "execution_count": null,
      "metadata": {
        "id": "8929773a"
      },
      "outputs": [],
      "source": [],
      "id": "8929773a"
    },
    {
      "cell_type": "markdown",
      "metadata": {
        "id": "f90d4c40"
      },
      "source": [
        "#### 69. How to get the diagonal of a dot product? (★★★)"
      ],
      "id": "f90d4c40"
    },
    {
      "cell_type": "code",
      "execution_count": null,
      "metadata": {
        "id": "b47d392d"
      },
      "outputs": [],
      "source": [],
      "id": "b47d392d"
    },
    {
      "cell_type": "markdown",
      "metadata": {
        "id": "a8a97e7d"
      },
      "source": [
        "#### 70. Consider the vector [1, 2, 3, 4, 5], how to build a new vector with 3 consecutive zeros interleaved between each value? (★★★)"
      ],
      "id": "a8a97e7d"
    },
    {
      "cell_type": "code",
      "execution_count": null,
      "metadata": {
        "id": "ee6c6c37"
      },
      "outputs": [],
      "source": [],
      "id": "ee6c6c37"
    },
    {
      "cell_type": "markdown",
      "metadata": {
        "id": "d6a30d60"
      },
      "source": [
        "#### 71. Consider an array of dimension (5,5,3), how to mulitply it by an array with dimensions (5,5)? (★★★)"
      ],
      "id": "d6a30d60"
    },
    {
      "cell_type": "code",
      "execution_count": null,
      "metadata": {
        "id": "e9703f2e"
      },
      "outputs": [],
      "source": [],
      "id": "e9703f2e"
    },
    {
      "cell_type": "markdown",
      "metadata": {
        "id": "bac359a9"
      },
      "source": [
        "#### 72. How to swap two rows of an array? (★★★)"
      ],
      "id": "bac359a9"
    },
    {
      "cell_type": "code",
      "execution_count": null,
      "metadata": {
        "id": "f1b432b1"
      },
      "outputs": [],
      "source": [],
      "id": "f1b432b1"
    },
    {
      "cell_type": "markdown",
      "metadata": {
        "id": "620c9f83"
      },
      "source": [
        "#### 73. Consider a set of 10 triplets describing 10 triangles (with shared vertices), find the set of unique line segments composing all the  triangles (★★★)"
      ],
      "id": "620c9f83"
    },
    {
      "cell_type": "code",
      "execution_count": null,
      "metadata": {
        "id": "4e595ffc"
      },
      "outputs": [],
      "source": [],
      "id": "4e595ffc"
    },
    {
      "cell_type": "markdown",
      "metadata": {
        "id": "a76c55a2"
      },
      "source": [
        "#### 74. Given a sorted array C that corresponds to a bincount, how to produce an array A such that np.bincount(A) == C? (★★★)"
      ],
      "id": "a76c55a2"
    },
    {
      "cell_type": "code",
      "execution_count": null,
      "metadata": {
        "id": "2d2ae65a"
      },
      "outputs": [],
      "source": [],
      "id": "2d2ae65a"
    },
    {
      "cell_type": "markdown",
      "metadata": {
        "id": "d550c8e2"
      },
      "source": [
        "#### 75. How to compute averages using a sliding window over an array? (★★★)"
      ],
      "id": "d550c8e2"
    },
    {
      "cell_type": "code",
      "execution_count": null,
      "metadata": {
        "id": "841c457c"
      },
      "outputs": [],
      "source": [],
      "id": "841c457c"
    },
    {
      "cell_type": "markdown",
      "metadata": {
        "id": "6b170b00"
      },
      "source": [
        "#### 76. Consider a one-dimensional array Z, build a two-dimensional array whose first row is (Z[0],Z[1],Z[2]) and each subsequent row is  shifted by 1 (last row should be (Z[-3],Z[-2],Z[-1]) (★★★)"
      ],
      "id": "6b170b00"
    },
    {
      "cell_type": "code",
      "execution_count": null,
      "metadata": {
        "id": "d9a0cf4e"
      },
      "outputs": [],
      "source": [],
      "id": "d9a0cf4e"
    },
    {
      "cell_type": "markdown",
      "metadata": {
        "id": "e94a5c1d"
      },
      "source": [
        "#### 77. How to negate a boolean, or to change the sign of a float inplace? (★★★)"
      ],
      "id": "e94a5c1d"
    },
    {
      "cell_type": "code",
      "execution_count": null,
      "metadata": {
        "id": "c0f9504f"
      },
      "outputs": [],
      "source": [],
      "id": "c0f9504f"
    },
    {
      "cell_type": "markdown",
      "metadata": {
        "id": "4eb8b5c1"
      },
      "source": [
        "#### 78. Consider 2 sets of points P0,P1 describing lines (2d) and a point p, how to compute distance from p to each line i (P0[i],P1[i])? (★★★)"
      ],
      "id": "4eb8b5c1"
    },
    {
      "cell_type": "code",
      "execution_count": null,
      "metadata": {
        "id": "487f47ec"
      },
      "outputs": [],
      "source": [],
      "id": "487f47ec"
    },
    {
      "cell_type": "markdown",
      "metadata": {
        "id": "3df99948"
      },
      "source": [
        "#### 79. Consider 2 sets of points P0,P1 describing lines (2d) and a set of points P, how to compute distance from each point j (P[j]) to each line i (P0[i],P1[i])? (★★★)"
      ],
      "id": "3df99948"
    },
    {
      "cell_type": "code",
      "execution_count": null,
      "metadata": {
        "id": "dc2df37b"
      },
      "outputs": [],
      "source": [],
      "id": "dc2df37b"
    },
    {
      "cell_type": "markdown",
      "metadata": {
        "id": "11e972c2"
      },
      "source": [
        "#### 80. Consider an arbitrary array, write a function that extract a subpart with a fixed shape and centered on a given element (pad with a `fill` value when necessary) (★★★)"
      ],
      "id": "11e972c2"
    },
    {
      "cell_type": "code",
      "execution_count": null,
      "metadata": {
        "id": "0291247f"
      },
      "outputs": [],
      "source": [],
      "id": "0291247f"
    },
    {
      "cell_type": "markdown",
      "metadata": {
        "id": "93cfeab3"
      },
      "source": [
        "#### 81. Consider an array Z = [1,2,3,4,5,6,7,8,9,10,11,12,13,14], how to generate an array R = [[1,2,3,4], [2,3,4,5], [3,4,5,6], ..., [11,12,13,14]]? (★★★)"
      ],
      "id": "93cfeab3"
    },
    {
      "cell_type": "code",
      "execution_count": null,
      "metadata": {
        "id": "360de791"
      },
      "outputs": [],
      "source": [],
      "id": "360de791"
    },
    {
      "cell_type": "markdown",
      "metadata": {
        "id": "4c15ceff"
      },
      "source": [
        "#### 82. Compute a matrix rank (★★★)"
      ],
      "id": "4c15ceff"
    },
    {
      "cell_type": "code",
      "execution_count": null,
      "metadata": {
        "id": "9a4272d2"
      },
      "outputs": [],
      "source": [],
      "id": "9a4272d2"
    },
    {
      "cell_type": "markdown",
      "metadata": {
        "id": "1171cb84"
      },
      "source": [
        "#### 83. How to find the most frequent value in an array?"
      ],
      "id": "1171cb84"
    },
    {
      "cell_type": "code",
      "execution_count": null,
      "metadata": {
        "id": "33e951c8"
      },
      "outputs": [],
      "source": [],
      "id": "33e951c8"
    },
    {
      "cell_type": "markdown",
      "metadata": {
        "id": "04f472aa"
      },
      "source": [
        "#### 84. Extract all the contiguous 3x3 blocks from a random 10x10 matrix (★★★)"
      ],
      "id": "04f472aa"
    },
    {
      "cell_type": "code",
      "execution_count": null,
      "metadata": {
        "id": "7aade14a"
      },
      "outputs": [],
      "source": [],
      "id": "7aade14a"
    },
    {
      "cell_type": "markdown",
      "metadata": {
        "id": "52836346"
      },
      "source": [
        "#### 85. Create a 2D array subclass such that Z[i,j] == Z[j,i] (★★★)"
      ],
      "id": "52836346"
    },
    {
      "cell_type": "code",
      "execution_count": null,
      "metadata": {
        "id": "4df70318"
      },
      "outputs": [],
      "source": [],
      "id": "4df70318"
    },
    {
      "cell_type": "markdown",
      "metadata": {
        "id": "78c43ee5"
      },
      "source": [
        "#### 86. Consider a set of p matrices with shape (n,n) and a set of p vectors with shape (n,1). How to compute the sum of of the p matrix products at once? (result has shape (n,1)) (★★★)"
      ],
      "id": "78c43ee5"
    },
    {
      "cell_type": "code",
      "execution_count": null,
      "metadata": {
        "id": "32fd2c3b"
      },
      "outputs": [],
      "source": [],
      "id": "32fd2c3b"
    },
    {
      "cell_type": "markdown",
      "metadata": {
        "id": "158f9945"
      },
      "source": [
        "#### 87. Consider a 16x16 array, how to get the block-sum (block size is 4x4)? (★★★)"
      ],
      "id": "158f9945"
    },
    {
      "cell_type": "code",
      "execution_count": null,
      "metadata": {
        "id": "5a9b808f"
      },
      "outputs": [],
      "source": [],
      "id": "5a9b808f"
    },
    {
      "cell_type": "markdown",
      "metadata": {
        "id": "2e0ad860"
      },
      "source": [
        "#### 88. How to implement the Game of Life using numpy arrays? (★★★)"
      ],
      "id": "2e0ad860"
    },
    {
      "cell_type": "code",
      "execution_count": null,
      "metadata": {
        "id": "574acff5"
      },
      "outputs": [],
      "source": [],
      "id": "574acff5"
    },
    {
      "cell_type": "markdown",
      "metadata": {
        "id": "69a892fa"
      },
      "source": [
        "#### 89. How to get the n largest values of an array (★★★)"
      ],
      "id": "69a892fa"
    },
    {
      "cell_type": "code",
      "execution_count": null,
      "metadata": {
        "id": "21b2bd48"
      },
      "outputs": [],
      "source": [],
      "id": "21b2bd48"
    },
    {
      "cell_type": "markdown",
      "metadata": {
        "id": "b55ccacc"
      },
      "source": [
        "#### 90. Given an arbitrary number of vectors, build the cartesian product (every combinations of every item) (★★★)"
      ],
      "id": "b55ccacc"
    },
    {
      "cell_type": "code",
      "execution_count": null,
      "metadata": {
        "id": "4b645da4"
      },
      "outputs": [],
      "source": [],
      "id": "4b645da4"
    },
    {
      "cell_type": "markdown",
      "metadata": {
        "id": "89187a23"
      },
      "source": [
        "#### 91. How to create a record array from a regular array? (★★★)"
      ],
      "id": "89187a23"
    },
    {
      "cell_type": "code",
      "execution_count": null,
      "metadata": {
        "id": "da94c71a"
      },
      "outputs": [],
      "source": [],
      "id": "da94c71a"
    },
    {
      "cell_type": "markdown",
      "metadata": {
        "id": "aa70d4ca"
      },
      "source": [
        "#### 92. Consider a large vector Z, compute Z to the power of 3 using 3 different methods (★★★)"
      ],
      "id": "aa70d4ca"
    },
    {
      "cell_type": "code",
      "execution_count": null,
      "metadata": {
        "id": "7cff1bf5"
      },
      "outputs": [],
      "source": [],
      "id": "7cff1bf5"
    },
    {
      "cell_type": "markdown",
      "metadata": {
        "id": "5f79dd00"
      },
      "source": [
        "#### 93. Consider two arrays A and B of shape (8,3) and (2,2). How to find rows of A that contain elements of each row of B regardless of the order of the elements in B? (★★★)"
      ],
      "id": "5f79dd00"
    },
    {
      "cell_type": "code",
      "execution_count": null,
      "metadata": {
        "id": "20c105b2"
      },
      "outputs": [],
      "source": [],
      "id": "20c105b2"
    },
    {
      "cell_type": "markdown",
      "metadata": {
        "id": "a80570cd"
      },
      "source": [
        "#### 94. Considering a 10x3 matrix, extract rows with unequal values (e.g. [2,2,3]) (★★★)"
      ],
      "id": "a80570cd"
    },
    {
      "cell_type": "code",
      "execution_count": null,
      "metadata": {
        "id": "84db8de1"
      },
      "outputs": [],
      "source": [],
      "id": "84db8de1"
    },
    {
      "cell_type": "markdown",
      "metadata": {
        "id": "ba154f43"
      },
      "source": [
        "#### 95. Convert a vector of ints into a matrix binary representation (★★★)"
      ],
      "id": "ba154f43"
    },
    {
      "cell_type": "code",
      "execution_count": null,
      "metadata": {
        "id": "cfa96e1b"
      },
      "outputs": [],
      "source": [],
      "id": "cfa96e1b"
    },
    {
      "cell_type": "markdown",
      "metadata": {
        "id": "420e2343"
      },
      "source": [
        "#### 96. Given a two dimensional array, how to extract unique rows? (★★★)"
      ],
      "id": "420e2343"
    },
    {
      "cell_type": "code",
      "execution_count": null,
      "metadata": {
        "id": "4680dfd0"
      },
      "outputs": [],
      "source": [],
      "id": "4680dfd0"
    },
    {
      "cell_type": "markdown",
      "metadata": {
        "id": "89fef2f3"
      },
      "source": [
        "#### 97. Considering 2 vectors A & B, write the einsum equivalent of inner, outer, sum, and mul function (★★★)"
      ],
      "id": "89fef2f3"
    },
    {
      "cell_type": "code",
      "execution_count": null,
      "metadata": {
        "id": "bb9c14b2"
      },
      "outputs": [],
      "source": [],
      "id": "bb9c14b2"
    },
    {
      "cell_type": "markdown",
      "metadata": {
        "id": "7ad5cc5f"
      },
      "source": [
        "#### 98. Considering a path described by two vectors (X,Y), how to sample it using equidistant samples (★★★)?"
      ],
      "id": "7ad5cc5f"
    },
    {
      "cell_type": "code",
      "execution_count": null,
      "metadata": {
        "id": "0899d1d5"
      },
      "outputs": [],
      "source": [],
      "id": "0899d1d5"
    },
    {
      "cell_type": "markdown",
      "metadata": {
        "id": "2b69272e"
      },
      "source": [
        "#### 99. Given an integer n and a 2D array X, select from X the rows which can be interpreted as draws from a multinomial distribution with n degrees, i.e., the rows which only contain integers and which sum to n. (★★★)"
      ],
      "id": "2b69272e"
    },
    {
      "cell_type": "code",
      "execution_count": null,
      "metadata": {
        "id": "55c8b034"
      },
      "outputs": [],
      "source": [],
      "id": "55c8b034"
    },
    {
      "cell_type": "markdown",
      "metadata": {
        "id": "59ab5516"
      },
      "source": [
        "#### 100. Compute bootstrapped 95% confidence intervals for the mean of a 1D array X (i.e., resample the elements of an array with replacement N times, compute the mean of each sample, and then compute percentiles over the means). (★★★)"
      ],
      "id": "59ab5516"
    },
    {
      "cell_type": "code",
      "execution_count": null,
      "metadata": {
        "id": "450877d8"
      },
      "outputs": [],
      "source": [],
      "id": "450877d8"
    }
  ],
  "metadata": {
    "colab": {
      "provenance": []
    },
    "kernelspec": {
      "display_name": "Python 3",
      "name": "python3"
    },
    "language_info": {
      "name": "python"
    }
  },
  "nbformat": 4,
  "nbformat_minor": 5
}