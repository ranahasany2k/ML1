{
  "cells": [
    {
      "cell_type": "markdown",
      "id": "1940c91d",
      "metadata": {
        "id": "1940c91d"
      },
      "source": [
        "### Questions 1\n",
        "\n",
        "Write a Python program to check that a string contains only a certain set of characters (in this case a-z, A-Z and 0-9)."
      ]
    },
    {
      "cell_type": "code",
      "source": [
        "import re\n",
        "text='''Lorem ipsum dolor sit amet, consectetur adipiscing elit. Vestibulum tristique augua_  ac_ sapien ullamcorper,\n",
        "\n",
        "Emails: user@example.com, info@test.org gha000 a000\n",
        "Phone numbzers: +1 (123) 456-7890, 555-1234\n",
        "Dates: 2023-06-15, 12/31/2023'''"
      ],
      "metadata": {
        "id": "HI8uUxXiZ1L2"
      },
      "id": "HI8uUxXiZ1L2",
      "execution_count": 30,
      "outputs": []
    },
    {
      "cell_type": "code",
      "execution_count": 2,
      "id": "fb788c99",
      "metadata": {
        "id": "fb788c99",
        "colab": {
          "base_uri": "https://localhost:8080/"
        },
        "outputId": "cf3b4db6-52f8-4b83-b3ee-ac758c885861"
      },
      "outputs": [
        {
          "output_type": "stream",
          "name": "stdout",
          "text": [
            "\"Hello123\" contains only allowed characters: True\n",
            "\"Hello123!\" contains only allowed characters: False\n"
          ]
        }
      ],
      "source": [
        "def contains_only_allowed_chars(input_string):\n",
        "    # Define the allowed characters using a regular expression pattern\n",
        "    allowed_chars_pattern = re.compile(r'^[a-zA-Z0-9]+$')\n",
        "\n",
        "    # Use the pattern to check if the input string contains only allowed characters\n",
        "    if allowed_chars_pattern.match(input_string):\n",
        "        return True\n",
        "    else:\n",
        "        return False\n",
        "\n",
        "# Example usage:\n",
        "input_str1 = \"Hello123\"\n",
        "input_str2 = \"Hello123!\"\n",
        "\n",
        "print(f'\"{input_str1}\" contains only allowed characters: {contains_only_allowed_chars(input_str1)}')\n",
        "print(f'\"{input_str2}\" contains only allowed characters: {contains_only_allowed_chars(input_str2)}')"
      ]
    },
    {
      "cell_type": "markdown",
      "id": "36b773c3",
      "metadata": {
        "id": "36b773c3"
      },
      "source": [
        "### Question 2\n",
        "\n",
        "Write a Python program that matches a string that has an a followed by zero or more b's."
      ]
    },
    {
      "cell_type": "code",
      "execution_count": 3,
      "id": "a552493a",
      "metadata": {
        "id": "a552493a",
        "colab": {
          "base_uri": "https://localhost:8080/"
        },
        "outputId": "ee09ed4d-3ba9-477f-8880-dbcbf8b8cce0"
      },
      "outputs": [
        {
          "output_type": "stream",
          "name": "stdout",
          "text": [
            "yes there is a match\n"
          ]
        }
      ],
      "source": [
        "def find(string):\n",
        "  a=re.compile(r'ab*')\n",
        "  match=a.search(string)\n",
        "  if match:\n",
        "    print('yes there is a match')\n",
        "  else:\n",
        "    print('no')\n",
        "find(text)"
      ]
    },
    {
      "cell_type": "markdown",
      "id": "673d61a9",
      "metadata": {
        "id": "673d61a9"
      },
      "source": [
        "### Question 3\n",
        "\n",
        "Write a Python program that matches a string that has an a followed by one or more b's."
      ]
    },
    {
      "cell_type": "code",
      "execution_count": 13,
      "id": "7e0fb77a",
      "metadata": {
        "id": "7e0fb77a",
        "colab": {
          "base_uri": "https://localhost:8080/"
        },
        "outputId": "3a899b40-2fd8-4a9b-8429-0243c2ffd0e0"
      },
      "outputs": [
        {
          "output_type": "stream",
          "name": "stdout",
          "text": [
            "no\n"
          ]
        }
      ],
      "source": [
        "def find(string):\n",
        "  pattren=re.compile(r'ab+')\n",
        "  match=pattren.search(string)\n",
        "  if match:\n",
        "    print('yes there is a match')\n",
        "  else:\n",
        "    print('no')\n",
        "find(text)\n"
      ]
    },
    {
      "cell_type": "markdown",
      "id": "8494f5a8",
      "metadata": {
        "id": "8494f5a8"
      },
      "source": [
        "### Question 4\n",
        "Write a Python program that matches a string that has an a followed by zero or one 'b'."
      ]
    },
    {
      "cell_type": "code",
      "execution_count": 12,
      "id": "df4a9688",
      "metadata": {
        "id": "df4a9688",
        "colab": {
          "base_uri": "https://localhost:8080/"
        },
        "outputId": "25f4f0de-75be-4b5d-b508-fd864456e3e3"
      },
      "outputs": [
        {
          "output_type": "stream",
          "name": "stdout",
          "text": [
            "yes there is a match\n"
          ]
        }
      ],
      "source": [
        "def find(string):\n",
        "  pattren=re.compile(r'ab?')\n",
        "  match=pattren.search(string)\n",
        "  if match:\n",
        "    print('yes there is a match')\n",
        "  else:\n",
        "    print('no')\n",
        "find(text)"
      ]
    },
    {
      "cell_type": "markdown",
      "id": "cb6b8dc8",
      "metadata": {
        "id": "cb6b8dc8"
      },
      "source": [
        "### Question 5\n",
        "Write a Python program to find sequences of lowercase letters joined by an underscore."
      ]
    },
    {
      "cell_type": "code",
      "execution_count": 16,
      "id": "fcf95464",
      "metadata": {
        "id": "fcf95464",
        "colab": {
          "base_uri": "https://localhost:8080/"
        },
        "outputId": "e7b0d71b-e95a-4936-aa71-788d240484eb"
      },
      "outputs": [
        {
          "output_type": "stream",
          "name": "stdout",
          "text": [
            "yes there is a match\n"
          ]
        }
      ],
      "source": [
        "def find(string):\n",
        "  pattren=re.compile(r'([a-z]_)')\n",
        "  match=pattren.search(string)\n",
        "  if match:\n",
        "    print('yes there is a match')\n",
        "  else:\n",
        "    print('no')\n",
        "find(text)"
      ]
    },
    {
      "cell_type": "markdown",
      "id": "3f07cde8",
      "metadata": {
        "id": "3f07cde8"
      },
      "source": [
        "### Question 6\n",
        "Write a Python program that matches a word at the beginning of a string."
      ]
    },
    {
      "cell_type": "code",
      "execution_count": 46,
      "id": "f7b852af",
      "metadata": {
        "id": "f7b852af",
        "colab": {
          "base_uri": "https://localhost:8080/"
        },
        "outputId": "e5f21927-8f0d-4bbd-f3f5-c318f497bc4a"
      },
      "outputs": [
        {
          "output_type": "stream",
          "name": "stdout",
          "text": [
            "no\n"
          ]
        }
      ],
      "source": [
        "def find(string):\n",
        "  pattren=re.compile(r'\\ALorem')\n",
        "  match=pattren.search(string)\n",
        "  if match:\n",
        "    print('yes there is a match')\n",
        "  else:\n",
        "    print('no')\n",
        "find(text)"
      ]
    },
    {
      "cell_type": "markdown",
      "id": "170c8d78",
      "metadata": {
        "id": "170c8d78"
      },
      "source": [
        "### Question 7\n",
        "Write a Python program that matches a word containing 'z'."
      ]
    },
    {
      "cell_type": "code",
      "execution_count": 33,
      "id": "c5c796b8",
      "metadata": {
        "id": "c5c796b8",
        "colab": {
          "base_uri": "https://localhost:8080/"
        },
        "outputId": "1f7ada91-8559-449d-868b-a38779701b53"
      },
      "outputs": [
        {
          "output_type": "stream",
          "name": "stdout",
          "text": [
            "yes there is a match\n"
          ]
        }
      ],
      "source": [
        "def find(string):\n",
        "  pattren=re.compile(r'z')\n",
        "  match=pattren.search(string)\n",
        "  if match:\n",
        "    print('yes there is a match')\n",
        "  else:\n",
        "    print('no')\n",
        "find(text)"
      ]
    },
    {
      "cell_type": "markdown",
      "id": "c2d89556",
      "metadata": {
        "id": "c2d89556"
      },
      "source": [
        "### Question 8\n",
        "Write a Python program to match a string that contains only upper and lowercase letters, numbers, and underscores."
      ]
    },
    {
      "cell_type": "code",
      "execution_count": 39,
      "id": "a1958601",
      "metadata": {
        "id": "a1958601",
        "colab": {
          "base_uri": "https://localhost:8080/"
        },
        "outputId": "3128de81-c332-4e30-f2b3-43c3e8804ae1"
      },
      "outputs": [
        {
          "output_type": "stream",
          "name": "stdout",
          "text": [
            "no\n"
          ]
        }
      ],
      "source": [
        "def find(string):\n",
        "  pattren=re.compile(r'^[a-zA-Z0-9]+_')\n",
        "  match=pattren.search(string)\n",
        "  if match:\n",
        "    print('yes there is a match')\n",
        "  else:\n",
        "    print('no')\n",
        "find(text)\n",
        "\n"
      ]
    },
    {
      "cell_type": "markdown",
      "id": "c476a75a",
      "metadata": {
        "id": "c476a75a"
      },
      "source": [
        "### Question 9\n",
        "Write a Python program to search for literal strings within a string.<br>\n",
        "Sample text : 'The quick brown fox jumps over the lazy dog.'<br>\n",
        "Searched words : 'fox', 'dog', 'horse'<br>"
      ]
    },
    {
      "cell_type": "code",
      "execution_count": 40,
      "id": "62fdfa6c",
      "metadata": {
        "id": "62fdfa6c",
        "colab": {
          "base_uri": "https://localhost:8080/"
        },
        "outputId": "ef578b73-c285-4613-93d3-5d12e2909800"
      },
      "outputs": [
        {
          "output_type": "stream",
          "name": "stdout",
          "text": [
            "no match found\n",
            "it's a match\n"
          ]
        }
      ],
      "source": [
        "\n",
        "def find(my_string):\n",
        "  m = re.search('cat|dog|fox|horse', my_string)\n",
        "  if m:\n",
        "    print('it\\'s a match')\n",
        "  else:\n",
        "    print('no match found')\n",
        "find(text)\n",
        "my_string = 'The quick brown fox jumps over the lazy dog.'\n",
        "find(my_string)\n",
        "\n"
      ]
    },
    {
      "cell_type": "markdown",
      "id": "5da7e932",
      "metadata": {
        "id": "5da7e932"
      },
      "source": [
        "### Question 10\n",
        "Write a Python program to search for a literal string in a string and also find the location within the original string where the pattern occurs.<br>\n",
        "\n",
        "Sample text : 'The quick brown fox jumps over the lazy dog.'<br>\n",
        "Searched words : 'fox'<br>\n",
        "\n"
      ]
    },
    {
      "cell_type": "code",
      "execution_count": 41,
      "id": "a540ad56",
      "metadata": {
        "id": "a540ad56",
        "colab": {
          "base_uri": "https://localhost:8080/"
        },
        "outputId": "8fdad913-4b1e-4d6c-905e-1c40ae768744"
      },
      "outputs": [
        {
          "output_type": "stream",
          "name": "stdout",
          "text": [
            "it's a match, starts on 15\n"
          ]
        }
      ],
      "source": [
        "my_string = 'The quick brown fox jumps over the lazy dog.'\n",
        "m = re.search('\\Wfox\\W', my_string)\n",
        "if m:\n",
        "    print('it\\'s a match, starts on', m.start())\n",
        "else:\n",
        "    print('no match found')"
      ]
    },
    {
      "cell_type": "markdown",
      "id": "3c788609",
      "metadata": {
        "id": "3c788609"
      },
      "source": [
        "### Question 11\n",
        "Write a Python program that checks whether a word starts and ends with a vowel in a given string. Return true if a word matches the condition; otherwise, return false.<br>\n",
        "Sample Data:<br>\n",
        "(\"Red Orange White\") -> True<br>\n",
        "(\"Red White Black\") -> False<br>\n",
        "(\"abcd dkise eosksu\") -> True<br>"
      ]
    },
    {
      "cell_type": "code",
      "execution_count": 44,
      "id": "6a5c8575",
      "metadata": {
        "id": "6a5c8575",
        "colab": {
          "base_uri": "https://localhost:8080/"
        },
        "outputId": "d83e77cd-bcdd-421f-c454-140d8428c201"
      },
      "outputs": [
        {
          "output_type": "stream",
          "name": "stdout",
          "text": [
            "False\n"
          ]
        }
      ],
      "source": [
        "def test(text):\n",
        "\treturn bool(re.findall('[/^[aeiou]$|^([aeiou]).*\\1$/', text))\n",
        "\n",
        "text =\"Red Orange White\"\n",
        "print(test(text))"
      ]
    },
    {
      "cell_type": "markdown",
      "id": "9bc8c2bb",
      "metadata": {
        "id": "9bc8c2bb"
      },
      "source": [
        "### Question 12\n",
        "Write a Python program that takes a string with some words. For two consecutive words in the said string, check whether the first word ends with a vowel and the next word begins with a vowel. If the program meets the condition, return true, otherwise false. Only one space is allowed between the words.<br>\n",
        "Sample Data:<br>\n",
        "(\"These exercises can be used for practice.\") -> True<br>\n",
        "(\"Following exercises should be removed for practice.\") -> False<br>\n",
        "(\"I use these stories in my classroom.\") -> True<br>"
      ]
    },
    {
      "cell_type": "code",
      "execution_count": 45,
      "id": "3b5f1d7b",
      "metadata": {
        "id": "3b5f1d7b",
        "colab": {
          "base_uri": "https://localhost:8080/"
        },
        "outputId": "6e60ee03-47b8-4e0e-8326-cdf8374af705"
      },
      "outputs": [
        {
          "output_type": "stream",
          "name": "stdout",
          "text": [
            "Original string: These exercises can be used for practice.\n",
            "Two following words begin and end with a vowel in the said string:\n",
            "True\n"
          ]
        }
      ],
      "source": [
        "def test(text):\n",
        "\treturn bool(re.findall('[AEIOUaeiou] [AEIOUaeiou]', text))\n",
        "\n",
        "text =\"These exercises can be used for practice.\"\n",
        "print(\"Original string:\", text)\n",
        "print(\"Two following words begin and end with a vowel in the said string:\")\n",
        "print(test(text))"
      ]
    },
    {
      "cell_type": "code",
      "source": [],
      "metadata": {
        "id": "m9oT_jewknG8"
      },
      "id": "m9oT_jewknG8",
      "execution_count": null,
      "outputs": []
    }
  ],
  "metadata": {
    "kernelspec": {
      "display_name": "Python 3 (ipykernel)",
      "language": "python",
      "name": "python3"
    },
    "language_info": {
      "codemirror_mode": {
        "name": "ipython",
        "version": 3
      },
      "file_extension": ".py",
      "mimetype": "text/x-python",
      "name": "python",
      "nbconvert_exporter": "python",
      "pygments_lexer": "ipython3",
      "version": "3.10.9"
    },
    "colab": {
      "provenance": []
    }
  },
  "nbformat": 4,
  "nbformat_minor": 5
}