{
 "cells": [
  {
   "cell_type": "markdown",
   "id": "7ec98f23",
   "metadata": {},
   "source": [
    "### Questions 1\n",
    "\n",
    "Create a matrix of 5x5 with random integers, after that swap its first and last rows."
   ]
  },
  {
   "cell_type": "code",
   "execution_count": 98,
   "id": "fbab7daa",
   "metadata": {},
   "outputs": [
    {
     "name": "stdout",
     "output_type": "stream",
     "text": [
      "[[14  9  4 13  8]\n",
      " [ 0 11 14 11  1]\n",
      " [10  3  7  4  5]\n",
      " [ 3 12  0 13 10]\n",
      " [11  4 14  1  1]]\n",
      "[[11  4 14  1  1]\n",
      " [ 0 11 14 11  1]\n",
      " [10  3  7  4  5]\n",
      " [ 3 12  0 13 10]\n",
      " [14  9  4 13  8]]\n"
     ]
    }
   ],
   "source": [
    "import numpy as np\n",
    "from numpy import random\n",
    "\n",
    "arr1=random.randint(15,size=(5,5))\n",
    "arr2=arr1\n",
    "print(arr2)\n",
    "arr2[0,:],arr2[4,:]=arr2[4,:].copy(),arr2[0,:].copy()\n",
    "print(arr2)"
   ]
  },
  {
   "cell_type": "markdown",
   "id": "804d6649",
   "metadata": {},
   "source": [
    "### Question 2\n",
    "\n",
    "Create a 2D array, remove all rows that contain at least one zero."
   ]
  },
  {
   "cell_type": "code",
   "execution_count": 77,
   "id": "26e7b7e4",
   "metadata": {},
   "outputs": [
    {
     "name": "stdout",
     "output_type": "stream",
     "text": [
      "[[12 13  0]\n",
      " [11  9  4]\n",
      " [ 6  7  0]]\n",
      "9\n"
     ]
    },
    {
     "ename": "IndexError",
     "evalue": "index 3 is out of bounds for axis 0 with size 3",
     "output_type": "error",
     "traceback": [
      "\u001b[1;31m---------------------------------------------------------------------------\u001b[0m",
      "\u001b[1;31mIndexError\u001b[0m                                Traceback (most recent call last)",
      "Cell \u001b[1;32mIn[77], line 7\u001b[0m\n\u001b[0;32m      5\u001b[0m \u001b[38;5;28;01mfor\u001b[39;00m i \u001b[38;5;129;01min\u001b[39;00m \u001b[38;5;28mrange\u001b[39m(\u001b[38;5;241m3\u001b[39m):\n\u001b[0;32m      6\u001b[0m     \u001b[38;5;28;01mif\u001b[39;00m x \u001b[38;5;129;01min\u001b[39;00m arr1[i,:]:\n\u001b[1;32m----> 7\u001b[0m         arr2\u001b[38;5;241m=\u001b[39m\u001b[43marr1\u001b[49m\u001b[43m[\u001b[49m\u001b[43mi\u001b[49m\u001b[38;5;241;43m+\u001b[39;49m\u001b[38;5;241;43m1\u001b[39;49m\u001b[43m,\u001b[49m\u001b[43m:\u001b[49m\u001b[43m]\u001b[49m\n\u001b[0;32m      8\u001b[0m     \u001b[38;5;28;01melse\u001b[39;00m:\n\u001b[0;32m      9\u001b[0m         \u001b[38;5;28;01mcontinue\u001b[39;00m\n",
      "\u001b[1;31mIndexError\u001b[0m: index 3 is out of bounds for axis 0 with size 3"
     ]
    }
   ],
   "source": [
    "arr1=random.randint(15,size=(3,3))\n",
    "print(arr1)\n",
    "print(np.size(arr1))\n",
    "x=0\n",
    "for i in range(3):\n",
    "    if x in arr1[i,:]:\n",
    "        arr2=arr1[i+1,:]\n",
    "    else:\n",
    "        continue\n",
    "print(arr1)"
   ]
  },
  {
   "cell_type": "markdown",
   "id": "2eaedae6",
   "metadata": {},
   "source": [
    "### Question 3\n",
    "\n",
    "Write a NumPy program to find the real and imaginary parts of an array of complex numbers.<br>\n",
    "Original array [ 1.00000000+0.j 0.70710678+0.70710678j]"
   ]
  },
  {
   "cell_type": "code",
   "execution_count": 18,
   "id": "5e2d4526",
   "metadata": {},
   "outputs": [
    {
     "name": "stdout",
     "output_type": "stream",
     "text": [
      "[1.        +0.j         0.70710678+0.70710678j]\n"
     ]
    },
    {
     "ename": "AttributeError",
     "evalue": "'numpy.ndarray' object has no attribute 'split'",
     "output_type": "error",
     "traceback": [
      "\u001b[1;31m---------------------------------------------------------------------------\u001b[0m",
      "\u001b[1;31mAttributeError\u001b[0m                            Traceback (most recent call last)",
      "Cell \u001b[1;32mIn[18], line 3\u001b[0m\n\u001b[0;32m      1\u001b[0m arr1\u001b[38;5;241m=\u001b[39mnp\u001b[38;5;241m.\u001b[39marray([\u001b[38;5;241m1.00000000\u001b[39m\u001b[38;5;241m+\u001b[39m\u001b[38;5;241m0\u001b[39mj,\u001b[38;5;241m0.70710678\u001b[39m\u001b[38;5;241m+\u001b[39m\u001b[38;5;241m0.70710678\u001b[39mj])\n\u001b[0;32m      2\u001b[0m \u001b[38;5;28mprint\u001b[39m(arr1)\n\u001b[1;32m----> 3\u001b[0m \u001b[38;5;28mlist\u001b[39m\u001b[38;5;241m=\u001b[39m\u001b[43marr1\u001b[49m\u001b[38;5;241;43m.\u001b[39;49m\u001b[43msplit\u001b[49m(\u001b[38;5;124m'\u001b[39m\u001b[38;5;124m+\u001b[39m\u001b[38;5;124m'\u001b[39m)\n\u001b[0;32m      4\u001b[0m \u001b[38;5;28mprint\u001b[39m(\u001b[38;5;28mlist\u001b[39m)\n",
      "\u001b[1;31mAttributeError\u001b[0m: 'numpy.ndarray' object has no attribute 'split'"
     ]
    }
   ],
   "source": [
    "arr1=np.array([1.00000000+0j,0.70710678+0.70710678j])\n",
    "print(arr1)\n",
    "list=arr1.split('+')\n",
    "print(list)"
   ]
  },
  {
   "cell_type": "markdown",
   "id": "5d22a191",
   "metadata": {},
   "source": [
    "### Question 4\n",
    "\n",
    "Write a NumPy program to remove the duplicate elements of an array.<br>\n",
    "Original array:\n",
    "[10 10 20 20 30 30]\n"
   ]
  },
  {
   "cell_type": "code",
   "execution_count": 21,
   "id": "39a6deaf",
   "metadata": {},
   "outputs": [
    {
     "ename": "ValueError",
     "evalue": "setting an array element with a sequence. The requested array has an inhomogeneous shape after 1 dimensions. The detected shape was (3,) + inhomogeneous part.",
     "output_type": "error",
     "traceback": [
      "\u001b[1;31m---------------------------------------------------------------------------\u001b[0m",
      "\u001b[1;31mValueError\u001b[0m                                Traceback (most recent call last)",
      "Cell \u001b[1;32mIn[21], line 6\u001b[0m\n\u001b[0;32m      4\u001b[0m     \u001b[38;5;28;01mfor\u001b[39;00m j \u001b[38;5;129;01min\u001b[39;00m \u001b[38;5;28mrange\u001b[39m(i,\u001b[38;5;28mlen\u001b[39m(arr1)):\n\u001b[0;32m      5\u001b[0m         \u001b[38;5;28;01mif\u001b[39;00m arr1[i]\u001b[38;5;241m==\u001b[39marr1[j]:\n\u001b[1;32m----> 6\u001b[0m             arr2\u001b[38;5;241m=\u001b[39m\u001b[43mnp\u001b[49m\u001b[38;5;241;43m.\u001b[39;49m\u001b[43marray\u001b[49m\u001b[43m(\u001b[49m\u001b[43m[\u001b[49m\u001b[43marr1\u001b[49m\u001b[43m[\u001b[49m\u001b[38;5;241;43m0\u001b[39;49m\u001b[43m:\u001b[49m\u001b[43mi\u001b[49m\u001b[43m]\u001b[49m\u001b[43m,\u001b[49m\u001b[43marr1\u001b[49m\u001b[43m[\u001b[49m\u001b[43mi\u001b[49m\u001b[43m:\u001b[49m\u001b[43mj\u001b[49m\u001b[43m]\u001b[49m\u001b[43m,\u001b[49m\u001b[43marr1\u001b[49m\u001b[43m[\u001b[49m\u001b[43mj\u001b[49m\u001b[38;5;241;43m+\u001b[39;49m\u001b[38;5;241;43m1\u001b[39;49m\u001b[43m:\u001b[49m\u001b[43m]\u001b[49m\u001b[43m]\u001b[49m\u001b[43m)\u001b[49m\n\u001b[0;32m      8\u001b[0m \u001b[38;5;28mprint\u001b[39m(arr2)\n",
      "\u001b[1;31mValueError\u001b[0m: setting an array element with a sequence. The requested array has an inhomogeneous shape after 1 dimensions. The detected shape was (3,) + inhomogeneous part."
     ]
    }
   ],
   "source": [
    "arr1=np.array([10,10,20,20,30,30])\n",
    "\n",
    "for i in range(0,len(arr1)-1):\n",
    "    for j in range(i+1,len(arr1)):\n",
    "        if arr1[i]==arr1[j]:\n",
    "            arr2=np.array([arr1[0:i],arr1[i:j],arr1[j+1:]])\n",
    "\n",
    "print(arr2)"
   ]
  },
  {
   "cell_type": "markdown",
   "id": "80f3538a",
   "metadata": {},
   "source": [
    "### Question 5\n",
    "\n",
    "Write a NumPy program to create a 3x3x3 array with random values."
   ]
  },
  {
   "cell_type": "code",
   "execution_count": 22,
   "id": "462e67c5",
   "metadata": {},
   "outputs": [
    {
     "name": "stdout",
     "output_type": "stream",
     "text": [
      "[[[ 3  5 13]\n",
      "  [12  8  1]\n",
      "  [ 6 13  8]]\n",
      "\n",
      " [[ 6  6 14]\n",
      "  [ 2  7 13]\n",
      "  [10  8  6]]\n",
      "\n",
      " [[14  1  4]\n",
      "  [ 1 13  6]\n",
      "  [ 6  2 10]]]\n"
     ]
    }
   ],
   "source": [
    "arr1=random.randint(15,size=(3,3,3))\n",
    "print(arr1)"
   ]
  },
  {
   "cell_type": "markdown",
   "id": "abd66406",
   "metadata": {},
   "source": [
    "### Question 6\n",
    "\n",
    "Write a NumPy program to create a random vector of size 10 and sort it.\n",
    "<b>Note:<\\b> Do not use builtin sorting function"
   ]
  },
  {
   "cell_type": "code",
   "execution_count": 92,
   "id": "9282c068",
   "metadata": {},
   "outputs": [
    {
     "name": "stdout",
     "output_type": "stream",
     "text": [
      "[ 5  1  7  9  1  8  0 14  3  4]\n",
      "[ 0  1  1  3  4  5  7  8  9 14]\n",
      "[10 40 30 20]\n",
      "[10 20 30 40]\n",
      "[[10 20]\n",
      " [30 40]]\n"
     ]
    }
   ],
   "source": [
    "arr1=random.randint(15,size=(10))\n",
    "def sorting(arr1):\n",
    "    print(arr1)\n",
    "    for i in range(0,len(arr1)):\n",
    "        for j in range(0,len(arr1)):\n",
    "            if arr1[i]<arr1[j]:\n",
    "                temp=arr1[j]\n",
    "                arr1[j]=arr1[i]\n",
    "                arr1[i]=temp\n",
    "    print(arr1)\n",
    "sorting(arr1)\n",
    "arr1=np.array([[10,40],[30,20]])\n",
    "arr1=arr1.flatten()\n",
    "sorting(arr1)\n",
    "arr1=arr1.reshape(2,2)\n",
    "print(arr1)"
   ]
  },
  {
   "cell_type": "markdown",
   "id": "e0c1e8bb",
   "metadata": {},
   "source": [
    "### Question 7\n",
    "\n",
    "Write a NumPy program to check two random arrays are equal or not."
   ]
  },
  {
   "cell_type": "code",
   "execution_count": 73,
   "id": "e9c571cc",
   "metadata": {},
   "outputs": [
    {
     "name": "stdout",
     "output_type": "stream",
     "text": [
      "[13 12 10  8  6 13  1  9  0  0]\n",
      "[ 5  3  3  9 10  7  9  2 10 10]\n",
      "arrays are not equal\n",
      "[10  4  3  5  3  9  1  2  6  8]\n",
      "[10  4  3  5  3  9  1  2  6  8]\n",
      "arrays are equal\n"
     ]
    }
   ],
   "source": [
    "arr1=random.randint(15,size=(10))\n",
    "arr2=random.randint(15,size=(10))\n",
    "arr3=np.array([10, 4,  3,  5,  3,  9,  1,  2,  6, 8])\n",
    "arr4=np.array([10, 4,  3,  5,  3,  9,  1,  2,  6, 8])\n",
    "\n",
    "def equal(arr1,arr2):\n",
    "    print(arr1)\n",
    "    print(arr2)\n",
    "    if(len(arr1)!=len(arr2)):\n",
    "        print('arrays are not equal')\n",
    "    else:\n",
    "        for i in range(len(arr1)):\n",
    "            if arr1[i]==arr2[i]:\n",
    "                continue\n",
    "            else:\n",
    "                print('arrays are not equal')\n",
    "                return\n",
    "    print('arrays are equal')\n",
    "\n",
    "equal(arr1,arr2)\n",
    "equal(arr3,arr4)\n"
   ]
  },
  {
   "cell_type": "markdown",
   "id": "234405fe",
   "metadata": {},
   "source": [
    "### Question 8 \n",
    "\n",
    "Write a NumPy program to sort a given array of shape 2 along the first axis, last axis and on flattened array.<br>\n",
    "\n",
    "Original array:<br>\n",
    "[[10 40]<br>\n",
    "[30 20]]"
   ]
  },
  {
   "cell_type": "code",
   "execution_count": 96,
   "id": "1b349b99",
   "metadata": {},
   "outputs": [
    {
     "name": "stdout",
     "output_type": "stream",
     "text": [
      "[[10 40]\n",
      " [30 20]]\n",
      "[10 40 30 20]\n",
      "[[10 20]\n",
      " [30 40]]\n"
     ]
    }
   ],
   "source": [
    "arr1=np.array([[10,40],[30,20]])\n",
    "    \n",
    "def sorting(arr1):\n",
    "    print(arr1)\n",
    "    for i in range(0,len(arr1)):\n",
    "        for j in range(0,len(arr1)):\n",
    "            if arr1[i]<arr1[j]:\n",
    "                temp=arr1[j]\n",
    "                arr1[j]=arr1[i]\n",
    "                arr1[i]=temp\n",
    "print(arr1)\n",
    "arr1=arr1.flatten()\n",
    "sorting(arr1)\n",
    "arr1=arr1.reshape(2,2)\n",
    "print(arr1)"
   ]
  },
  {
   "cell_type": "markdown",
   "id": "2467ff08",
   "metadata": {},
   "source": [
    "### Question 9\n",
    "\n",
    "Write a NumPy program to get the floor, ceiling and truncated values of the elements of a numpy array.<br>\n",
    "\n",
    "Original array:<br>\n",
    "[-1.6 -1.5 -0.3 0.1 1.4 1.8 2. ]"
   ]
  },
  {
   "cell_type": "code",
   "execution_count": 67,
   "id": "8fa2a543",
   "metadata": {},
   "outputs": [
    {
     "name": "stdout",
     "output_type": "stream",
     "text": [
      "[-1.6, -1.5, -0.3, 0.1, 1.4, 1.8, 2]\n",
      "truncated value  [-1. -1. -0.  0.  1.  1.  2.]\n",
      "ceiling value  [-1. -1. -0.  1.  2.  2.  2.]\n",
      "floor value  [-2. -2. -1.  0.  1.  1.  2.]\n"
     ]
    }
   ],
   "source": [
    "arr1=[-1.6,-1.5,-0.3,0.1,1.4,1.8,2 ]\n",
    "def floor_ceil_trunc(arr):\n",
    "    print(arr1)\n",
    "    arr2=np.trunc(arr1)\n",
    "    print('truncated value ',arr2)\n",
    "    arr3=np.ceil(arr1)\n",
    "    print('ceiling value ',arr3)\n",
    "    arr4=np.floor(arr1)\n",
    "    print('floor value ',arr4)\n",
    "floor_ceil_trunc(arr1)"
   ]
  },
  {
   "cell_type": "markdown",
   "id": "9434026c",
   "metadata": {},
   "source": [
    "### Questions 10\n",
    "\n",
    "Write a NumPy program to display all the dates for the month of March, 2017"
   ]
  },
  {
   "cell_type": "code",
   "execution_count": 44,
   "id": "67332471",
   "metadata": {},
   "outputs": [
    {
     "name": "stdout",
     "output_type": "stream",
     "text": [
      "['2017-03-01' '2017-03-02' '2017-03-03' '2017-03-04' '2017-03-05'\n",
      " '2017-03-06' '2017-03-07' '2017-03-08' '2017-03-09' '2017-03-10'\n",
      " '2017-03-11' '2017-03-12' '2017-03-13' '2017-03-14' '2017-03-15'\n",
      " '2017-03-16' '2017-03-17' '2017-03-18' '2017-03-19' '2017-03-20'\n",
      " '2017-03-21' '2017-03-22' '2017-03-23' '2017-03-24' '2017-03-25'\n",
      " '2017-03-26' '2017-03-27' '2017-03-28' '2017-03-29' '2017-03-30'\n",
      " '2017-03-31']\n"
     ]
    }
   ],
   "source": [
    "print(np.arange('2017-03','2017-04',dtype='datetime64[D]'))"
   ]
  },
  {
   "cell_type": "markdown",
   "id": "34eb3ebf",
   "metadata": {},
   "source": [
    "### Question 11\n",
    "\n",
    "Write a NumPy program to create 24 python datetime.datetime objects (single object for every hour), and then put it in a numpy array."
   ]
  },
  {
   "cell_type": "code",
   "execution_count": 48,
   "id": "705b235f",
   "metadata": {},
   "outputs": [
    {
     "name": "stdout",
     "output_type": "stream",
     "text": [
      "['2017-03-01T00' '2017-03-01T01' '2017-03-01T02' '2017-03-01T03'\n",
      " '2017-03-01T04' '2017-03-01T05' '2017-03-01T06' '2017-03-01T07'\n",
      " '2017-03-01T08' '2017-03-01T09' '2017-03-01T10' '2017-03-01T11'\n",
      " '2017-03-01T12' '2017-03-01T13' '2017-03-01T14' '2017-03-01T15'\n",
      " '2017-03-01T16' '2017-03-01T17' '2017-03-01T18' '2017-03-01T19'\n",
      " '2017-03-01T20' '2017-03-01T21' '2017-03-01T22' '2017-03-01T23']\n"
     ]
    }
   ],
   "source": [
    "arr1=np.arange('2017-03-01','2017-03-02',dtype='datetime64[h]')\n",
    "print(arr1)"
   ]
  },
  {
   "cell_type": "markdown",
   "id": "e34c59d5",
   "metadata": {},
   "source": [
    "### Question 12\n",
    "\n",
    "Write a NumPy program to concatenate element-wise two arrays of string.<br>\n",
    "<b>Example <\\b>\n",
    "Array1:<br>\n",
    "['Python' 'PHP']<br>\n",
    "Array2:<br>\n",
    "[' Java' ' C++']<br>\n",
    "new array:<br>\n",
    "['Python Java' 'PHP C++']<br>"
   ]
  },
  {
   "cell_type": "code",
   "execution_count": 65,
   "id": "cd6b480c",
   "metadata": {},
   "outputs": [
    {
     "name": "stdout",
     "output_type": "stream",
     "text": [
      "['Python' 'PHP']\n",
      "['Java' 'C++']\n",
      "['0.0' '0.0']\n",
      "['PythonJava' 'PHPC++']\n"
     ]
    }
   ],
   "source": [
    "arr1=np.array(['Python','PHP'],dtype=str)\n",
    "arr2=np.array(['Java','C++'],dtype=str)\n",
    "def concat(a,b):\n",
    "\n",
    "    print(arr1)\n",
    "    print(arr2)\n",
    "    arr3=np.zeros(max(len(arr1),len(arr2))).astype(str)\n",
    "    print(arr3)\n",
    "    for i in range(len(arr3)):\n",
    "        arr3[i]=arr1[i]+arr2[i]\n",
    "    print(arr3)\n",
    "concat(arr1,arr2)"
   ]
  }
 ],
 "metadata": {
  "kernelspec": {
   "display_name": "Python 3 (ipykernel)",
   "language": "python",
   "name": "python3"
  },
  "language_info": {
   "codemirror_mode": {
    "name": "ipython",
    "version": 3
   },
   "file_extension": ".py",
   "mimetype": "text/x-python",
   "name": "python",
   "nbconvert_exporter": "python",
   "pygments_lexer": "ipython3",
   "version": "3.11.4"
  }
 },
 "nbformat": 4,
 "nbformat_minor": 5
}
