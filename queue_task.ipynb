{
  "nbformat": 4,
  "nbformat_minor": 0,
  "metadata": {
    "colab": {
      "provenance": []
    },
    "kernelspec": {
      "name": "python3",
      "display_name": "Python 3"
    },
    "language_info": {
      "name": "python"
    }
  },
  "cells": [
    {
      "cell_type": "markdown",
      "source": [
        "### Question\n",
        "\n",
        "Create a simple program to manage a queue? The queue should have a maximum limit of 10 elements. Include two functions: one for adding (pushing) an element to the queue and another for removing (popping) an element from the queue. If the queue is full and someone tries to add an element, return a message saying the queue is full. If the queue is empty and someone tries to remove an element, return a message saying the queue is empty and no element can be removed.<br>\n",
        "\n",
        "<b>Note:</b> queue follows FIFO (first in first out) rule"
      ],
      "metadata": {
        "id": "Kq80GlEvePiu"
      }
    },
    {
      "cell_type": "code",
      "execution_count": null,
      "metadata": {
        "id": "LN5UaPhieLd5"
      },
      "outputs": [],
      "source": [
        "import numpy as np\n",
        "def push(x,array,front,rear):\n",
        "    array[front]=x\n",
        "    front+=1\n",
        "    return array,front,rear\n",
        "\n",
        "def pop(array,rear):\n",
        "    array[rear]=0\n",
        "    rear+=1\n",
        "    return array,rear\n",
        "\n",
        "\n",
        "\n",
        "arr=np.zeros(10)\n",
        "front=0\n",
        "rear=0\n",
        "b=1\n",
        "input('run program by 1 or exit by entering 0')\n",
        "while b==1:\n",
        "\n",
        "    a=input('do you want to push or pop')\n",
        "    if a=='push':\n",
        "            if front==10:\n",
        "                print('queue is full')\n",
        "            elif front<10:\n",
        "                x=input('enter a number')\n",
        "                arr,front,rear=push(x,arr,front,rear)\n",
        "                print(arr)\n",
        "    if a=='pop':\n",
        "\n",
        "            arr,rear=pop(arr,rear)\n",
        "            print(arr)"
      ]
    }
  ]
}