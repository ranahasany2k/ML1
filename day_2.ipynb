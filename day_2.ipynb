{
  "nbformat": 4,
  "nbformat_minor": 0,
  "metadata": {
    "colab": {
      "provenance": []
    },
    "kernelspec": {
      "name": "python3",
      "display_name": "Python 3"
    },
    "language_info": {
      "name": "python"
    }
  },
  "cells": [
    {
      "cell_type": "markdown",
      "source": [
        "### Question 24\n",
        "Level 1\n",
        "\n",
        "Question:\n",
        "\n",
        "Python has many built-in functions, and if you do not know how to use it, you can read document online or find some books. But Python has a built-in document function for every built-in functions.\n",
        "\n",
        "Please write a program to print some Python built-in functions documents, such as abs(), int(), raw_input()\n",
        "\n",
        "And add document for your own function\n",
        "Hints:\n",
        "The built-in document method is __doc__\n",
        "\n"
      ],
      "metadata": {
        "id": "vZhQ785YQ4mO"
      }
    },
    {
      "cell_type": "code",
      "execution_count": null,
      "metadata": {
        "colab": {
          "base_uri": "https://localhost:8080/",
          "height": 88
        },
        "id": "ulObhcD5Q2w_",
        "outputId": "96437b43-30ec-4224-94c7-047c2bd57f73"
      },
      "outputs": [
        {
          "name": "stdout",
          "output_type": "stream",
          "text": [
            "55\n"
          ]
        },
        {
          "output_type": "execute_result",
          "data": {
            "text/plain": [
              "\"str(object='') -> str\\nstr(bytes_or_buffer[, encoding[, errors]]) -> str\\n\\nCreate a new string object from the given object. If encoding or\\nerrors is specified, then the object must expose a data buffer\\nthat will be decoded using the given encoding and error handler.\\nOtherwise, returns the result of object.__str__() (if defined)\\nor repr(object).\\nencoding defaults to sys.getdefaultencoding().\\nerrors defaults to 'strict'.\""
            ],
            "application/vnd.google.colaboratory.intrinsic+json": {
              "type": "string"
            }
          },
          "metadata": {},
          "execution_count": 6
        }
      ],
      "source": [
        "abs(5).__doc__\n",
        "int(5).__doc__\n",
        "input(5).__doc__\n"
      ]
    },
    {
      "cell_type": "code",
      "source": [
        "# prompt: Please write a program to print some Python built-in functions documents, such as abs(), int(), raw_input()  And add document for your own function Hints: The built-in document method is doc\n",
        "\n",
        "print(abs.__doc__)\n",
        "print(int.__doc__)\n",
        "print(input.__doc__)\n",
        "\n",
        "def my_func(x):\n",
        "  \"\"\"Hey there, this is my function and its uses, bye!!!!!!!!\"\"\"\n",
        "  return x + 1\n",
        "\n",
        "print(my_func.__doc__)\n"
      ],
      "metadata": {
        "colab": {
          "base_uri": "https://localhost:8080/"
        },
        "id": "gFgoU20pUC9d",
        "outputId": "020a8aa8-49aa-4c27-85cd-46da8495e2b0"
      },
      "execution_count": null,
      "outputs": [
        {
          "output_type": "stream",
          "name": "stdout",
          "text": [
            "Return the absolute value of the argument.\n",
            "int([x]) -> integer\n",
            "int(x, base=10) -> integer\n",
            "\n",
            "Convert a number or string to an integer, or return 0 if no arguments\n",
            "are given.  If x is a number, return x.__int__().  For floating point\n",
            "numbers, this truncates towards zero.\n",
            "\n",
            "If x is not a number or if base is given, then x must be a string,\n",
            "bytes, or bytearray instance representing an integer literal in the\n",
            "given base.  The literal can be preceded by '+' or '-' and be surrounded\n",
            "by whitespace.  The base defaults to 10.  Valid bases are 0 and 2-36.\n",
            "Base 0 means to interpret the base from the string as an integer literal.\n",
            ">>> int('0b100', base=0)\n",
            "4\n",
            "Forward raw_input to frontends\n",
            "\n",
            "        Raises\n",
            "        ------\n",
            "        StdinNotImplementedError if active frontend doesn't support stdin.\n",
            "        \n",
            "Hey there, this is my function and its uses, bye!!!!!!!!\n"
          ]
        }
      ]
    },
    {
      "cell_type": "markdown",
      "source": [
        "### Question 25\n",
        "Level 1\n",
        "\n",
        "Question:\n",
        "Define a class, which have a class parameter and have a same instance parameter.\n",
        "\n",
        "Hints:\n",
        "Define a instance parameter, need add it in __init__ method\n",
        "You can init a object with construct parameter or set the value later\n"
      ],
      "metadata": {
        "id": "zn3v1-1YVjmt"
      }
    },
    {
      "cell_type": "code",
      "source": [],
      "metadata": {
        "id": "qhQMwqF3U4Y8"
      },
      "execution_count": null,
      "outputs": []
    },
    {
      "cell_type": "markdown",
      "source": [
        "### Question 26:\n",
        "Define a function which can compute the sum of two numbers.\n",
        "\n",
        "Hints:\n",
        "Define a function with two numbers as arguments. You can compute the sum in the function and return the value.\n"
      ],
      "metadata": {
        "id": "qPbskJqNVpjk"
      }
    },
    {
      "cell_type": "code",
      "source": [
        "def func(x,y):\n",
        "  return int(x)+int(y)\n",
        "a,b=input('enter the numbers to add').split(',')\n",
        "func(a,b)"
      ],
      "metadata": {
        "colab": {
          "base_uri": "https://localhost:8080/"
        },
        "id": "4BAxnXj6VwY_",
        "outputId": "c2dee4f2-83ab-448c-8bdb-bfb02f52128d"
      },
      "execution_count": null,
      "outputs": [
        {
          "name": "stdout",
          "output_type": "stream",
          "text": [
            "enter the numbers to add5,15\n"
          ]
        },
        {
          "output_type": "execute_result",
          "data": {
            "text/plain": [
              "20"
            ]
          },
          "metadata": {},
          "execution_count": 19
        }
      ]
    },
    {
      "cell_type": "markdown",
      "source": [
        "### Question 27\n",
        "Define a function that can convert a integer into a string and print it in console.\n",
        "\n",
        "Hints:\n",
        "\n",
        "Use str() to convert a number to string."
      ],
      "metadata": {
        "id": "_bkWSA_lW2YM"
      }
    },
    {
      "cell_type": "code",
      "source": [
        "def int_to_str(x):\n",
        "  return str(x)\n",
        "x=input('add a num ')\n",
        "int_to_str(x)"
      ],
      "metadata": {
        "colab": {
          "base_uri": "https://localhost:8080/",
          "height": 53
        },
        "id": "_bsWSh7ZWRxA",
        "outputId": "3694edad-a0e2-4645-cdcc-03e5f4cce86b"
      },
      "execution_count": null,
      "outputs": [
        {
          "name": "stdout",
          "output_type": "stream",
          "text": [
            "add a num df\n"
          ]
        },
        {
          "output_type": "execute_result",
          "data": {
            "text/plain": [
              "'df'"
            ],
            "application/vnd.google.colaboratory.intrinsic+json": {
              "type": "string"
            }
          },
          "metadata": {},
          "execution_count": 22
        }
      ]
    },
    {
      "cell_type": "markdown",
      "source": [
        "### Question 29\n",
        "Define a function that can receive two integral numbers in string form and compute their sum and then print it in console.\n",
        "\n",
        "Hints:\n",
        "\n",
        "Use int() to convert a string to integer."
      ],
      "metadata": {
        "id": "g0TwuSbTYL0p"
      }
    },
    {
      "cell_type": "code",
      "source": [
        "def str_to_int_sum(x):\n",
        "  \"\"\"this is function that can receive two integral numbers in string form and compute their sum and then print it in console\"\"\"\n",
        "  y = x.split(' ')\n",
        "  sum=int(y[0])+int(y[1])\n",
        "  return sum\n",
        "\n",
        "x = input('Enter a string: ')\n",
        "result = str_to_int_sum(x)\n",
        "print(\"Converted integer:\", result)"
      ],
      "metadata": {
        "colab": {
          "base_uri": "https://localhost:8080/"
        },
        "id": "1J18UI3pXTsb",
        "outputId": "24e07099-185f-46a2-de53-51d715d74f04"
      },
      "execution_count": null,
      "outputs": [
        {
          "output_type": "stream",
          "name": "stdout",
          "text": [
            "Enter a string: 55 654\n",
            "Converted integer: 709\n"
          ]
        }
      ]
    },
    {
      "cell_type": "markdown",
      "source": [
        "### Question 30\n",
        "\n",
        "Define a function that can accept two strings as input and concatenate them and then print it in console.\n",
        "\n",
        "Hints:\n",
        "\n",
        "Use + to concatenate the strings"
      ],
      "metadata": {
        "id": "tp2BvQFVcfEw"
      }
    },
    {
      "cell_type": "code",
      "source": [
        "def concat_str(str):\n",
        "  concat=str[0]+str[1]\n",
        "  return concat\n",
        "lst=[]\n",
        "i=1\n",
        "while(i<=2):\n",
        "  i=i+1\n",
        "  x=input('insert a string')\n",
        "  lst.append(x)\n",
        "concat_str(lst)\n"
      ],
      "metadata": {
        "colab": {
          "base_uri": "https://localhost:8080/",
          "height": 70
        },
        "id": "0AohPGV0YaSY",
        "outputId": "8fdda4cc-69f6-4934-c86e-e5cded3b4b96"
      },
      "execution_count": null,
      "outputs": [
        {
          "name": "stdout",
          "output_type": "stream",
          "text": [
            "insert a stringhelle\n",
            "insert a stringhow ar\n"
          ]
        },
        {
          "output_type": "execute_result",
          "data": {
            "text/plain": [
              "'hellehow ar'"
            ],
            "application/vnd.google.colaboratory.intrinsic+json": {
              "type": "string"
            }
          },
          "metadata": {},
          "execution_count": 37
        }
      ]
    },
    {
      "cell_type": "markdown",
      "source": [
        "### Question 31\n",
        "Define a function that can accept two strings as input and print the string with maximum length in console. If two strings have the same length, then the function should print al l strings line by line.\n",
        "\n",
        "Hints:\n",
        "\n",
        "Use len() function to get the length of a string\n"
      ],
      "metadata": {
        "id": "1yrH67m3eVn8"
      }
    },
    {
      "cell_type": "code",
      "source": [
        "def print_max(alist):\n",
        "  max=[]\n",
        "  if len(alist[0])==len(alist[1]):\n",
        "    for i in alist:\n",
        "      print(i)\n",
        "  else:\n",
        "    if len(alist[0])>len(alist[1]):\n",
        "      max.append(alist[0])\n",
        "    else:\n",
        "      max.append(alist[1])\n",
        "    print(max[0])\n",
        "lst=[]\n",
        "i=1\n",
        "while(i<=2):\n",
        "  i=i+1\n",
        "  x=input('insert a string')\n",
        "  lst.append(x)\n",
        "print_max(lst)"
      ],
      "metadata": {
        "colab": {
          "base_uri": "https://localhost:8080/"
        },
        "id": "1fCWqmktdlBA",
        "outputId": "655edcb6-1c01-47b7-d146-5dc934e259fa"
      },
      "execution_count": null,
      "outputs": [
        {
          "output_type": "stream",
          "name": "stdout",
          "text": [
            "insert a stringhasan and\n",
            "insert a stringhasan and\n",
            "hasan and\n",
            "hasan and\n"
          ]
        }
      ]
    },
    {
      "cell_type": "markdown",
      "source": [
        "### Question 32\n",
        "Define a function that can accept an integer number as input and print the \"It is an even number\" if the number is even, otherwise print \"It is an odd number\".\n",
        "\n",
        "Hints:\n",
        "\n",
        "Use % operator to check if a number is even or odd.\n"
      ],
      "metadata": {
        "id": "nLUtZu5pioWv"
      }
    },
    {
      "cell_type": "code",
      "source": [
        "def check(x):\n",
        "  if int(x)%2==0:\n",
        "    print('its an even number')\n",
        "  else:\n",
        "    print('its an odd number')\n",
        "x=input('enter a number')\n",
        "check(x)"
      ],
      "metadata": {
        "colab": {
          "base_uri": "https://localhost:8080/"
        },
        "id": "S-1OEXb9hmTQ",
        "outputId": "7989ca2c-7865-462c-f56d-71a92dbd6ea9"
      },
      "execution_count": null,
      "outputs": [
        {
          "output_type": "stream",
          "name": "stdout",
          "text": [
            "enter a number56\n",
            "its an even number\n"
          ]
        }
      ]
    },
    {
      "cell_type": "markdown",
      "source": [
        "### Question 34\n",
        "Define a function which can print a dictionary where the keys are numbers between 1 and 20 (both included) and the values are square of keys.\n",
        "\n",
        "Hints:\n",
        "\n",
        "Use dict[key]=value pattern to put entry into a dictionary.\n",
        "Use ** operator to get power of a number.\n",
        "Use range() for loops."
      ],
      "metadata": {
        "id": "LmEsGxwAjQNm"
      }
    },
    {
      "cell_type": "code",
      "source": [
        "def createdict(n):\n",
        "    n=int(n)\n",
        "    my_dict={}\n",
        "    for i in range(1,n+1):\n",
        "        my_dict[i]=i**2\n",
        "        print(i,':',my_dict[i],end=', ')\n",
        "createdict(20)"
      ],
      "metadata": {
        "id": "2KqBpl3_jNWv",
        "colab": {
          "base_uri": "https://localhost:8080/"
        },
        "outputId": "55ec3619-b009-46c7-ce47-c56c7de06d90"
      },
      "execution_count": 3,
      "outputs": [
        {
          "output_type": "stream",
          "name": "stdout",
          "text": [
            "1 : 1, 2 : 4, 3 : 9, 4 : 16, 5 : 25, 6 : 36, 7 : 49, 8 : 64, 9 : 81, 10 : 100, 11 : 121, 12 : 144, 13 : 169, 14 : 196, 15 : 225, 16 : 256, 17 : 289, 18 : 324, 19 : 361, 20 : 400, "
          ]
        }
      ]
    },
    {
      "cell_type": "markdown",
      "source": [
        "### Question 35\n",
        "Define a function which can generate a dictionary where the keys are numbers between 1 and 20 (both included) and the values are square of keys. The function should just print the values only.\n",
        "\n",
        "Hints:\n",
        "\n",
        "Use dict[key]=value pattern to put entry into a dictionary.\n",
        "Use ** operator to get power of a number.\n",
        "Use range() for loops.\n",
        "Use keys() to iterate keys in the dictionary. Also we can use item() to get key/value pairs."
      ],
      "metadata": {
        "id": "dHuG_H_LGBaj"
      }
    },
    {
      "cell_type": "code",
      "source": [
        "def createdict(n):\n",
        "    n=int(n)\n",
        "    my_dict={}\n",
        "    for i in range(1,n+1):\n",
        "        my_dict[i]=i**2\n",
        "        print(my_dict[i],end=', ')\n",
        "createdict(20)"
      ],
      "metadata": {
        "colab": {
          "base_uri": "https://localhost:8080/"
        },
        "id": "VgYwcExZD2sW",
        "outputId": "e0adf4b3-3477-4b44-e135-ce0a7e0bd2af"
      },
      "execution_count": 5,
      "outputs": [
        {
          "output_type": "stream",
          "name": "stdout",
          "text": [
            "1, 2, 3, 4, 5, 6, 7, 8, 9, 10, 11, 12, 13, 14, 15, 16, 17, 18, 19, 20, "
          ]
        }
      ]
    },
    {
      "cell_type": "markdown",
      "source": [
        "### Question 36\n",
        "Define a function which can generate a dictionary where the keys are numbers between 1 and 20 (both included) and the values are square of keys. The function should just print the keys only.\n",
        "\n",
        "Hints:\n",
        "\n",
        "Use dict[key]=value pattern to put entry into a dictionary.\n",
        "Use ** operator to get power of a number.\n",
        "Use range() for loops.\n",
        "Use keys() to iterate keys in the dictionary. Also we can use item() to get key/value pairs.\n",
        "\n"
      ],
      "metadata": {
        "id": "YqilzxslGnKj"
      }
    },
    {
      "cell_type": "code",
      "source": [
        "def createdict(n):\n",
        "    n=int(n)\n",
        "    my_dict={}\n",
        "    for i in range(1,n+1):\n",
        "        my_dict[i]=i**2\n",
        "        print(i,end=', ')\n",
        "createdict(20)"
      ],
      "metadata": {
        "colab": {
          "base_uri": "https://localhost:8080/"
        },
        "id": "sjp2296kGK5H",
        "outputId": "25e304c3-1abc-42b6-9570-cbc3cbcb9ce3"
      },
      "execution_count": 6,
      "outputs": [
        {
          "output_type": "stream",
          "name": "stdout",
          "text": [
            "1, 2, 3, 4, 5, 6, 7, 8, 9, 10, 11, 12, 13, 14, 15, 16, 17, 18, 19, 20, "
          ]
        }
      ]
    },
    {
      "cell_type": "markdown",
      "source": [
        "\n",
        "### Question 37\n",
        "Define a function which can generate and print a list where the values are square of numbers between 1 and 20 (both included).\n",
        "\n",
        "Hints:\n",
        "\n",
        "Use ** operator to get power of a number.\n",
        "Use range() for loops.\n",
        "Use list.append() to add values into a list."
      ],
      "metadata": {
        "id": "ZKIIRMmbG7z2"
      }
    },
    {
      "cell_type": "code",
      "source": [
        "def createlist(n):\n",
        "  n=int(n)\n",
        "  my_list=[]\n",
        "  for i in range(1,n+1):\n",
        "    my_list.append(i**2)\n",
        "  print(my_list)\n",
        "createlist(20)"
      ],
      "metadata": {
        "colab": {
          "base_uri": "https://localhost:8080/"
        },
        "id": "gYiUK4Q_Gusn",
        "outputId": "955bd039-39eb-4308-b3e2-11a55c328be0"
      },
      "execution_count": 7,
      "outputs": [
        {
          "output_type": "stream",
          "name": "stdout",
          "text": [
            "[1, 4, 9, 16, 25, 36, 49, 64, 81, 100, 121, 144, 169, 196, 225, 256, 289, 324, 361, 400]\n"
          ]
        }
      ]
    },
    {
      "cell_type": "markdown",
      "source": [
        "### Question 38\n",
        "Define a function which can generate a list where the values are square of numbers between 1 and 20 (both included). Then the function needs to print the first 5 elements in the list.\n",
        "\n",
        "Hints:\n",
        "\n",
        "Use ** operator to get power of a number.\n",
        "Use range() for loops.\n",
        "Use list.append() to add values into a list.\n",
        "Use [n1:n2] to slice a list"
      ],
      "metadata": {
        "id": "E5nl8D17ICvS"
      }
    },
    {
      "cell_type": "code",
      "source": [
        "def createlist(n):\n",
        "  n=int(n)\n",
        "  my_list=[]\n",
        "  for i in range(1,n+1):\n",
        "    my_list.append(i**2)\n",
        "  print(my_list[:5])\n",
        "createlist(20)"
      ],
      "metadata": {
        "colab": {
          "base_uri": "https://localhost:8080/"
        },
        "id": "a3pvdK89H6j5",
        "outputId": "e3352355-4839-4965-97ea-6d058f87e57c"
      },
      "execution_count": 8,
      "outputs": [
        {
          "output_type": "stream",
          "name": "stdout",
          "text": [
            "[1, 4, 9, 16, 25]\n"
          ]
        }
      ]
    },
    {
      "cell_type": "markdown",
      "source": [
        "### Question 39\n",
        "Define a function which can generate a list where the values are square of numbers between 1 and 20 (both included). Then the function needs to print the last 5 elements in the list.\n",
        "\n",
        "Hints:\n",
        "\n",
        "Use ** operator to get power of a number.\n",
        "Use range() for loops.\n",
        "Use list.append() to add values into a list.\n",
        "Use [n1:n2] to slice a list"
      ],
      "metadata": {
        "id": "N4nbXNzbIX7s"
      }
    },
    {
      "cell_type": "code",
      "source": [
        "def createlist(n):\n",
        "  n=int(n)\n",
        "  my_list=[]\n",
        "  for i in range(1,n+1):\n",
        "    my_list.append(i**2)\n",
        "  print(my_list[-5:])\n",
        "createlist(20)"
      ],
      "metadata": {
        "colab": {
          "base_uri": "https://localhost:8080/"
        },
        "id": "SrBvy3idIR7W",
        "outputId": "58f6ae8f-bdc5-4093-b52a-688cbbc8eab7"
      },
      "execution_count": 11,
      "outputs": [
        {
          "output_type": "stream",
          "name": "stdout",
          "text": [
            "[256, 289, 324, 361, 400]\n"
          ]
        }
      ]
    },
    {
      "cell_type": "markdown",
      "source": [
        "### Question 40\n",
        "Define a function which can generate a list where the values are square of numbers between 1 and 20 (both included). Then the function needs to print all values except the first 5 elements in the list.\n",
        "\n",
        "Hints:\n",
        "\n",
        "Use ** operator to get power of a number.\n",
        "Use range() for loops.\n",
        "Use list.append() to add values into a list.\n",
        "Use [n1:n2] to slice a list"
      ],
      "metadata": {
        "id": "viIDDyLVJICK"
      }
    },
    {
      "cell_type": "code",
      "source": [
        "def createlist(n):\n",
        "  n=int(n)\n",
        "  my_list=[]\n",
        "  for i in range(1,n+1):\n",
        "    my_list.append(i**2)\n",
        "  print(my_list[5:])\n",
        "createlist(20)"
      ],
      "metadata": {
        "colab": {
          "base_uri": "https://localhost:8080/"
        },
        "id": "XS9xS5QjIyzg",
        "outputId": "c2f3e94f-0554-4dd7-9381-280985ed641f"
      },
      "execution_count": 12,
      "outputs": [
        {
          "output_type": "stream",
          "name": "stdout",
          "text": [
            "[36, 49, 64, 81, 100, 121, 144, 169, 196, 225, 256, 289, 324, 361, 400]\n"
          ]
        }
      ]
    },
    {
      "cell_type": "code",
      "source": [],
      "metadata": {
        "id": "AETz-CxTJeOs"
      },
      "execution_count": null,
      "outputs": []
    }
  ]
}