{
  "cells": [
    {
      "cell_type": "markdown",
      "id": "771c3f2b-7f6c-485a-b3f4-2f11e90bc196",
      "metadata": {
        "id": "771c3f2b-7f6c-485a-b3f4-2f11e90bc196"
      },
      "source": [
        "## Question 1"
      ]
    },
    {
      "cell_type": "markdown",
      "id": "39a4d919-1a9d-439b-9c08-fc6b258b51af",
      "metadata": {
        "id": "39a4d919-1a9d-439b-9c08-fc6b258b51af"
      },
      "source": [
        "Write a program which will find all such numbers which are divisible by 7 but are not a multiple of 5, between 2000 and 3200 (both included).\n",
        "The numbers obtained should be printed in a comma-separated sequence on a single line"
      ]
    },
    {
      "cell_type": "code",
      "execution_count": null,
      "id": "e2185dd1-634f-41fd-89b5-78a3002ab637",
      "metadata": {
        "id": "e2185dd1-634f-41fd-89b5-78a3002ab637",
        "outputId": "a666b5b8-cdcc-41bb-94d1-94eb4f30bd91"
      },
      "outputs": [
        {
          "name": "stdout",
          "output_type": "stream",
          "text": [
            "2002,2009,2016,2023,2037,2044,2051,2058,2072,2079,2086,2093,2107,2114,2121,2128,2142,2149,2156,2163,2177,2184,2191,2198,2212,2219,2226,2233,2247,2254,2261,2268,2282,2289,2296,2303,2317,2324,2331,2338,2352,2359,2366,2373,2387,2394,2401,2408,2422,2429,2436,2443,2457,2464,2471,2478,2492,2499,2506,2513,2527,2534,2541,2548,2562,2569,2576,2583,2597,2604,2611,2618,2632,2639,2646,2653,2667,2674,2681,2688,2702,2709,2716,2723,2737,2744,2751,2758,2772,2779,2786,2793,2807,2814,2821,2828,2842,2849,2856,2863,2877,2884,2891,2898,2912,2919,2926,2933,2947,2954,2961,2968,2982,2989,2996,3003,3017,3024,3031,3038,3052,3059,3066,3073,3087,3094,3101,3108,3122,3129,3136,3143,3157,3164,3171,3178,3192,3199,"
          ]
        }
      ],
      "source": [
        "for i in range(2000,3200):\n",
        "    if i%5==0:\n",
        "        continue\n",
        "    elif i%7==0 and i%5!=0:\n",
        "        print(i,end=',')"
      ]
    },
    {
      "cell_type": "markdown",
      "id": "5c7cfbaa-c24e-4e1b-8dac-188c20d04d4b",
      "metadata": {
        "id": "5c7cfbaa-c24e-4e1b-8dac-188c20d04d4b"
      },
      "source": [
        "## Question 2:\n",
        "Write a program which can compute the factorial of a given numbers.\n",
        "The results should be printed in a comma-separated sequence on a single line.\n",
        "Suppose the following input is supplied to the program:\n",
        "8\n",
        "Then, the output should be:\n",
        "40320\n",
        "\n",
        "Hints:\n",
        "In case of input data being supplied to the question, it should be assumed to be a console input."
      ]
    },
    {
      "cell_type": "code",
      "execution_count": null,
      "id": "3cbb954a-06f4-4127-a570-773269fb322b",
      "metadata": {
        "id": "3cbb954a-06f4-4127-a570-773269fb322b"
      },
      "outputs": [],
      "source": [
        "def factorial(n):\n",
        "    n=int(n)\n",
        "    result=1\n",
        "    if n==1:\n",
        "        result=1\n",
        "    else:\n",
        "        for i in range(1,n+1):\n",
        "            result=result*i\n",
        "    return result"
      ]
    },
    {
      "cell_type": "markdown",
      "id": "7ac76d23-0dd5-4224-bc8b-ad8d8ab75189",
      "metadata": {
        "id": "7ac76d23-0dd5-4224-bc8b-ad8d8ab75189"
      },
      "source": [
        "n=input(\"input number:\")\n",
        "result= factorial(n)\n",
        "print(result)"
      ]
    },
    {
      "cell_type": "markdown",
      "id": "1001f0f6-c31a-449e-884f-2fa1b8ff52d8",
      "metadata": {
        "id": "1001f0f6-c31a-449e-884f-2fa1b8ff52d8"
      },
      "source": [
        "## Question 3:\n",
        "With a given integral number n, write a program to generate a dictionary that contains (i, i*i) such that is an integral number between 1 and n (both included). and then the program should print the dictionary.\n",
        "Suppose the following input is supplied to the program:\n",
        "8\n",
        "Then, the output should be:\n",
        "{1: 1, 2: 4, 3: 9, 4: 16, 5: 25, 6: 36, 7: 49, 8: 64}\n",
        "\n",
        "Hints:\n",
        "In case of input data being supplied to the question, it should be assumed to be a console input.\n",
        "Consider use dict()"
      ]
    },
    {
      "cell_type": "code",
      "execution_count": null,
      "id": "366dc4f1-227c-4d59-bbda-a03a85a72986",
      "metadata": {
        "id": "366dc4f1-227c-4d59-bbda-a03a85a72986"
      },
      "outputs": [],
      "source": [
        "def createdict(n):\n",
        "    n=int(n)\n",
        "    my_dict={}\n",
        "    for i in range(1,n+1):\n",
        "        my_dict[i]=i*i\n",
        "        print(i,':',my_dict[i],end=',')"
      ]
    },
    {
      "cell_type": "code",
      "execution_count": null,
      "id": "fad470dd-65d0-4377-a161-b91d67682309",
      "metadata": {
        "id": "fad470dd-65d0-4377-a161-b91d67682309",
        "outputId": "b447e1a3-d9d4-487c-a136-b1e052521339"
      },
      "outputs": [
        {
          "name": "stdin",
          "output_type": "stream",
          "text": [
            "input number: 8\n"
          ]
        },
        {
          "name": "stdout",
          "output_type": "stream",
          "text": [
            "1 : 1,2 : 4,3 : 9,4 : 16,5 : 25,6 : 36,7 : 49,8 : 64,None\n"
          ]
        }
      ],
      "source": [
        "n=input(\"input number:\")\n",
        "result= createdict(n)\n",
        "print(result)"
      ]
    },
    {
      "cell_type": "markdown",
      "id": "93a2c31b-c140-4653-bd6f-e72890d29767",
      "metadata": {
        "id": "93a2c31b-c140-4653-bd6f-e72890d29767"
      },
      "source": [
        "## Question 4:\n",
        "Write a program which accepts a sequence of comma-separated numbers from console and generate a list and a tuple which contains every number.\n",
        "Suppose the following input is supplied to the program:\n",
        "34,67,55,33,12,98\n",
        "Then, the output should be:\n",
        "['34', '67', '55', '33', '12', '98']\n",
        "('34', '67', '55', '33', '12', '98')\n",
        "\n",
        "Hints:\n",
        "In case of input data being supplied to the question, it should be assumed to be a console input.\n",
        "tuple() method can convert list to tuple"
      ]
    },
    {
      "cell_type": "code",
      "execution_count": null,
      "id": "706e6778-ff90-4d58-a8b1-13c812824ac8",
      "metadata": {
        "colab": {
          "base_uri": "https://localhost:8080/"
        },
        "id": "706e6778-ff90-4d58-a8b1-13c812824ac8",
        "outputId": "b7ae906a-cea6-49b2-a678-114fa4dbd20c"
      },
      "outputs": [
        {
          "output_type": "stream",
          "name": "stdout",
          "text": [
            "5,10,15\n",
            "['5', '10', '15']\n",
            "('5', '10', '15')\n"
          ]
        }
      ],
      "source": [
        "def List_tup(n):\n",
        "    w=n.split(',')\n",
        "    print(w)\n",
        "    t= tuple(w)\n",
        "    print(t)\n",
        "\n",
        "n=input(\"input number:\")\n",
        "result= List_tup(n)\n",
        "print(result)"
      ]
    },
    {
      "cell_type": "markdown",
      "source": [
        "##Question 5:\n",
        "Define a class which has at least two methods:\n",
        "getString: to get a string from console input\n",
        "printString: to print the string in upper case.\n",
        "Also please include simple test function to test the class methods.\n",
        "\n",
        "Hints:\n",
        "Use _init_ method to construct some parameters"
      ],
      "metadata": {
        "id": "3yOAQAUMcVcG"
      },
      "id": "3yOAQAUMcVcG"
    },
    {
      "cell_type": "markdown",
      "source": [
        "### Question 6\n",
        "Level 2\n",
        "Question:\n",
        "Write a program that calculates and prints the value according to the given formula:\n",
        "Q = Square root of [(2 * C * D)/H]\n",
        "Following are the fixed values of C and H:\n",
        "C is 50. H is 30.\n",
        "D is the variable whose values should be input to your program in a comma-separated sequence.\n",
        "Example\n",
        "Let us assume the following comma separated input sequence is given to the program:\n",
        "100,150,180\n",
        "The output of the program should be:\n",
        "18,22,24\n",
        "Hints:\n",
        "If the output received is in decimal form, it should be rounded off to its nearest value (for example, if the output received is 26.0, it should be printed as 26)\n",
        "In case of input data being supplied to the question, it should be assumed to be a console input."
      ],
      "metadata": {
        "id": "gMDhU6YgdIFN"
      },
      "id": "gMDhU6YgdIFN"
    },
    {
      "cell_type": "code",
      "source": [
        "def formula(input):\n",
        "\n",
        "  Listt=input.split(',')\n",
        "  Listt=list(map(int,Listt))\n",
        "  C=50\n",
        "  H=30\n",
        "  for D in Listt:\n",
        "    Q=pow((2*C*D)/H,2)\n",
        "    print(int(Q),end=',')\n",
        "\n",
        "n=input(\"input number:\")\n",
        "formula(n)\n"
      ],
      "metadata": {
        "colab": {
          "base_uri": "https://localhost:8080/"
        },
        "id": "b7dyI0lKdyX_",
        "outputId": "d480c6bb-bb3e-4419-96f3-5e3d855ae66e"
      },
      "id": "b7dyI0lKdyX_",
      "execution_count": null,
      "outputs": [
        {
          "output_type": "stream",
          "name": "stdout",
          "text": [
            "input number:100,150,180\n",
            "111111,250000,360000,"
          ]
        }
      ]
    },
    {
      "cell_type": "markdown",
      "source": [
        "### Question 7\n",
        "Level 2\n",
        "Question:\n",
        "Write a program which takes 2 digits, X,Y as input and generates a 2-dimensional array. The element value in the i-th row and j-th column of the array should be i*j.\n",
        "Note: i=0,1.., X-1; j=0,1,¡­Y-1.\n",
        "Example\n",
        "Suppose the following inputs are given to the program:\n",
        "3,5\n",
        "Then, the output of the program should be:\n",
        "[[0, 0, 0, 0, 0], [0, 1, 2, 3, 4], [0, 2, 4, 6, 8]]\n",
        "Hints:\n",
        "Note: In case of input data being supplied to the question, it should be assumed to be a console input in a comma-separated form."
      ],
      "metadata": {
        "id": "IRsjcPQDj9jY"
      },
      "id": "IRsjcPQDj9jY"
    },
    {
      "cell_type": "code",
      "source": [
        "# prompt: Write a program which takes 2 digits, X,Y as input and generates a 2-dimensional array\n",
        "\n",
        "def twoD_array(x,y):\n",
        "  arr = [[0 for i in range(y)] for j in range(x)]\n",
        "  for i in range(x):\n",
        "    for j in range(y):\n",
        "      arr[i][j] = i * j\n",
        "  for i in range(x):\n",
        "    print(arr[i])\n",
        "\n",
        "x,y = map(int, input().split(\",\"))\n",
        "twoD_array(x,y)\n"
      ],
      "metadata": {
        "colab": {
          "base_uri": "https://localhost:8080/"
        },
        "id": "Ha2kHHxulItL",
        "outputId": "2a7c0020-5f96-491f-a340-026a1339c3d3"
      },
      "id": "Ha2kHHxulItL",
      "execution_count": null,
      "outputs": [
        {
          "output_type": "stream",
          "name": "stdout",
          "text": [
            "3,5\n",
            "[0, 0, 0, 0, 0]\n",
            "[0, 1, 2, 3, 4]\n",
            "[0, 2, 4, 6, 8]\n"
          ]
        }
      ]
    },
    {
      "cell_type": "markdown",
      "source": [
        "### Question 8\n",
        "Level 2\n",
        "Question:\n",
        "Write a program that accepts a comma separated sequence of words as input and prints the words in a comma-separated sequence after sorting them alphabetically.\n",
        "Suppose the following input is supplied to the program:\n",
        "without,hello,bag,world\n",
        "Then, the output should be:\n",
        "bag,hello,without,world\n",
        "Hints:\n",
        "In case of input data being supplied to the question, it should be assumed to be a console input."
      ],
      "metadata": {
        "id": "ElLyoN2JoPj0"
      },
      "id": "ElLyoN2JoPj0"
    },
    {
      "cell_type": "code",
      "source": [
        "x=input('Get the string')\n",
        "lists=x.split(',')\n",
        "lists.sort()\n",
        "print(lists)"
      ],
      "metadata": {
        "colab": {
          "base_uri": "https://localhost:8080/"
        },
        "id": "f_6kgkt5oPIP",
        "outputId": "24916d2d-ae82-428d-8c42-36ff280cf943"
      },
      "id": "f_6kgkt5oPIP",
      "execution_count": null,
      "outputs": [
        {
          "output_type": "stream",
          "name": "stdout",
          "text": [
            "Get the stringhasan,umer,abdullah\n",
            "['abdullah', 'hasan', 'umer']\n"
          ]
        }
      ]
    },
    {
      "cell_type": "markdown",
      "source": [
        "### Question 9\n",
        "Level 2\n",
        "Question£º\n",
        "Write a program that accepts sequence of lines as input and prints the lines after making all characters in the sentence capitalized.\n",
        "Suppose the following input is supplied to the program:\n",
        "Hello world\n",
        "Practice makes perfect\n",
        "Then, the output should be:\n",
        "HELLO WORLD\n",
        "PRACTICE MAKES PERFECT\n",
        "Hints:\n",
        "In case of input data being supplied to the question, it should be assumed to be a console input.\n"
      ],
      "metadata": {
        "id": "LwIT1yQ-p3zD"
      },
      "id": "LwIT1yQ-p3zD"
    },
    {
      "cell_type": "code",
      "source": [
        "lines=[]\n",
        "while True:\n",
        "  l=input('enter a line')\n",
        "  if l:\n",
        "    lines.append(l.upper())\n",
        "  else:\n",
        "    break\n",
        "for i in lines:\n",
        "    print(i)"
      ],
      "metadata": {
        "colab": {
          "base_uri": "https://localhost:8080/"
        },
        "id": "xNbZVnaDpHUr",
        "outputId": "487611d5-a93c-49c5-8284-cb16b1c3e3e9"
      },
      "id": "xNbZVnaDpHUr",
      "execution_count": null,
      "outputs": [
        {
          "output_type": "stream",
          "name": "stdout",
          "text": [
            "enter a linemy name is\n",
            "enter a linehasan\n",
            "enter a line\n",
            "MY NAME IS\n",
            "HASAN\n"
          ]
        }
      ]
    },
    {
      "cell_type": "markdown",
      "source": [
        "### Question 10\n",
        "Level 2\n",
        "Question:\n",
        "Write a program that accepts a sequence of whitespace separated words as input and prints the words after removing all duplicate words and sorting them alphanumerically.\n",
        "Suppose the following input is supplied to the program:\n",
        "hello world and practice makes perfect and hello world again\n",
        "Then, the output should be:\n",
        "again and hello makes perfect practice world\n",
        "Hints:\n",
        "In case of input data being supplied to the question, it should be assumed to be a console input.\n",
        "We use set container to remove duplicated data automatically and then use sorted() to sort the data.\n"
      ],
      "metadata": {
        "id": "UprQBNtctDNA"
      },
      "id": "UprQBNtctDNA"
    },
    {
      "cell_type": "code",
      "source": [
        "x=input('Get the string')\n",
        "lists=x.split(' ')\n",
        "my_set=set(lists)\n",
        "lists=list(my_set)\n",
        "lists.sort()\n",
        "for i in lists:\n",
        "  print(i,end=' ')"
      ],
      "metadata": {
        "colab": {
          "base_uri": "https://localhost:8080/"
        },
        "id": "ekA2QKXeqNsp",
        "outputId": "8d44294e-f73f-4deb-ddbf-05b42e458455"
      },
      "id": "ekA2QKXeqNsp",
      "execution_count": null,
      "outputs": [
        {
          "output_type": "stream",
          "name": "stdout",
          "text": [
            "Get the stringmy name is hasan\n",
            "hasan is my name "
          ]
        }
      ]
    },
    {
      "cell_type": "markdown",
      "source": [
        "### Question 11\n",
        "Level 2\n",
        "Question:\n",
        "Write a program which accepts a sequence of comma separated 4 digit binary numbers as its input and then check whether they are divisible by 5 or not. The numbers that are divisible by 5 are to be printed in a comma separated sequence.\n",
        "Example:\n",
        "0100,0011,1010,1001\n",
        "Then the output should be:\n",
        "1010\n",
        "Notes: Assume the data is input by console.\n",
        "Hints:\n",
        "In case of input data being supplied to the question, it should be assumed to be a console input."
      ],
      "metadata": {
        "id": "P98cL1KWuJzK"
      },
      "id": "P98cL1KWuJzK"
    },
    {
      "cell_type": "code",
      "source": [
        "x=input('Get the string')\n",
        "lists=x.split(',')\n",
        "for i in lists:\n",
        "  if len(i)<4:\n",
        "    print('input 4 digit numbers')\n",
        "    break\n",
        "  elif int(i)%5==0:\n",
        "    print(i,end=',')"
      ],
      "metadata": {
        "colab": {
          "base_uri": "https://localhost:8080/"
        },
        "id": "8MCs-qh4tdfH",
        "outputId": "07a95fe2-0aab-475f-a832-adbcd493675a"
      },
      "id": "8MCs-qh4tdfH",
      "execution_count": null,
      "outputs": [
        {
          "output_type": "stream",
          "name": "stdout",
          "text": [
            "Get the string0100,0011,1010,1001\n",
            "0100,1010,"
          ]
        }
      ]
    },
    {
      "cell_type": "markdown",
      "source": [
        "### Question 12\n",
        "Level 2\n",
        "Question:\n",
        "Write a program, which will find all such numbers between 1000 and 3000 (both included) such that each digit of the number is an even number.\n",
        "The numbers obtained should be printed in a comma-separated sequence on a single line.\n",
        "Hints:\n",
        "In case of input data being supplied to the question, it should be assumed to be a console input.\n"
      ],
      "metadata": {
        "id": "jUy21uuxwHoh"
      },
      "id": "jUy21uuxwHoh"
    },
    {
      "cell_type": "code",
      "source": [
        "x,y = map(int, input().split(\",\"))\n",
        "for i in range(x,y+1):\n",
        "  if all(int(z)%2==0 for z in str(i)):\n",
        "    print(i,end=',')"
      ],
      "metadata": {
        "colab": {
          "base_uri": "https://localhost:8080/"
        },
        "id": "5XbB8DYHvR0f",
        "outputId": "8431674f-0a56-4fef-e547-742b83734bf7"
      },
      "id": "5XbB8DYHvR0f",
      "execution_count": null,
      "outputs": [
        {
          "output_type": "stream",
          "name": "stdout",
          "text": [
            "1000,5222\n",
            "2000,2002,2004,2006,2008,2020,2022,2024,2026,2028,2040,2042,2044,2046,2048,2060,2062,2064,2066,2068,2080,2082,2084,2086,2088,2200,2202,2204,2206,2208,2220,2222,2224,2226,2228,2240,2242,2244,2246,2248,2260,2262,2264,2266,2268,2280,2282,2284,2286,2288,2400,2402,2404,2406,2408,2420,2422,2424,2426,2428,2440,2442,2444,2446,2448,2460,2462,2464,2466,2468,2480,2482,2484,2486,2488,2600,2602,2604,2606,2608,2620,2622,2624,2626,2628,2640,2642,2644,2646,2648,2660,2662,2664,2666,2668,2680,2682,2684,2686,2688,2800,2802,2804,2806,2808,2820,2822,2824,2826,2828,2840,2842,2844,2846,2848,2860,2862,2864,2866,2868,2880,2882,2884,2886,2888,4000,4002,4004,4006,4008,4020,4022,4024,4026,4028,4040,4042,4044,4046,4048,4060,4062,4064,4066,4068,4080,4082,4084,4086,4088,4200,4202,4204,4206,4208,4220,4222,4224,4226,4228,4240,4242,4244,4246,4248,4260,4262,4264,4266,4268,4280,4282,4284,4286,4288,4400,4402,4404,4406,4408,4420,4422,4424,4426,4428,4440,4442,4444,4446,4448,4460,4462,4464,4466,4468,4480,4482,4484,4486,4488,4600,4602,4604,4606,4608,4620,4622,4624,4626,4628,4640,4642,4644,4646,4648,4660,4662,4664,4666,4668,4680,4682,4684,4686,4688,4800,4802,4804,4806,4808,4820,4822,4824,4826,4828,4840,4842,4844,4846,4848,4860,4862,4864,4866,4868,4880,4882,4884,4886,4888,"
          ]
        }
      ]
    },
    {
      "cell_type": "markdown",
      "source": [
        "### Question 13\n",
        "Level 2\n",
        "Question:\n",
        "Write a program that accepts a sentence and calculate the number of letters and digits.\n",
        "Suppose the following input is supplied to the program:\n",
        "hello world! 123\n",
        "Then, the output should be:\n",
        "LETTERS 10\n",
        "DIGITS 3\n",
        "Hints:\n",
        "In case of input data being supplied to the question, it should be assumed to be a console input."
      ],
      "metadata": {
        "id": "LQS8eISHz75Y"
      },
      "id": "LQS8eISHz75Y"
    },
    {
      "cell_type": "code",
      "source": [
        "x=input('Get the string')\n",
        "lists=x.split(' ')\n",
        "digit=0\n",
        "character=0\n",
        "for i in lists:\n",
        "  for x in str(i):\n",
        "    if x.isnumeric():\n",
        "      digit=digit+1\n",
        "    else:\n",
        "      character=character+1\n",
        "print('LETTERS',character,'DIGITS',digit)"
      ],
      "metadata": {
        "colab": {
          "base_uri": "https://localhost:8080/"
        },
        "id": "rKAmAUO0y0qz",
        "outputId": "1ab665aa-b8d8-4533-b32e-50cb540268f2"
      },
      "id": "rKAmAUO0y0qz",
      "execution_count": null,
      "outputs": [
        {
          "output_type": "stream",
          "name": "stdout",
          "text": [
            "Get the stringgdt 33\n",
            "LETTERS 3 DIGITS 2\n"
          ]
        }
      ]
    },
    {
      "cell_type": "markdown",
      "source": [
        "### Question 14\n",
        "Level 2\n",
        "Question:\n",
        "Write a program that accepts a sentence and calculate the number of upper case letters and lower case letters.\n",
        "Suppose the following input is supplied to the program:\n",
        "Hello world!\n",
        "Then, the output should be:\n",
        "UPPER CASE 1\n",
        "LOWER CASE 9\n",
        "Hints:\n",
        "In case of input data being supplied to the question, it should be assumed to be a console input."
      ],
      "metadata": {
        "id": "TZdkv8ls2s0P"
      },
      "id": "TZdkv8ls2s0P"
    },
    {
      "cell_type": "code",
      "source": [
        "x=input('Get the string')\n",
        "lists=x.split(' ')\n",
        "upper=0\n",
        "lower=0\n",
        "for i in lists:\n",
        "  for x in str(i):\n",
        "    if x.isupper():\n",
        "      upper=upper+1\n",
        "    elif x.islower():\n",
        "      lower=lower+1\n",
        "print('Uppercase',upper,'lower',lower)"
      ],
      "metadata": {
        "colab": {
          "base_uri": "https://localhost:8080/"
        },
        "id": "Zjgo5kXm18Sh",
        "outputId": "c0ac4165-35bc-4f4f-8827-db939d5e54cd"
      },
      "id": "Zjgo5kXm18Sh",
      "execution_count": null,
      "outputs": [
        {
          "output_type": "stream",
          "name": "stdout",
          "text": [
            "Get the stringmy NaMe\n",
            "Uppercase 2 lower 4\n"
          ]
        }
      ]
    },
    {
      "cell_type": "markdown",
      "source": [
        "### Question 15\n",
        "Level 2\n",
        "Question:\n",
        "Write a program that computes the value of a+aa+aaa+aaaa with a given digit as the value of a.\n",
        "Suppose the following input is supplied to the program:\n",
        "9\n",
        "Then, the output should be:\n",
        "11106\n",
        "Hints:\n",
        "In case of input data being supplied to the question, it should be assumed to be a console input."
      ],
      "metadata": {
        "id": "u2FKVQwy3xQ5"
      },
      "id": "u2FKVQwy3xQ5"
    },
    {
      "cell_type": "code",
      "source": [
        "a = int(input())\n",
        "print(a + int(str(a) + str(a)) + int(str(a) + str(a) + str(a)) + int(str(a) + str(a) + str(a) + str(a)))\n"
      ],
      "metadata": {
        "colab": {
          "base_uri": "https://localhost:8080/"
        },
        "id": "kqYVs3Zs3w1P",
        "outputId": "3affab41-95f2-40ac-e8e7-8220cebc5a3c"
      },
      "id": "kqYVs3Zs3w1P",
      "execution_count": null,
      "outputs": [
        {
          "output_type": "stream",
          "name": "stdout",
          "text": [
            "9\n",
            "11106\n"
          ]
        }
      ]
    },
    {
      "cell_type": "markdown",
      "source": [
        "### Question 16\n",
        "Level 2\n",
        "Question:\n",
        "Use a list comprehension to square each odd number in a list. The list is input by a sequence of comma-separated numbers.\n",
        "Suppose the following input is supplied to the program:\n",
        "1,2,3,4,5,6,7,8,9\n",
        "Then, the output should be:\n",
        "1,3,5,7,9\n",
        "Hints:\n",
        "In case of input data being supplied to the question, it should be assumed to be a console input."
      ],
      "metadata": {
        "id": "RFv1-EgE4tYz"
      },
      "id": "RFv1-EgE4tYz"
    },
    {
      "cell_type": "code",
      "source": [
        "x=input('Get the list')\n",
        "lists=x.split(',')\n",
        "newlist = [x for x in lists if int(x)%2!=0]\n",
        "for i in newlist:\n",
        "  print(i,end=',')"
      ],
      "metadata": {
        "colab": {
          "base_uri": "https://localhost:8080/"
        },
        "id": "L68yvoaw3s0S",
        "outputId": "1e9583c1-8b0a-464f-fea6-6e50252d6a3e"
      },
      "id": "L68yvoaw3s0S",
      "execution_count": null,
      "outputs": [
        {
          "output_type": "stream",
          "name": "stdout",
          "text": [
            "Get the list1,2,3,4,5\n",
            "1,3,5,"
          ]
        }
      ]
    },
    {
      "cell_type": "markdown",
      "source": [
        "### Question 17\n",
        "Level 2\n",
        "Question:\n",
        "Write a program that computes the net amount of a bank account based a transaction log from console input. The transaction log format is shown as following:\n",
        "D 100\n",
        "W 200\n",
        "D means deposit while W means withdrawal.\n",
        "Suppose the following input is supplied to the program:\n",
        "D 300\n",
        "D 300\n",
        "W 200\n",
        "D 100\n",
        "Then, the output should be:\n",
        "500\n",
        "Hints:\n",
        "In case of input data being supplied to the question, it should be assumed to be a console input."
      ],
      "metadata": {
        "id": "QAkpUtx07-BA"
      },
      "id": "QAkpUtx07-BA"
    },
    {
      "cell_type": "code",
      "source": [
        "balance = 0\n",
        "while True:\n",
        "  transaction = input()\n",
        "  if transaction:\n",
        "    if transaction[0] == 'D':\n",
        "      balance += int(transaction[2:])\n",
        "    elif transaction[0] == 'W':\n",
        "      balance -= int(transaction[2:])\n",
        "  else:\n",
        "    break\n",
        "print(balance)"
      ],
      "metadata": {
        "colab": {
          "base_uri": "https://localhost:8080/"
        },
        "id": "pQuxoba29wne",
        "outputId": "2ac4f3e7-158c-4f3e-ff60-2fad0e905260"
      },
      "id": "pQuxoba29wne",
      "execution_count": null,
      "outputs": [
        {
          "output_type": "stream",
          "name": "stdout",
          "text": [
            "D 400\n",
            "W 50\n",
            "\n",
            "350\n"
          ]
        }
      ]
    },
    {
      "cell_type": "markdown",
      "source": [
        "### Question 18\n",
        "Level 3\n",
        "Question:\n",
        "A website requires the users to input username and password to register. Write a program to check the validity of password input by users.\n",
        "Following are the criteria for checking the password:\n",
        "1. At least 1 letter between [a-z]\n",
        "2. At least 1 number between [0-9]\n",
        "1. At least 1 letter between [A-Z]\n",
        "3. At least 1 character from [$#@]\n",
        "4. Minimum length of transaction password: 6\n",
        "5. Maximum length of transaction password: 12\n",
        "Your program should accept a sequence of comma separated passwords and will check them according to the above criteria. Passwords that match the criteria are to be printed, each separated by a comma.\n",
        "Example\n",
        "If the following passwords are given as input to the program:\n",
        "ABd1234@1,a F1#,2w3E*,2We3345\n",
        "Then, the output of the program should be:\n",
        "ABd1234@1\n",
        "Hints:\n",
        "In case of input data being supplied to the question, it should be assumed to be a console input."
      ],
      "metadata": {
        "id": "6wtXoxLM_npr"
      },
      "id": "6wtXoxLM_npr"
    },
    {
      "cell_type": "code",
      "source": [
        "import re\n",
        "x=input('Get the string')\n",
        "lists=x.split(',')\n",
        "for i in lists:\n",
        "  if len(i)>=6 and len(i)<=12:\n",
        "    if re.search('[a-z]',i):\n",
        "      if re.search('[A-Z]',i):\n",
        "        if re.search('[0-9]',i):\n",
        "          if re.search('[$#@]',i):\n",
        "            print(i,end=',')"
      ],
      "metadata": {
        "colab": {
          "base_uri": "https://localhost:8080/"
        },
        "id": "oK835eba9Cat",
        "outputId": "4eb0d2f5-174e-4ba2-9dde-5cefb94b0bbb"
      },
      "id": "oK835eba9Cat",
      "execution_count": null,
      "outputs": [
        {
          "name": "stdout",
          "output_type": "stream",
          "text": [
            "Get the stringhdsd,dsed3\n"
          ]
        }
      ]
    },
    {
      "cell_type": "markdown",
      "source": [
        "### Question 19\n",
        "Level 3\n",
        "Question:\n",
        "You are required to write a program to sort the (name, age, height) tuples by ascending order where name is string, age and height are numbers. The tuples are input by console. The sort criteria is:\n",
        "1: Sort based on name;\n",
        "2: Then sort based on age;\n",
        "3: Then sort by score.\n",
        "The priority is that name > age > score.\n",
        "If the following tuples are given as input to the program:\n",
        "Tom,19,80\n",
        "John,20,90\n",
        "Jony,17,91\n",
        "Jony,17,93\n",
        "Json,21,85\n",
        "Then, the output of the program should be:\n",
        "[('John', '20', '90'), ('Jony', '17', '91'), ('Jony', '17', '93'), ('Json', '21', '85'), ('Tom', '19', '80')]\n",
        "Hints:\n",
        "In case of input data being supplied to the question, it should be assumed to be a console input.\n",
        "We use itemgetter to enable multiple sort keys."
      ],
      "metadata": {
        "id": "ZFB8PezvvtyA"
      },
      "id": "ZFB8PezvvtyA"
    },
    {
      "cell_type": "code",
      "source": [
        "from operator import itemgetter\n",
        "\n",
        "people_info = []\n",
        "while True:\n",
        "    individual_info = input()\n",
        "\n",
        "    if individual_info == \"\":\n",
        "        break\n",
        "    else:\n",
        "        people_info.append(tuple(individual_info.split(',')))\n",
        "people_info.sort(key =  itemgetter(0, 1, 2))\n",
        "print(people_info)"
      ],
      "metadata": {
        "id": "lwVshnchBEGQ",
        "colab": {
          "base_uri": "https://localhost:8080/"
        },
        "outputId": "21d91fa9-0dba-4691-8e39-262b8b5cda28"
      },
      "id": "lwVshnchBEGQ",
      "execution_count": null,
      "outputs": [
        {
          "output_type": "stream",
          "name": "stdout",
          "text": [
            "tom,19,80\n",
            "John,20,90\n",
            "Jony,17,91\n",
            "Jony,17,93\n",
            "Json,21,85\n",
            "\n",
            "[('John', '20', '90'), ('Jony', '17', '91'), ('Jony', '17', '93'), ('Json', '21', '85'), ('tom', '19', '80')]\n"
          ]
        }
      ]
    },
    {
      "cell_type": "markdown",
      "source": [
        "### Question 20\n",
        "Level 3\n",
        "Question:\n",
        "Define a class with a generator which can iterate the numbers, which are divisible by 7, between a given range 0 and n.\n",
        "Hints:\n",
        "Consider use yield\n"
      ],
      "metadata": {
        "id": "DulhZ5uS30cp"
      },
      "id": "DulhZ5uS30cp"
    },
    {
      "cell_type": "code",
      "source": [],
      "metadata": {
        "id": "xL01SkWW8m9z"
      },
      "id": "xL01SkWW8m9z",
      "execution_count": null,
      "outputs": []
    },
    {
      "cell_type": "markdown",
      "source": [
        "### Question 21\n",
        "Level 3\n",
        "Question\n",
        "A robot moves in a plane starting from the original point (0,0). The robot can move toward UP, DOWN, LEFT and RIGHT with a given steps. The trace of robot movement is shown as the following:\n",
        "UP 5\n",
        "DOWN 3\n",
        "LEFT 3\n",
        "RIGHT 2\n",
        "¡­\n",
        "The numbers after the direction are steps. Please write a program to compute the distance from current position after a sequence of movement and original point. If the distance is a float, then just print the nearest integer.\n",
        "Example:\n",
        "If the following tuples are given as input to the program:\n",
        "UP 5\n",
        "DOWN 3\n",
        "LEFT 3\n",
        "RIGHT 2\n",
        "Then, the output of the program should be:\n",
        "2"
      ],
      "metadata": {
        "id": "TzgDYcyJ8nnr"
      },
      "id": "TzgDYcyJ8nnr"
    },
    {
      "cell_type": "code",
      "source": [
        "import math\n",
        "\n",
        "x, y = 0, 0\n",
        "\n",
        "while True:\n",
        "    step = input(\"Type in UP/DOWN/LEFT/RIGHT #step number: \")\n",
        "\n",
        "    if step == \"\":\n",
        "        break\n",
        "\n",
        "    else:\n",
        "        step = step.split(\" \")\n",
        "\n",
        "        if step[0] == \"UP\":\n",
        "            y = y + int(step[1])\n",
        "        elif step[0] == \"DOWN\":\n",
        "            y = y - int(step[1])\n",
        "        elif step[0] == \"LEFT\":\n",
        "            x = x - int(step[1])\n",
        "        elif step[0] == \"RIGHT\":\n",
        "            x = x + int(step[1])\n",
        "\n",
        "c = int(math.sqrt(pow(x,2) + pow(y,2)))\n",
        "\n",
        "print(\"Distance:\", c)"
      ],
      "metadata": {
        "colab": {
          "base_uri": "https://localhost:8080/"
        },
        "id": "0TeWflEx3P2y",
        "outputId": "dc4d9314-28b9-4ba6-e683-50a7bd3162f5"
      },
      "id": "0TeWflEx3P2y",
      "execution_count": null,
      "outputs": [
        {
          "output_type": "stream",
          "name": "stdout",
          "text": [
            "Type in UP/DOWN/LEFT/RIGHT #step number: UP 5\n",
            "Type in UP/DOWN/LEFT/RIGHT #step number: DOWN 3\n",
            "Type in UP/DOWN/LEFT/RIGHT #step number: LEFT 3\n",
            "Type in UP/DOWN/LEFT/RIGHT #step number: RIGHT 2\n",
            "Type in UP/DOWN/LEFT/RIGHT #step number: \n",
            "Distance: 2\n"
          ]
        }
      ]
    },
    {
      "cell_type": "markdown",
      "source": [],
      "metadata": {
        "id": "3OVq62PH37LR"
      },
      "id": "3OVq62PH37LR"
    },
    {
      "cell_type": "markdown",
      "source": [
        "### Question 22\n",
        "Level 3\n",
        "Question:\n",
        "Write a program to compute the frequency of the words from the input. The output should output after sorting the key alphanumerically.\n",
        "Suppose the following input is supplied to the program:\n",
        "New to Python or choosing between Python 2 and Python 3? Read Python 2 or Python 3.\n",
        "Then, the output should be:\n",
        "2:2\n",
        "3.:1\n",
        "3?:1\n",
        "New:1\n",
        "Python:5\n",
        "Read:1\n",
        "and:1\n",
        "between:1\n",
        "choosing:1\n",
        "or:2\n",
        "to:1\n",
        "Hints\n",
        "In case of input data being supplied to the question, it should be assumed to be a console input."
      ],
      "metadata": {
        "id": "rA-IKByS81wK"
      },
      "id": "rA-IKByS81wK"
    },
    {
      "cell_type": "code",
      "source": [
        "import operator\n",
        "\n",
        "text_line = input(\"Type in: \")\n",
        "\n",
        "freq_dict = {}\n",
        "\n",
        "for i in text_line.split(' '):\n",
        "    if i.isalpha():\n",
        "        if i not in freq_dict:\n",
        "            freq_dict[i] = 1\n",
        "        elif i in freq_dict:\n",
        "            freq_dict[i] = freq_dict[i] + 1\n",
        "    else:\n",
        "        continue\n",
        "\n",
        "sorted_freq_dict = sorted(freq_dict.items(), key = operator.itemgetter(0))\n",
        "print(sorted_freq_dict)\n",
        "\n",
        "for i in sorted_freq_dict:\n",
        "    print(i[0], i[1])\n"
      ],
      "metadata": {
        "colab": {
          "base_uri": "https://localhost:8080/"
        },
        "id": "qrmixHph96D6",
        "outputId": "019723e2-117e-4fb5-e9cb-cb084aeaa737"
      },
      "id": "qrmixHph96D6",
      "execution_count": null,
      "outputs": [
        {
          "output_type": "stream",
          "name": "stdout",
          "text": [
            "Type in: New to Python or choosing between Python 2 and Python 3? Read Python 2 or Python 3.\n",
            "[('New', 1), ('Python', 5), ('Read', 1), ('and', 1), ('between', 1), ('choosing', 1), ('or', 2), ('to', 1)]\n",
            "New 1\n",
            "Python 5\n",
            "Read 1\n",
            "and 1\n",
            "between 1\n",
            "choosing 1\n",
            "or 2\n",
            "to 1\n"
          ]
        }
      ]
    },
    {
      "cell_type": "markdown",
      "source": [
        "### Question 23\n",
        "level 1\n",
        "Question:\n",
        "Write a method which can calculate square value of number\n",
        "Hints:\n",
        "Using the ** operator\n"
      ],
      "metadata": {
        "id": "jnEeXd8_AMrM"
      },
      "id": "jnEeXd8_AMrM"
    },
    {
      "cell_type": "code",
      "source": [
        "def square(a):\n",
        "    return a ** 2\n"
      ],
      "metadata": {
        "id": "59LQ9vRO82oD"
      },
      "id": "59LQ9vRO82oD",
      "execution_count": null,
      "outputs": []
    },
    {
      "cell_type": "markdown",
      "source": [],
      "metadata": {
        "id": "MueHLVq5AQO0"
      },
      "id": "MueHLVq5AQO0"
    }
  ],
  "metadata": {
    "kernelspec": {
      "display_name": "Python 3 (ipykernel)",
      "language": "python",
      "name": "python3"
    },
    "language_info": {
      "codemirror_mode": {
        "name": "ipython",
        "version": 3
      },
      "file_extension": ".py",
      "mimetype": "text/x-python",
      "name": "python",
      "nbconvert_exporter": "python",
      "pygments_lexer": "ipython3",
      "version": "3.11.4"
    },
    "colab": {
      "provenance": []
    }
  },
  "nbformat": 4,
  "nbformat_minor": 5
}