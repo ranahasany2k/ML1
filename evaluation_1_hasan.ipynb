{
 "cells": [
  {
   "cell_type": "markdown",
   "id": "3443b3de",
   "metadata": {},
   "source": [
    "### Question 1\n",
    "Given a list of integers nums and an integer target, return <i>indices of the two numbers such that they add up to target<i>. <br>\n",
    "\n",
    "Example 1:<br>\n",
    "\n",
    "Input: nums = [2,7,11,15], target = 9<br>\n",
    "Output: [0,1]"
   ]
  },
  {
   "cell_type": "code",
   "execution_count": 11,
   "id": "ff1e5aa2",
   "metadata": {},
   "outputs": [
    {
     "name": "stdin",
     "output_type": "stream",
     "text": [
      "Input nums =  2,5,7\n",
      "enter target 7\n"
     ]
    },
    {
     "name": "stdout",
     "output_type": "stream",
     "text": [
      "first index=  0  second index =  1\n"
     ]
    }
   ],
   "source": [
    "def getsum(lists,target):\n",
    "    i=0\n",
    "    j=0\n",
    "    l=len(lists)\n",
    "    for i in range(0,l+1):\n",
    "        for j in range(i,l):\n",
    "            if int(lists[i])+int(lists[j])==int(target):\n",
    "                print('first index= ',i,' second index = ',j)\n",
    "                return\n",
    "    print('not found')\n",
    "\n",
    "num=input('Input nums = ').split(',')\n",
    "target=input('enter target')\n",
    "getsum(num,target)\n",
    "            \n",
    "            \n",
    "    "
   ]
  },
  {
   "cell_type": "markdown",
   "id": "e473f396",
   "metadata": {},
   "source": [
    "### Question 2\n",
    "Given an integer x,<i> return true if x is a <br>\n",
    "palindrome</i><br>\n",
    ", and false otherwise. <br>\n",
    "Example 1:<br>\n",
    "\n",
    "Input: x = 121<br>\n",
    "Output: true<br>\n"
   ]
  },
  {
   "cell_type": "code",
   "execution_count": 22,
   "id": "83e210c0",
   "metadata": {},
   "outputs": [
    {
     "name": "stdin",
     "output_type": "stream",
     "text": [
      "enter number 121\n"
     ]
    }
   ],
   "source": [
    "def palindrome(num):\n",
    "    i=0\n",
    "    j=0\n",
    "    l=len(num)\n",
    "    mark=5\n",
    "    for i in range(0,int((l+1)/2)):\n",
    "        for j in range(l,int((l+1)/2)):\n",
    "            if int(num[i])==int(num[j]):\n",
    "                print('yes')\n",
    "                mark=0\n",
    "            else:\n",
    "                mark=1\n",
    "                return False\n",
    "    if mark==0:\n",
    "        return True\n",
    "\n",
    "target=input('enter number')\n",
    "palindrome(target)"
   ]
  },
  {
   "cell_type": "markdown",
   "id": "a2f1a21b",
   "metadata": {},
   "source": [
    "### Question 3\n",
    "Given two strings needle and haystack, return the index of the first occurrence of needle in haystack, or -1 if needle is not part of haystack.<br>\n",
    "\n",
    "Example 1:<br>\n",
    "Input: haystack = \"sadbutsad\", needle = \"sad\" <br>\n",
    "Output: 0<br>\n",
    "Explanation: \"sad\" occurs at index 0 and 6.<br>\n",
    "The first occurrence is at index 0, so we return 0.<br>\n",
    "\n",
    "Example 2:<br>\n",
    "Input: haystack = \"apple\", needle = \"appo\"<br>\n",
    "Output: -1<br>\n",
    "Explanation: \"leeto\" did not occur in \"leetcode\", so we return -1.<br>"
   ]
  },
  {
   "cell_type": "code",
   "execution_count": null,
   "id": "d4aeb342",
   "metadata": {},
   "outputs": [],
   "source": [
    "def str_find(a,b):\n",
    "    for i in range(0,len(b)+1):\n",
    "        for j in range(0,len(a)+1):\n",
    "            if a[j]==b[i]:\n",
    "                for k in range(i,i+len(b)+1):\n",
    "                    if a[]\n",
    "\n",
    "\n",
    "x=input('enter haystack')\n",
    "y=input('enter needle')\n",
    "str_find(x,y)"
   ]
  },
  {
   "cell_type": "markdown",
   "id": "916e39e1",
   "metadata": {},
   "source": [
    "### Question 4\n",
    "\n",
    "Enter a number and have the program generate the Fibonacci sequence to that number or to the Nth number."
   ]
  },
  {
   "cell_type": "code",
   "execution_count": 27,
   "id": "2bc0707f",
   "metadata": {},
   "outputs": [
    {
     "name": "stdout",
     "output_type": "stream",
     "text": [
      "[0, 1, 1, 2, 3, 5, 8, 13]\n"
     ]
    }
   ],
   "source": [
    "def fib(x):\n",
    "    lists=[]\n",
    "    lists.append(0)\n",
    "    lists.append(1)\n",
    "    for i in range(2,x):\n",
    "        lists.append(int(lists[i-1])+int(lists[i-2]))\n",
    "    print(lists)\n",
    "\n",
    "fib(8)"
   ]
  },
  {
   "cell_type": "markdown",
   "id": "1f0c9bfa",
   "metadata": {},
   "source": [
    "### Question 5\n",
    "Given two integers, return True if the sum of the integers is 20 or if one of the integers is 20. If not, return False"
   ]
  },
  {
   "cell_type": "code",
   "execution_count": 29,
   "id": "4030ce7f",
   "metadata": {},
   "outputs": [
    {
     "name": "stdin",
     "output_type": "stream",
     "text": [
      "enter first num 20\n",
      "enter second num 5\n"
     ]
    },
    {
     "data": {
      "text/plain": [
       "True"
      ]
     },
     "execution_count": 29,
     "metadata": {},
     "output_type": "execute_result"
    }
   ],
   "source": [
    "def truefalse(x,y):\n",
    "    if int(x)==20 or int(y)==20:\n",
    "        return True\n",
    "    elif int(x)+int(y)==20:\n",
    "        return True\n",
    "    else:\n",
    "        return False\n",
    "\n",
    "x=input('enter first num')\n",
    "y=input('enter second num')\n",
    "truefalse(x,y)"
   ]
  },
  {
   "cell_type": "markdown",
   "id": "947855f9",
   "metadata": {},
   "source": [
    "### Question 6\n",
    "\n",
    "Convert Celsius to Fahrenheit (Use list comprehension)<br>\n",
    "celsius = [0,10,20.1,34.5]"
   ]
  },
  {
   "cell_type": "code",
   "execution_count": 35,
   "id": "ee590475",
   "metadata": {},
   "outputs": [
    {
     "ename": "TypeError",
     "evalue": "'list' object is not callable",
     "output_type": "error",
     "traceback": [
      "\u001b[1;31m---------------------------------------------------------------------------\u001b[0m",
      "\u001b[1;31mTypeError\u001b[0m                                 Traceback (most recent call last)",
      "Cell \u001b[1;32mIn[35], line 8\u001b[0m\n\u001b[0;32m      5\u001b[0m         far\u001b[38;5;241m.\u001b[39mappend(x)\n\u001b[0;32m      6\u001b[0m     \u001b[38;5;28mprint\u001b[39m(far)\n\u001b[1;32m----> 8\u001b[0m \u001b[38;5;28minput\u001b[39m\u001b[38;5;241m=\u001b[39m\u001b[38;5;28;43minput\u001b[39;49m\u001b[43m(\u001b[49m\u001b[38;5;124;43m'\u001b[39;49m\u001b[38;5;124;43menter\u001b[39;49m\u001b[38;5;124;43m'\u001b[39;49m\u001b[43m)\u001b[49m\u001b[38;5;241m.\u001b[39msplit(\u001b[38;5;124m'\u001b[39m\u001b[38;5;124m,\u001b[39m\u001b[38;5;124m'\u001b[39m)\n\u001b[0;32m      9\u001b[0m CelToFar(\u001b[38;5;28minput\u001b[39m)\n",
      "\u001b[1;31mTypeError\u001b[0m: 'list' object is not callable"
     ]
    }
   ],
   "source": [
    "def CelToFar(lists):\n",
    "    far=[]\n",
    "    for i in range(0,len(lists)+1):\n",
    "        x=int(i)*(9/5)+32\n",
    "        far.append(x)\n",
    "    print(far)\n",
    "\n",
    "input=input('enter').split(',')\n",
    "CelToFar(input)"
   ]
  },
  {
   "cell_type": "markdown",
   "id": "26d6af81",
   "metadata": {},
   "source": [
    "### Question 7\n",
    "\n",
    "Create a simple program to manage a stack? The stack should have a maximum limit of 10 elements. Include two functions: one for adding (pushing) an element to the stack and another for removing (popping) an element from the stack. If the stack is full and someone tries to add an element, return a message saying the stack is full. If the stack is empty and someone tries to remove an element, return a message saying the stack is empty and no element can be removed.<br>\n",
    "\n",
    "<b>Note:</b> Stack follows FIFO (first in first out) rule"
   ]
  },
  {
   "cell_type": "code",
   "execution_count": 38,
   "id": "da16794b",
   "metadata": {},
   "outputs": [
    {
     "ename": "TypeError",
     "evalue": "'list' object is not callable",
     "output_type": "error",
     "traceback": [
      "\u001b[1;31m---------------------------------------------------------------------------\u001b[0m",
      "\u001b[1;31mTypeError\u001b[0m                                 Traceback (most recent call last)",
      "Cell \u001b[1;32mIn[38], line 13\u001b[0m\n\u001b[0;32m     11\u001b[0m x\u001b[38;5;241m=\u001b[39m\u001b[38;5;241m0\u001b[39m\n\u001b[0;32m     12\u001b[0m \u001b[38;5;28;01mwhile\u001b[39;00m \u001b[38;5;28;01mTrue\u001b[39;00m:\n\u001b[1;32m---> 13\u001b[0m     x\u001b[38;5;241m=\u001b[39m\u001b[38;5;28;43minput\u001b[39;49m\u001b[43m(\u001b[49m\u001b[38;5;124;43m'\u001b[39;49m\u001b[38;5;124;43m1- insert an element in the stack\u001b[39;49m\u001b[38;5;124;43m'\u001b[39;49m\u001b[43m)\u001b[49m\n\u001b[0;32m     14\u001b[0m     push(x,lists)\n",
      "\u001b[1;31mTypeError\u001b[0m: 'list' object is not callable"
     ]
    }
   ],
   "source": [
    "def push(x,lists):\n",
    "    if len(lists)==10:\n",
    "        print('more elements cant be pushed')\n",
    "        return\n",
    "    else:\n",
    "        lists.append(x)\n",
    "        print('stack elements are as follows',lists)\n",
    "        return\n",
    "    \n",
    "lists=[]\n",
    "x=0\n",
    "while True:\n",
    "    x=input('1- insert an element in the stack')\n",
    "    push(x,lists)\n"
   ]
  },
  {
   "cell_type": "markdown",
   "id": "c34f3ddd",
   "metadata": {},
   "source": [
    "### Question 8\n",
    "\n",
    "Create a function which will take list as an input argument! If a number can be divided evenly by 3, print \"fizz.\" If it can be divided evenly by 5, print \"buzz.\" And if it can be divided evenly by both 3 and 5, print \"fizzbuzz.\"<br>\n",
    "<b>Note:</b>Use max two conditional statements."
   ]
  },
  {
   "cell_type": "code",
   "execution_count": 39,
   "id": "483439fb",
   "metadata": {},
   "outputs": [
    {
     "ename": "TypeError",
     "evalue": "'list' object is not callable",
     "output_type": "error",
     "traceback": [
      "\u001b[1;31m---------------------------------------------------------------------------\u001b[0m",
      "\u001b[1;31mTypeError\u001b[0m                                 Traceback (most recent call last)",
      "Cell \u001b[1;32mIn[39], line 11\u001b[0m\n\u001b[0;32m      8\u001b[0m             \u001b[38;5;28mprint\u001b[39m(\u001b[38;5;124m'\u001b[39m\u001b[38;5;124mfizz\u001b[39m\u001b[38;5;124m'\u001b[39m)\n\u001b[0;32m     10\u001b[0m lists\u001b[38;5;241m=\u001b[39m[]\n\u001b[1;32m---> 11\u001b[0m lists\u001b[38;5;241m=\u001b[39m\u001b[38;5;28;43minput\u001b[39;49m\u001b[43m(\u001b[49m\u001b[38;5;124;43m'\u001b[39;49m\u001b[38;5;124;43minsert lists\u001b[39;49m\u001b[38;5;124;43m'\u001b[39;49m\u001b[43m)\u001b[49m\u001b[38;5;241m.\u001b[39msplit(\u001b[38;5;124m'\u001b[39m\u001b[38;5;124m,\u001b[39m\u001b[38;5;124m'\u001b[39m)\n\u001b[0;32m     12\u001b[0m insertnum(lists)\n",
      "\u001b[1;31mTypeError\u001b[0m: 'list' object is not callable"
     ]
    }
   ],
   "source": [
    "def insert_num(lists):\n",
    "    for i in lists:\n",
    "        if int(i)%3==0 and int(i)%5==0:\n",
    "            print('fizzbuzz')\n",
    "        elif int(i)%5==0:\n",
    "            print('buzz')\n",
    "        elif int(i)%3==0:\n",
    "            print('fizz')\n",
    "\n",
    "lists=[]\n",
    "lists=input('insert lists').split(',')\n",
    "insertnum(lists)"
   ]
  },
  {
   "cell_type": "code",
   "execution_count": null,
   "id": "08c682b6-4e23-44f7-867d-9d5629a2a239",
   "metadata": {},
   "outputs": [],
   "source": []
  }
 ],
 "metadata": {
  "kernelspec": {
   "display_name": "Python 3 (ipykernel)",
   "language": "python",
   "name": "python3"
  },
  "language_info": {
   "codemirror_mode": {
    "name": "ipython",
    "version": 3
   },
   "file_extension": ".py",
   "mimetype": "text/x-python",
   "name": "python",
   "nbconvert_exporter": "python",
   "pygments_lexer": "ipython3",
   "version": "3.11.4"
  }
 },
 "nbformat": 4,
 "nbformat_minor": 5
}
